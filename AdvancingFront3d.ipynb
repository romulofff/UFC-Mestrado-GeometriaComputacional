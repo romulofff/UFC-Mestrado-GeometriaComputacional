{
 "cells": [
  {
   "cell_type": "code",
   "execution_count": null,
   "metadata": {
    "ExecuteTime": {
     "end_time": "2021-08-31T15:00:01.570634Z",
     "start_time": "2021-08-31T15:00:01.563194Z"
    }
   },
   "outputs": [],
   "source": [
    "import os\n",
    "import math\n",
    "import time\n",
    "from collections import deque\n",
    "\n",
    "import numpy as np\n",
    "import matplotlib.pyplot as plt\n",
    "\n",
    "from shapely.geometry import Polygon"
   ]
  },
  {
   "cell_type": "code",
   "execution_count": 2,
   "metadata": {
    "ExecuteTime": {
     "end_time": "2021-08-31T15:00:01.986519Z",
     "start_time": "2021-08-31T15:00:01.974119Z"
    }
   },
   "outputs": [],
   "source": [
    "class Point:\n",
    "    def __init__(self, x, y, z):\n",
    "        self.x = x\n",
    "        self.y = y\n",
    "        self.z = z\n",
    "        self.adj_edges = []\n",
    "\n",
    "    def __call__(self) -> tuple:\n",
    "        return (self.x, self.y, self.z)\n",
    "\n",
    "    def __str__(self) -> str:\n",
    "        return str((self.x, self.y, self.z))\n",
    "\n",
    "    def __eq__(self, other):\n",
    "        return self.__dict__ == other.__dict__\n",
    "\n",
    "    def add_adj_edge(self, edge):\n",
    "        self.adj_edges.append(edge)\n",
    "\n",
    "    def point_is_close(self, p):\n",
    "        if math.isclose(self.x,p.x) and math.isclose(self.y,p.y) and math.isclose(self.z, p.z):\n",
    "            return True\n",
    "        return False\n",
    "            \n",
    "        \n",
    "class Edge:\n",
    "    def __init__(self, p1, p2, visits=0):\n",
    "        if p1.point_is_close(p2):\n",
    "            raise Exception(\"Edge must have two different points. Points given: {} and {}.\".format(p1, p2))\n",
    "        self.p1 = p1\n",
    "        self.p2 = p2\n",
    "        self.visits = visits\n",
    "        p1.add_adj_edge(self)\n",
    "        p2.add_adj_edge(self)\n",
    "\n",
    "    def __str__(self):\n",
    "        return \"{} {}\".format(str(self.p1), str(self.p2))\n",
    "\n",
    "    def __eq__(self, other):\n",
    "        if self.p1 == other.p1 or self.p1 == other.p2:\n",
    "            if self.p2 == other.p1 or self.p2 == other.p2:\n",
    "                return True\n",
    "        return False\n",
    "\n",
    "\n",
    "class Face():\n",
    "    def __init__(self, p1, p2, p3):\n",
    "        # super().__init__(self)\n",
    "        self.p1 = p1\n",
    "        self.p2 = p2\n",
    "        self.p3 = p3\n",
    "\n",
    "        self.e1 = Edge(p1, p2)\n",
    "        self.e2 = Edge(p2, p3)\n",
    "        self.e3 = Edge(p3, p1)\n",
    "\n",
    "        self.spoly = Polygon([[p1.x,p1.y,p1.z],[p2.x,p2.y,p2.z],[p3.x,p3.y,p3.z]])\n",
    "    def __str__(self):\n",
    "        return \"{} {} {}\".format(str(self.p1), str(self.p2), str(self.p3))\n",
    "\n",
    "    def __eq__(self, other):\n",
    "        if self.p1.point_is_close(other.p1) or self.p1.point_is_close(other.p2) or self.p1.point_is_close(other.p3):\n",
    "            if self.p2.point_is_close(other.p1) or self.p2.point_is_close(other.p2) or self.p2.point_is_close(other.p3):\n",
    "                if self.p3.point_is_close(other.p1) or self.p3.point_is_close(other.p2) or self.p3.point_is_close(other.p3):\n",
    "                    return True\n",
    "        return False"
   ]
  },
  {
   "cell_type": "code",
   "execution_count": 3,
   "metadata": {
    "ExecuteTime": {
     "end_time": "2021-08-31T15:00:02.448564Z",
     "start_time": "2021-08-31T15:00:02.430708Z"
    }
   },
   "outputs": [],
   "source": [
    "def read_vertices_from_obj(objPath):\n",
    "    points = []\n",
    "    with open(objPath, 'r') as f:\n",
    "        for line in f:\n",
    "            try:\n",
    "                line = line.replace('v', '')\n",
    "            except:\n",
    "                #                 print(\"Problema na linha\")\n",
    "                continue\n",
    "            line_ = line.split()\n",
    "            try:\n",
    "                points.append(\n",
    "                    Point(float(line_[0]), float(line_[1]), float(line_[2])))\n",
    "            except:\n",
    "                #                 print(\"Problema no ponto\")\n",
    "                continue\n",
    "    return points\n",
    "  \n",
    "        \n",
    "def read_faces_from_obj(objPath):\n",
    "    vertices = read_vertices_from_obj(objPath)\n",
    "    faces = []\n",
    "    with open(objPath, 'r') as f:\n",
    "        for line in f:\n",
    "            try:\n",
    "                line = line.replace('f', '')\n",
    "            except:\n",
    "                continue\n",
    "            line_ = line.split()\n",
    "            try:\n",
    "                new_face = Face(vertices[int(line_[0])-1], vertices[int(line_[1])-1], vertices[int(line_[2])-1])\n",
    "                faces.append(new_face)\n",
    "            except Exception as e:\n",
    "                # print(e)\n",
    "                continue\n",
    "    return faces\n",
    "\n",
    "\n",
    "def write_faces(F, P, filename=False):\n",
    "    i1 = 0\n",
    "    i2 = 0\n",
    "    i3 = 0\n",
    "    if not filename:\n",
    "        filename = os.path.join(os.getcwd(), 'obj', 'faces.obj')\n",
    "    with open(filename, 'w') as f:\n",
    "        for point in P:\n",
    "            f.write(\"v {} {} {}\".format(point.x, point.y, point.z))\n",
    "            f.write('\\n')\n",
    "        f.write('\\n')\n",
    "        for i in range(len(F)):\n",
    "            for j in range(len(P)):\n",
    "                if F[i].p1.x == P[j].x and F[i].p1.y == P[j].y and F[i].p1.z == P[j].z:\n",
    "                    i1 = j\n",
    "                if F[i].p2.x == P[j].x and F[i].p2.y == P[j].y and F[i].p2.z == P[j].z:\n",
    "                    i2 = j\n",
    "                if F[i].p3.x == P[j].x and F[i].p3.y == P[j].y and F[i].p3.z == P[j].z:\n",
    "                    i3 = j\n",
    "            f.writelines(\"f {} {} {}\".format(i1+1, i2+1, i3+1))\n",
    "            f.write('\\n')"
   ]
  },
  {
   "cell_type": "code",
   "execution_count": 4,
   "metadata": {
    "ExecuteTime": {
     "end_time": "2021-08-31T15:00:03.156886Z",
     "start_time": "2021-08-31T15:00:03.140518Z"
    }
   },
   "outputs": [],
   "source": [
    "def cross(a, b):\n",
    "    return Point(a.y*b.z-a.z*b.y, a.z*b.x-a.x*b.z, a.x*b.y-a.y*b.x)\n",
    "\n",
    "def dot(a, b):\n",
    "    return (a.x*b.x)+(a.y*b.y)+(a.z*b.z)\n",
    "\n",
    "def norma(a):\n",
    "    return math.sqrt(a.x*a.x + a.y*a.y + a.z*a.z)\n",
    "\n",
    "def sub(a, b):\n",
    "    return Point(a.x-b.x, a.y-b.y, a.z-b.z)\n",
    "\n",
    "def normal(face):\n",
    "    v1 = sub(face.p2, face.p1)    \n",
    "    v2 = sub(face.p3, face.p1)\n",
    "    return cross(v1,v2)\n",
    "\n",
    "def distance_point_to_plane(p, n, f):\n",
    "    a = n.x\n",
    "    b = n.y\n",
    "    c = n.z\n",
    "    d = a*f.p1.x + b*f.p1.y + c*f.p1.z\n",
    "    dist = (a*p.x+b*p.y+c*p.z+d)/math.sqrt(a**2+b**2+c**2)\n",
    "    dist = abs(dist)\n",
    "    return dist"
   ]
  },
  {
   "cell_type": "code",
   "execution_count": 5,
   "metadata": {
    "ExecuteTime": {
     "end_time": "2021-08-31T15:28:16.049474Z",
     "start_time": "2021-08-31T15:28:16.036081Z"
    }
   },
   "outputs": [],
   "source": [
    "def check_intersection_faces(point, face, faces):\n",
    "    \"\"\"Checks if the faces created with point intersect \n",
    "    a set of known faces.\n",
    "\n",
    "    Args:\n",
    "        point (Point): Point to verify\n",
    "        face (Face): Base face\n",
    "        faces (list): List of known faces\n",
    "    \"\"\"\n",
    "    new_faces = []\n",
    "    f1 = Face(face.e1.p1, point, face.e1.p2)\n",
    "    f2 = Face(face.e2.p1, point, face.e2.p2)\n",
    "    f3 = Face(face.e3.p1, point, face.e3.p2)\n",
    "    for f in faces:\n",
    "        if f.spoly.crosses(f1.spoly):\n",
    "            return True\n",
    "        if f.spoly.crosses(f2.spoly):\n",
    "            return True\n",
    "        if f.spoly.crosses(f3.spoly):\n",
    "            return True\n",
    "    return False"
   ]
  },
  {
   "cell_type": "code",
   "execution_count": 14,
   "metadata": {
    "ExecuteTime": {
     "end_time": "2021-08-31T15:24:11.118054Z",
     "start_time": "2021-08-31T15:24:11.114121Z"
    }
   },
   "outputs": [],
   "source": [
    "def check_if_face_already_exists(face_candidate, faces):\n",
    "    \"\"\"Returns True if face_candidate is already in faces\n",
    "\n",
    "    Args:\n",
    "        face_candidate (Face): Face candidate to enter the frontier\n",
    "        faces (list): List of faces already in the frontier\n",
    "    \"\"\"\n",
    "#     print(\"Face candidata:\",face_candidate)\n",
    "    for face in faces:\n",
    "#         print(face)\n",
    "        if face_candidate == face:\n",
    "            return True\n",
    "    return False"
   ]
  },
  {
   "cell_type": "code",
   "execution_count": 25,
   "metadata": {
    "ExecuteTime": {
     "end_time": "2021-08-31T15:24:30.221201Z",
     "start_time": "2021-08-31T15:24:30.202848Z"
    }
   },
   "outputs": [],
   "source": [
    "def avanco_de_fronteira_3d(hull, points):\n",
    "    faces = hull.copy()\n",
    "    faces_obtidas = hull.copy()\n",
    "    print(len(hull), len(points))\n",
    "\n",
    "    max_dist = -float(\"inf\")\n",
    "    debug = 0\n",
    "    for f in faces:\n",
    "        candidate = None\n",
    "        max_dist = -float(\"inf\")\n",
    "        distances = []\n",
    "        normal_1 = normal(f)\n",
    "        for p in points:\n",
    "            if p.point_is_close(f.p1) or p.point_is_close(f.p2) or p.point_is_close(f.p3):\n",
    "                continue\n",
    "            dist = distance_point_to_plane(p, normal_1, f)\n",
    "            distances.append(dist)\n",
    "            \n",
    "        points = np.array(points)\n",
    "        indexes = np.argsort(distances)\n",
    "        points = points[indexes.tolist()]\n",
    "        points = points.tolist()\n",
    "        for i in range(len(points)):\n",
    "            \n",
    "            if points[i].point_is_close(f.p1) or points[i].point_is_close(f.p2) or points[i].point_is_close(f.p3):\n",
    "                continue\n",
    "            \n",
    "            candidate = None\n",
    "            dist = distances[i]\n",
    "            if dist > max_dist:\n",
    "                if not check_intersection_faces(points[i], f, faces_obtidas):\n",
    "                    max_dist = dist\n",
    "                    candidate = points[i]\n",
    "            if candidate is not None:\n",
    "                f1 = Face(f.e1.p1, candidate, f.e1.p2)\n",
    "                f2 = Face(f.e2.p1, candidate, f.e2.p2)\n",
    "                f3 = Face(f.e3.p1, candidate, f.e3.p2)\n",
    "\n",
    "\n",
    "                if not check_if_face_already_exists(f1, faces) and not f1 == f:\n",
    "                    if not check_if_face_already_exists(f2, faces) and not f2 == f:\n",
    "                        if not check_if_face_already_exists(f3, faces) and not f3 == f:\n",
    "                            faces.append(f1)\n",
    "                            faces.append(f2)\n",
    "                            faces.append(f3)\n",
    "                if not check_if_face_already_exists(f1, faces_obtidas) and not f1 == f:\n",
    "                    if not check_if_face_already_exists(f2, faces_obtidas) and not f2 == f:\n",
    "                        if not check_if_face_already_exists(f3, faces_obtidas) and not f3 == f:\n",
    "                            faces_obtidas.append(f1)\n",
    "                            faces_obtidas.append(f2)\n",
    "                            faces_obtidas.append(f3)\n",
    "                break\n",
    "    return faces_obtidas"
   ]
  },
  {
   "cell_type": "code",
   "execution_count": 24,
   "metadata": {
    "ExecuteTime": {
     "end_time": "2021-08-31T15:31:00.757631Z",
     "start_time": "2021-08-31T15:31:00.744735Z"
    }
   },
   "outputs": [
    {
     "name": "stdout",
     "output_type": "stream",
     "text": [
      "692 14526\n",
      "2003\n"
     ]
    }
   ],
   "source": [
    "obj_file = 'obj/hullControle01.obj'\n",
    "faces = read_faces_from_obj(obj_file)\n",
    "vertices = read_vertices_from_obj(obj_file)\n",
    "res = avanco_de_fronteira_3d(faces, vertices)\n",
    "print(len(res))\n",
    "write_faces(res, vertices, 'obj/tetra_controle01.obj')"
   ]
  }
 ],
 "metadata": {
  "interpreter": {
   "hash": "268667e8c71b25b3049943bd413d98983c026056eac1b8985b3fb7c108555c46"
  },
  "kernelspec": {
   "display_name": "Python 3",
   "language": "python",
   "name": "python3"
  },
  "language_info": {
   "codemirror_mode": {
    "name": "ipython",
    "version": 3
   },
   "file_extension": ".py",
   "mimetype": "text/x-python",
   "name": "python",
   "nbconvert_exporter": "python",
   "pygments_lexer": "ipython3",
   "version": "3.7.5"
  }
 },
 "nbformat": 4,
 "nbformat_minor": 5
}
