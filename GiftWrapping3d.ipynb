{
 "cells": [
  {
   "cell_type": "code",
   "execution_count": 1,
   "metadata": {
    "ExecuteTime": {
     "end_time": "2021-07-20T04:16:20.193551Z",
     "start_time": "2021-07-20T04:16:19.964281Z"
    }
   },
   "outputs": [],
   "source": [
    "from tarefa02.gcrf import Gcrf, Point, Edge, Face"
   ]
  },
  {
   "cell_type": "code",
   "execution_count": 2,
   "metadata": {
    "ExecuteTime": {
     "end_time": "2021-07-20T04:16:20.208986Z",
     "start_time": "2021-07-20T04:16:20.195040Z"
    },
    "executionInfo": {
     "elapsed": 254,
     "status": "ok",
     "timestamp": 1626744372944,
     "user": {
      "displayName": "Paulo Bruno Serafim",
      "photoUrl": "https://lh3.googleusercontent.com/a-/AOh14GgKyTLTgz0mz9XoFCRFsxnJAzgsSy10N71vvQmUpQ=s64",
      "userId": "14036489635138228772"
     },
     "user_tz": 180
    },
    "id": "E6nNyEqcgUIh"
   },
   "outputs": [],
   "source": [
    "gc = Gcrf()"
   ]
  },
  {
   "cell_type": "code",
   "execution_count": 3,
   "metadata": {
    "ExecuteTime": {
     "end_time": "2021-07-20T04:16:20.224362Z",
     "start_time": "2021-07-20T04:16:20.210475Z"
    },
    "colab": {
     "base_uri": "https://localhost:8080/"
    },
    "executionInfo": {
     "elapsed": 397,
     "status": "ok",
     "timestamp": 1626744375141,
     "user": {
      "displayName": "Paulo Bruno Serafim",
      "photoUrl": "https://lh3.googleusercontent.com/a-/AOh14GgKyTLTgz0mz9XoFCRFsxnJAzgsSy10N71vvQmUpQ=s64",
      "userId": "14036489635138228772"
     },
     "user_tz": 180
    },
    "id": "4UCAv0aGgjHo",
    "outputId": "5d51e3df-a8f1-4f19-d7d4-d2d50b0f1287"
   },
   "outputs": [
    {
     "name": "stdout",
     "output_type": "stream",
     "text": [
      "(1, 2, 3)\n"
     ]
    }
   ],
   "source": [
    "p = Point(1, 2, 3)\n",
    "print(p)"
   ]
  },
  {
   "cell_type": "code",
   "execution_count": 4,
   "metadata": {
    "ExecuteTime": {
     "end_time": "2021-07-20T04:16:20.255149Z",
     "start_time": "2021-07-20T04:16:20.225354Z"
    },
    "colab": {
     "base_uri": "https://localhost:8080/"
    },
    "executionInfo": {
     "elapsed": 255,
     "status": "ok",
     "timestamp": 1626744507482,
     "user": {
      "displayName": "Paulo Bruno Serafim",
      "photoUrl": "https://lh3.googleusercontent.com/a-/AOh14GgKyTLTgz0mz9XoFCRFsxnJAzgsSy10N71vvQmUpQ=s64",
      "userId": "14036489635138228772"
     },
     "user_tz": 180
    },
    "id": "T1-CbwOhhuLB",
    "outputId": "bdaa0c50-71be-4ab9-b1c1-f9c021dd6eea"
   },
   "outputs": [
    {
     "name": "stdout",
     "output_type": "stream",
     "text": [
      "[(1, 2, 3) -> (4, 5, 6)]\n"
     ]
    }
   ],
   "source": [
    "p1 = Point(1, 2, 3)\n",
    "p2 = Point(4, 5, 6)\n",
    "\n",
    "e = Edge(p1, p2)\n",
    "\n",
    "print(e)"
   ]
  },
  {
   "cell_type": "code",
   "execution_count": 5,
   "metadata": {
    "ExecuteTime": {
     "end_time": "2021-07-20T04:16:20.270570Z",
     "start_time": "2021-07-20T04:16:20.256142Z"
    },
    "colab": {
     "base_uri": "https://localhost:8080/"
    },
    "executionInfo": {
     "elapsed": 307,
     "status": "ok",
     "timestamp": 1626745571666,
     "user": {
      "displayName": "Paulo Bruno Serafim",
      "photoUrl": "https://lh3.googleusercontent.com/a-/AOh14GgKyTLTgz0mz9XoFCRFsxnJAzgsSy10N71vvQmUpQ=s64",
      "userId": "14036489635138228772"
     },
     "user_tz": 180
    },
    "id": "yXIuwsz3jPAJ",
    "outputId": "faaa9f58-9b60-4153-c1d8-5c026bdc43c0"
   },
   "outputs": [
    {
     "name": "stdout",
     "output_type": "stream",
     "text": [
      "{[(1, 2, 3) -> (4, 5, 6)], [(4, 5, 6) -> (7, 8, 9)], [(7, 8, 9) -> (1, 2, 3)]}\n"
     ]
    }
   ],
   "source": [
    "p1 = Point(1, 2, 3)\n",
    "p2 = Point(4, 5, 6)\n",
    "p3 = Point(7, 8, 9)\n",
    "\n",
    "e1 = Edge(p1, p2)\n",
    "e2 = Edge(p2, p3)\n",
    "e3 = Edge(p3, p1)\n",
    "\n",
    "f = Face(e1, e2, e3)\n",
    "\n",
    "print(f)"
   ]
  },
  {
   "cell_type": "code",
   "execution_count": 6,
   "metadata": {
    "ExecuteTime": {
     "end_time": "2021-07-20T04:16:20.285759Z",
     "start_time": "2021-07-20T04:16:20.271563Z"
    },
    "id": "PS_Y0s-giWsx"
   },
   "outputs": [],
   "source": [
    "# def SquaredArea(p1, p2, p3):\n",
    "# def SignedVolume(p1, p2, p3, p4):\n",
    "# def Normalize(v):   \n",
    "# def CrossProduct(v1, v2):   "
   ]
  },
  {
   "cell_type": "code",
   "execution_count": 7,
   "metadata": {
    "ExecuteTime": {
     "end_time": "2021-07-20T04:16:20.301017Z",
     "start_time": "2021-07-20T04:16:20.286739Z"
    },
    "executionInfo": {
     "elapsed": 2,
     "status": "ok",
     "timestamp": 1626745886771,
     "user": {
      "displayName": "Paulo Bruno Serafim",
      "photoUrl": "https://lh3.googleusercontent.com/a-/AOh14GgKyTLTgz0mz9XoFCRFsxnJAzgsSy10N71vvQmUpQ=s64",
      "userId": "14036489635138228772"
     },
     "user_tz": 180
    },
    "id": "3bc8z2bXV1P3"
   },
   "outputs": [],
   "source": [
    "def PivotAroundEdge(e, P):\n",
    "    p = P.pop()\n",
    "    area2 = gc.square_area(e.p1, e.p2, p)\n",
    "\n",
    "    for p_ in P:\n",
    "        volume = gc.signed_volume(e.p1, e.p2, p, p_)\n",
    "        if volume < 0:\n",
    "            p = p_\n",
    "        elif volume == 0:\n",
    "            area2_ = gc.square_area(e.p1, e.p2, p_)\n",
    "            if area2_ > area2:\n",
    "                p = p_\n",
    "                area2 = area2_\n",
    "    return p"
   ]
  },
  {
   "cell_type": "code",
   "execution_count": 8,
   "metadata": {
    "ExecuteTime": {
     "end_time": "2021-07-20T04:16:20.316536Z",
     "start_time": "2021-07-20T04:16:20.302509Z"
    },
    "id": "t_jWGHRknRmU"
   },
   "outputs": [],
   "source": [
    "def BottomMostLeftMostBackMost(P):\n",
    "    ys = [p.y for p in P]\n",
    "    min_value = min(ys)\n",
    "    min_index = ys.index(min_value)\n",
    "    return P[min_index]"
   ]
  },
  {
   "cell_type": "code",
   "execution_count": 9,
   "metadata": {
    "ExecuteTime": {
     "end_time": "2021-07-20T04:16:20.331720Z",
     "start_time": "2021-07-20T04:16:20.317633Z"
    },
    "executionInfo": {
     "elapsed": 275,
     "status": "ok",
     "timestamp": 1626745885013,
     "user": {
      "displayName": "Paulo Bruno Serafim",
      "photoUrl": "https://lh3.googleusercontent.com/a-/AOh14GgKyTLTgz0mz9XoFCRFsxnJAzgsSy10N71vvQmUpQ=s64",
      "userId": "14036489635138228772"
     },
     "user_tz": 180
    },
    "id": "K-wu5sfRio7B"
   },
   "outputs": [],
   "source": [
    "def FindEdgeOnHull(P):\n",
    "    p = BottomMostLeftMostBackMost(P)\n",
    "    q = p\n",
    "\n",
    "    for r in P:\n",
    "        if (q.z == r.z) and (q.y == r.y) and (q.x < r.x):\n",
    "            q = r\n",
    "    \n",
    "    if (q == p):\n",
    "        q = Point(p.x + 1, p.y, p.z)\n",
    "        q = PivotAroundEdge(Edge(p, q), P)\n",
    "\n",
    "    return Edge(p, q)"
   ]
  },
  {
   "cell_type": "code",
   "execution_count": 10,
   "metadata": {
    "ExecuteTime": {
     "end_time": "2021-07-20T04:16:20.346915Z",
     "start_time": "2021-07-20T04:16:20.332832Z"
    },
    "executionInfo": {
     "elapsed": 252,
     "status": "ok",
     "timestamp": 1626745654326,
     "user": {
      "displayName": "Paulo Bruno Serafim",
      "photoUrl": "https://lh3.googleusercontent.com/a-/AOh14GgKyTLTgz0mz9XoFCRFsxnJAzgsSy10N71vvQmUpQ=s64",
      "userId": "14036489635138228772"
     },
     "user_tz": 180
    },
    "id": "4pBvg8KqWaxr"
   },
   "outputs": [],
   "source": [
    "def FindTriangleOnHull(P):\n",
    "    e = FindEdgeOnHull(P)\n",
    "    r = PivotAroundEdge(e, P)\n",
    "    e2 = Edge(e.p2, r)\n",
    "    e3 = Edge(r, e.p1)\n",
    "    f = Face(e, e2, e3)\n",
    "    return f"
   ]
  },
  {
   "cell_type": "code",
   "execution_count": 15,
   "metadata": {
    "ExecuteTime": {
     "end_time": "2021-07-20T04:16:46.087688Z",
     "start_time": "2021-07-20T04:16:46.074792Z"
    }
   },
   "outputs": [],
   "source": [
    "def NotProcessed(E, e):\n",
    "    for i in E:\n",
    "        if e == i:\n",
    "            return False\n",
    "    return True"
   ]
  },
  {
   "cell_type": "code",
   "execution_count": 16,
   "metadata": {
    "ExecuteTime": {
     "end_time": "2021-07-20T04:16:46.457446Z",
     "start_time": "2021-07-20T04:16:46.441442Z"
    },
    "executionInfo": {
     "elapsed": 253,
     "status": "ok",
     "timestamp": 1626745650978,
     "user": {
      "displayName": "Paulo Bruno Serafim",
      "photoUrl": "https://lh3.googleusercontent.com/a-/AOh14GgKyTLTgz0mz9XoFCRFsxnJAzgsSy10N71vvQmUpQ=s64",
      "userId": "14036489635138228772"
     },
     "user_tz": 180
    },
    "id": "zrUL8jHTWcWr"
   },
   "outputs": [],
   "source": [
    "def GiftWrap(P):\n",
    "    t = FindTriangleOnHull(P)\n",
    "    Q = [t.e1, t.e2, t.e3]\n",
    "    H = [t]\n",
    "    Processed = []\n",
    "\n",
    "    while not len(Q) == 0:\n",
    "        e = Q.pop()\n",
    "        if NotProcessed(Processed,e):\n",
    "            q = PivotAroundEdge(e, P.copy())\n",
    "            t = Face(e, Edge(e.p2, q), Edge(q, e.p1))\n",
    "            H.append(t)\n",
    "            Q.extend([t.e1, t.e2, t.e3])\n",
    "            Processed.append(e)            \n",
    "    return H"
   ]
  },
  {
   "cell_type": "code",
   "execution_count": 17,
   "metadata": {
    "ExecuteTime": {
     "end_time": "2021-07-20T04:16:46.904594Z",
     "start_time": "2021-07-20T04:16:46.890702Z"
    }
   },
   "outputs": [],
   "source": [
    "from time import sleep"
   ]
  },
  {
   "cell_type": "code",
   "execution_count": 18,
   "metadata": {
    "ExecuteTime": {
     "end_time": "2021-07-20T04:16:48.041044Z",
     "start_time": "2021-07-20T04:16:48.031596Z"
    },
    "colab": {
     "base_uri": "https://localhost:8080/",
     "height": 341
    },
    "executionInfo": {
     "elapsed": 265,
     "status": "error",
     "timestamp": 1626745928875,
     "user": {
      "displayName": "Paulo Bruno Serafim",
      "photoUrl": "https://lh3.googleusercontent.com/a-/AOh14GgKyTLTgz0mz9XoFCRFsxnJAzgsSy10N71vvQmUpQ=s64",
      "userId": "14036489635138228772"
     },
     "user_tz": 180
    },
    "id": "b9yqBbH_WlCb",
    "outputId": "8514a9d8-2e5a-4811-f376-e560c3bc5dd6"
   },
   "outputs": [
    {
     "name": "stdout",
     "output_type": "stream",
     "text": [
      "Faces in hull: {[(0, -3, 0) -> (0, 0, -4)], [(0, 0, -4) -> (0, 0, -4)], [(0, 0, -4) -> (0, -3, 0)]}\n",
      "Faces in hull: {[(0, 0, -4) -> (0, -3, 0)], [(0, -3, 0) -> (0, 0, 3)], [(0, 0, 3) -> (0, 0, -4)]}\n",
      "Faces in hull: {[(0, 0, 3) -> (0, 0, -4)], [(0, 0, -4) -> (0, 0, -4)], [(0, 0, -4) -> (0, 0, 3)]}\n",
      "Faces in hull: {[(0, 0, -4) -> (0, 0, 3)], [(0, 0, 3) -> (0, 0, 3)], [(0, 0, 3) -> (0, 0, -4)]}\n",
      "Faces in hull: {[(0, 0, 3) -> (0, 0, 3)], [(0, 0, 3) -> (0, 0, -4)], [(0, 0, -4) -> (0, 0, 3)]}\n",
      "Faces in hull: {[(0, 0, -4) -> (0, 0, -4)], [(0, 0, -4) -> (0, 0, -4)], [(0, 0, -4) -> (0, 0, -4)]}\n",
      "Faces in hull: {[(0, -3, 0) -> (0, 0, 3)], [(0, 0, 3) -> (0, 2, 0)], [(0, 2, 0) -> (0, -3, 0)]}\n",
      "Faces in hull: {[(0, 2, 0) -> (0, -3, 0)], [(0, -3, 0) -> (0, 0, 3)], [(0, 0, 3) -> (0, 2, 0)]}\n",
      "Faces in hull: {[(0, 0, 3) -> (0, 2, 0)], [(0, 2, 0) -> (0, 0, -4)], [(0, 0, -4) -> (0, 0, 3)]}\n",
      "Faces in hull: {[(0, 2, 0) -> (0, 0, -4)], [(0, 0, -4) -> (0, 0, -4)], [(0, 0, -4) -> (0, 2, 0)]}\n",
      "Faces in hull: {[(0, 0, -4) -> (0, 2, 0)], [(0, 2, 0) -> (-3, 0, 0)], [(-3, 0, 0) -> (0, 0, -4)]}\n",
      "Faces in hull: {[(-3, 0, 0) -> (0, 0, -4)], [(0, 0, -4) -> (0, 2, 0)], [(0, 2, 0) -> (-3, 0, 0)]}\n",
      "Faces in hull: {[(0, 2, 0) -> (-3, 0, 0)], [(-3, 0, 0) -> (0, 0, -4)], [(0, 0, -4) -> (0, 2, 0)]}\n",
      "Faces in hull: {[(0, -3, 0) -> (0, 0, -4)], [(0, 0, -4) -> (0, 0, -4)], [(0, 0, -4) -> (0, -3, 0)]}\n",
      "14\n"
     ]
    }
   ],
   "source": [
    "p1 = Point(-3, 0, 0)\n",
    "p2 = Point(0, -3, 0)\n",
    "p3 = Point(0, 2, 0)\n",
    "p4 = Point(0, 0, 3)\n",
    "p5 = Point(0, 0, -4)\n",
    "p6 = Point(4, 0, 0)\n",
    "p7 = Point(0, 0, 0)\n",
    "\n",
    "P = [p1, p2, p3, p4, p5, p6, p7]\n",
    "\n",
    "H = GiftWrap(P)\n",
    "for h in H:\n",
    "    print(\"Faces in hull:\", h)\n",
    "print(len(H))"
   ]
  },
  {
   "cell_type": "code",
   "execution_count": null,
   "metadata": {},
   "outputs": [],
   "source": []
  }
 ],
 "metadata": {
  "colab": {
   "authorship_tag": "ABX9TyMHbR0jUi2eaz6y7q07g8rw",
   "collapsed_sections": [],
   "name": "GiftWrapping3d.ipynb",
   "provenance": []
  },
  "kernelspec": {
   "display_name": "Python 3",
   "language": "python",
   "name": "python3"
  },
  "language_info": {
   "codemirror_mode": {
    "name": "ipython",
    "version": 3
   },
   "file_extension": ".py",
   "mimetype": "text/x-python",
   "name": "python",
   "nbconvert_exporter": "python",
   "pygments_lexer": "ipython3",
   "version": "3.8.7"
  }
 },
 "nbformat": 4,
 "nbformat_minor": 1
}
