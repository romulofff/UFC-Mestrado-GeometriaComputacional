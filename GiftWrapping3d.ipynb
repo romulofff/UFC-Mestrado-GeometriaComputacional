{
 "cells": [
  {
   "cell_type": "code",
   "execution_count": 1,
   "metadata": {
    "ExecuteTime": {
     "end_time": "2021-07-26T01:04:55.644982Z",
     "start_time": "2021-07-26T01:04:55.369616Z"
    }
   },
   "outputs": [],
   "source": [
    "import math\n",
    "from typing import List\n",
    "\n",
    "import matplotlib.pyplot as plt\n",
    "import numpy as np\n",
    "\n",
    "\n",
    "class Point():\n",
    "    \"\"\"Data structure of a point.\"\"\"\n",
    "\n",
    "    def __init__(self, x, y, z=0) -> None:\n",
    "        \"\"\"Point object\n",
    "\n",
    "        Args:\n",
    "            x (float): x coordinate of point\n",
    "            y (float): y coordinate of point\n",
    "        \"\"\"\n",
    "        self.x = x\n",
    "        self.y = y\n",
    "        self.z = z\n",
    "\n",
    "    def __iter__(self):\n",
    "        yield self.x\n",
    "        yield self.y\n",
    "        yield self.z\n",
    "\n",
    "    def __len__(self):\n",
    "        return 3\n",
    "\n",
    "    def __call__(self) -> tuple:\n",
    "        return (self.x, self.y, self.z)\n",
    "\n",
    "    def __str__(self) -> str:\n",
    "        return str((self.x, self.y, self.z))\n",
    "\n",
    "    def __eq__(self, other):\n",
    "        return self.__dict__ == other.__dict__\n",
    "\n",
    "    def to_numpy(self):\n",
    "        return np.array([self.x, self.y])\n",
    "\n",
    "\n",
    "class Edge:\n",
    "    def __init__(self, p1, p2):\n",
    "        self.p1 = p1\n",
    "        self.p2 = p2\n",
    "\n",
    "    def __eq__(self, other):\n",
    "        # return self.__dict__ == other.__dict__\n",
    "        if self.p1 == other.p1 or self.p1 == other.p2:\n",
    "           if self.p2 == other.p1 or self.p2 == other.p2:\n",
    "               return True\n",
    "        return False\n",
    "    \n",
    "    def __str__(self):\n",
    "        return \"[\" + str(self.p1) + \" -> \" + str(self.p2) + \"]\"\n",
    "\n",
    "    def __call__(self):\n",
    "        # return \"[\" + str(self.p1) + \" -> \" + str(self.p2) + \"]\"\n",
    "        return (self.p1(), self.p2())\n",
    "\n",
    "\n",
    "class Face:\n",
    "    def __init__(self, e1, e2, e3):\n",
    "        self.e1 = e1\n",
    "        self.e2 = e2\n",
    "        self.e3 = e3\n",
    "\n",
    "    def __str__(self):\n",
    "        return \"{\" + str(self.e1) + \", \" + str(self.e2) + \", \" + str(self.e3) + \"}\"\n",
    "\n",
    "    def __call__(self):\n",
    "        # return \"{\" + str(self.e1) + \", \" + str(self.e2) + \", \" + str(self.e3) + \"}\"\n",
    "        return self.e1.p1(), self.e1.p2(), self.e3.p1()\n",
    "\n",
    "    def __eq__(self, other):\n",
    "        if self.e1 == other.e1 or self.e1 == other.e2 or self.e2 == other.e3:\n",
    "            if self.e2 == other.e1 or self.e2 == other.e2 or self.e2 == other.e3:\n",
    "                if self.e3 == other.e1 or self.e3 == other.e2 or self.e3 == other.e3:\n",
    "                    return True\n",
    "        return False\n",
    "        # p1, p2, p3 = self()\n",
    "        # p1_, p2_, p3_ = other()\n",
    "\n",
    "        # if p1 == p1_ or p1 == p2_ or p1 == p3_:\n",
    "        #     if p2 == p1_ or p2 == p2_ or p2 == p3_:\n",
    "        #         if p3 == p1_ or p3 == p2_ or p3 == p3_:\n",
    "        #             return True\n",
    "        # return False\n",
    "\n",
    "\n",
    "class Gcrf():\n",
    "\n",
    "    def gen_poly(self, n):\n",
    "        xn = np.random.random(n)\n",
    "        yn = np.random.random(n)\n",
    "        z = zip(xn, yn)\n",
    "        z = [Point(x, y) for x, y in z]\n",
    "        z = np.array(z)\n",
    "        angles = [self.pseudo_angulo_orientado(i) for i in z]\n",
    "        indexes = np.argsort(angles)\n",
    "        z = z[indexes]\n",
    "        z = z.tolist()\n",
    "\n",
    "        return z\n",
    "\n",
    "    def soma_vetorial(self, a, b):\n",
    "        if isinstance(a, Point):\n",
    "            return Point(a.x+b.x, a.y+b.y, a.z+b.z)\n",
    "        z = []\n",
    "        for i in range(len(a)):\n",
    "            z.append(a[i]+b[i])\n",
    "        return z\n",
    "\n",
    "    def subtr_vetorial(self, a, b):\n",
    "        if isinstance(a, Point):\n",
    "            return Point(a.x-b.x, a.y-b.y, a.z-b.z)\n",
    "        z = []\n",
    "        for i in range(len(a)):\n",
    "            z.append(a[i]-b[i])\n",
    "        return z\n",
    "\n",
    "    def multi_escalar(self, lamb: int, x: list) -> list:\n",
    "        # if isinstance(a, Point):\n",
    "        #     return Point(a.x*lamb, a.y*lamb, a.z*lamb)\n",
    "        z = []\n",
    "        for i in range(len(x)):\n",
    "            z.append(lamb*x[i])\n",
    "        return z\n",
    "\n",
    "    def prod_escalar(self, a, b):\n",
    "        aIsPoint = isinstance(a, Point)\n",
    "        bIsPoint = isinstance(b, Point)\n",
    "        if aIsPoint and bIsPoint:\n",
    "            return sum([a.x*b.x, a.y*b.y, a.z*b.z])\n",
    "        if aIsPoint:\n",
    "            a = a()\n",
    "        if bIsPoint:\n",
    "            b = b()\n",
    "        res = []\n",
    "        for i in range(len(a)):\n",
    "            res.append(a[i]*b[i])\n",
    "        return sum(res)\n",
    "\n",
    "    def norma(self, a):\n",
    "        norm = a.x**2 + a.y**2 + a.z**2\n",
    "        return math.sqrt(norm)\n",
    "\n",
    "    def distancia(self, x, y):\n",
    "        \"\"\"Returns the distance between vectors x and y.\n",
    "\n",
    "        Args:\n",
    "            x (list): list containing points from vector x.\n",
    "            y (list): list containing points from vector y.\n",
    "\n",
    "        Returns:\n",
    "            [float]: [the distance between vectors x and y]\n",
    "        \"\"\"\n",
    "        z = []\n",
    "        for i in range(len(x)):\n",
    "            z.append(x[i]-y[i])\n",
    "        return self.norma(z)\n",
    "\n",
    "    def angulo(self, x, y, degrees=False):\n",
    "        \"\"\"Returns the angle between vectors x and y.\n",
    "\n",
    "        Args:\n",
    "            x (list): list containing points from vector x.\n",
    "            y (list): list containing points from vector y.\n",
    "            degrees (bool): if the result should be in degrees or radians, defaults to False.\n",
    "        Returns:\n",
    "            float: the angle between the two vectors\n",
    "        \"\"\"\n",
    "\n",
    "        # if not degrees:\n",
    "        #     return math.acos(self.prod_escalar(x, y)/(self.norma(x)*self.norma(y)))\n",
    "        # return math.acos(self.prod_escalar(x, y)/(self.norma(x)*self.norma(y)))*(180/math.pi)\n",
    "        if not degrees:\n",
    "            return self.prod_escalar(x, y)/(self.norma(x)*self.norma(y))\n",
    "        return self.prod_escalar(x, y)/(self.norma(x)*self.norma(y))*(180/math.pi)\n",
    "\n",
    "    def angulo_orientado(self, x, degrees=False):\n",
    "        if isinstance(x, Point):\n",
    "            x = x()\n",
    "        mult = 1\n",
    "        if x[1] < 0:\n",
    "            mult = -1\n",
    "        if not degrees:\n",
    "            return mult*math.acos(x[0]/self.norma(x))\n",
    "        return mult*math.acos(x[0]/self.norma(x))*(180/math.pi)\n",
    "\n",
    "    def pseudo_angulo(self, x, degrees=False):\n",
    "        if isinstance(x, Point):\n",
    "            x = x()\n",
    "        mult = 1\n",
    "        if x[1] < 0:\n",
    "            mult = -1\n",
    "        if not degrees:\n",
    "            return mult*(1-(x[0]/self.norma(x)))\n",
    "        return mult*(1-(x[0]/self.norma(x)))*(180/math.pi)\n",
    "\n",
    "    def pseudo_angulo_cosseno(self, x, y=[0, 0], degrees=False):\n",
    "        if isinstance(x, Point):\n",
    "            x = x()\n",
    "        if not degrees:\n",
    "            return 1-(self.prod_escalar(x, y)/(self.norma(x)*self.norma(y)))\n",
    "        return (1-(self.prod_escalar(x, y)/(self.norma(x)*self.norma(y))))*(180/math.pi)\n",
    "\n",
    "    def pseudo_angulo_orientado(self, x):\n",
    "        if isinstance(x, Point):\n",
    "            x = x()\n",
    "        if x[1] >= 0:\n",
    "            if x[0] >= 0:\n",
    "                if x[0] >= x[1]:\n",
    "                    return x[1]/x[0]\n",
    "                return 2-(x[0]/x[1])\n",
    "            if -x[0] <= x[1]:\n",
    "                return 2+(-x[0]/x[1])\n",
    "            return 4-(x[1]/-x[0])\n",
    "        if x[0] < 0:\n",
    "            if -x[0] >= -x[1]:\n",
    "                return 4+(-x[1]/-x[0])\n",
    "            return 6-(-x[0]/-x[1])\n",
    "        if x[0] <= -x[1]:\n",
    "            return 6+(x[0]/-x[1])\n",
    "        return 8-(-x[1]/x[0])\n",
    "\n",
    "    def pseudo_angulo_2(self, x, y):\n",
    "        return self.pseudo_angulo_orientado(y)-self.pseudo_angulo_orientado(x)\n",
    "\n",
    "    def prod_vetorial(self, a, b):\n",
    "        if len(a) == 2:\n",
    "            return a.x*b.y-a.y*b.x\n",
    "        return Point(a.y*b.z-a.z*b.y, a.z*b.x-a.x*b.z, a.x*b.y-a.y*b.x)\n",
    "\n",
    "    def intersect(self, a, b, c, d):\n",
    "        ab = self.subtr_vetorial(b, a)\n",
    "        ac = self.subtr_vetorial(c, a)\n",
    "        ad = self.subtr_vetorial(d, a)\n",
    "        ca = self.subtr_vetorial(a, c)\n",
    "        cb = self.subtr_vetorial(b, c)\n",
    "        cd = self.subtr_vetorial(d, c)\n",
    "\n",
    "        # r1 = self.prod_vetorial(ab, ac)*self.prod_vetorial(ab, ad)\n",
    "        r1 = self.prod_vetorial(ab, ac)*self.prod_vetorial(ab, ad) < 0\n",
    "        # r2 = self.prod_vetorial(cd, ca)*self.prod_vetorial(cd, cb)\n",
    "        r2 = self.prod_vetorial(cd, ca)*self.prod_vetorial(cd, cb) < 0\n",
    "        # return (r1, r2), r1 < 0 and r2 < 0\n",
    "        return r1 and r2\n",
    "\n",
    "    def square_area(self, p1: Point, p2: Point, p3: Point):\n",
    "        res = self.prod_vetorial(self.subtr_vetorial(\n",
    "            p2, p1), self.subtr_vetorial(p3, p1))\n",
    "        res = sum([i**2 for i in res])\n",
    "        return 0.5*res\n",
    "\n",
    "    def area(self, x, y):\n",
    "        if len(x) == 2:\n",
    "            return abs(self.prod_vetorial(x, y))\n",
    "        return self.norma(self.prod_vetorial(x, y))\n",
    "\n",
    "    def signed_volume(self, p1: Point, p2: Point, p3: Point, p4: Point):\n",
    "        v1 = self.subtr_vetorial(p2, p1)\n",
    "        v2 = self.subtr_vetorial(p3, p1)\n",
    "        v3 = self.subtr_vetorial(p4, p1)\n",
    "        res = self.prod_vetorial(v1, v2)\n",
    "        return self.prod_escalar(v3, res)/6\n",
    "\n",
    "    def antiHorario(self, listaDePontos):\n",
    "        res = 0\n",
    "        for i in range(len(listaDePontos)-1):\n",
    "            res += self.prod_vetorial(listaDePontos[i], listaDePontos[i+1])\n",
    "        res += self.prod_vetorial(listaDePontos[0], listaDePontos[-1])\n",
    "        return 0.5*res > 0\n",
    "\n",
    "    def slope(self, p1: Point, p2: Point):\n",
    "        return (p2.y - p1.y) / (p2.x - p1.x)\n",
    "\n",
    "    def pip(self, p: Point, poly) -> bool:\n",
    "        \"\"\" Determine if the point is in the polygon.\n",
    "\n",
    "        Args:\n",
    "            p -- a object of type Point(x, y)\n",
    "            poly -- a list of tuples [(x, y), (x, y), ...]\n",
    "\n",
    "        Returns:\n",
    "            True if the point is in the path or is a corner or on the boundary\"\"\"\n",
    "\n",
    "        num = len(poly)\n",
    "        j = num - 1\n",
    "        result = False\n",
    "        for i in range(len(poly)):\n",
    "            if (p.x == poly[i].x) and (p.y == poly[i].y):\n",
    "                return True\n",
    "            if ((poly[i].y > p.y) != (poly[j].y > p.y)):\n",
    "                slope = self.slope(p, poly[i])\n",
    "                if slope == 0:\n",
    "                    return True\n",
    "                if (slope < 0) != (poly[j].y < poly[i].y):\n",
    "                    result = not result\n",
    "            j = i\n",
    "        return result\n",
    "\n",
    "    def starPolygon(self, points, jumps):\n",
    "        i = 0\n",
    "        starredPolygon = []\n",
    "        while i < jumps:\n",
    "            for j in range(i, len(points), jumps):\n",
    "                # print(\"Ponto adicionado j:\",points[j]())\n",
    "                starredPolygon.append(points[j])\n",
    "            # print(\"Ponto adicionado i:\",points[i]())\n",
    "            starredPolygon.append(points[i])\n",
    "            i += 1\n",
    "        return starredPolygon\n",
    "\n",
    "    def centeroidnp(self, points):\n",
    "        length = len(points)\n",
    "        tipoPoints = type(points[0])\n",
    "\n",
    "        if tipoPoints == tuple:\n",
    "            arr = np.array(points)\n",
    "        elif tipoPoints == Point:\n",
    "            arr = np.array([p.to_numpy() for p in points])\n",
    "\n",
    "        sum_x = np.sum(arr[:, 0])\n",
    "        sum_y = np.sum(arr[:, 1])\n",
    "        return sum_x/length, sum_y/length\n",
    "\n",
    "    def plotPoint(self, p: Point):\n",
    "        plt.scatter(p.x, p.y)\n",
    "        plt.show()\n",
    "\n",
    "    def plotPoints(self, p: List[Point]):\n",
    "        for point in p:\n",
    "            self.plotPoint(point)\n",
    "        plt.show()\n",
    "\n",
    "    def plotPolygon(self, points, annotate=False):\n",
    "        \"\"\"Plot polygon from list of points\n",
    "\n",
    "        Args:\n",
    "            points (Point): list of Point objects indicating the polygon vertices\n",
    "        \"\"\"\n",
    "\n",
    "        points.append(points[0])\n",
    "        if type(points[0]) == Point:\n",
    "            points = [p() for p in points]\n",
    "        x, y = zip(*points)\n",
    "        plt.grid(0.5)\n",
    "        plt.plot(x, y, '-o')\n",
    "        if annotate:\n",
    "            plt.text(x[0], y[0], \"p1\")\n",
    "            plt.text(x[1], y[1], \"p2\")\n",
    "            plt.text(x[2], y[2], \"p3\")\n",
    "        plt.show()\n",
    "\n",
    "    def plotSegment(self, segments: List[Point], threeD=False) -> None:\n",
    "        if threeD:\n",
    "            fig = plt.figure()\n",
    "            ax = fig.add_subplot(111, projection='3d')\n",
    "\n",
    "        for segment in segments:\n",
    "            segx = [p.x for p in segment]\n",
    "            segy = [p.y for p in segment]\n",
    "            if threeD:\n",
    "                segz = [p.z for p in segment]\n",
    "                ax.plot(segx, segy, segz)\n",
    "            else:\n",
    "                plt.plot(segx, segy)\n",
    "        plt.show()\n",
    "\n",
    "    def plotSquare(self):\n",
    "        x = [1, 1, -1, -1, 1]\n",
    "        y = [1, -1, -1, 1, 1]\n",
    "        plt.plot(x, y)\n",
    "\n",
    "    def plotAxis(self):\n",
    "        plt.grid()\n",
    "        plt.axhline(y=0, color='k')\n",
    "        plt.axvline(x=0, color='k')\n",
    "\n",
    "\n",
    "    # def plot_faces(self, F):\n",
    "\n",
    "\n",
    "    def rotationIndex(self, p: Point, poly: list):\n",
    "        # NOT WORKING\n",
    "        j = len(poly)-1\n",
    "        rotIndex = 0\n",
    "        for i in range(len(poly)):\n",
    "            ppi = self.subtr_vetorial(p, poly[j])\n",
    "            ppi1 = self.subtr_vetorial(p, poly[i])\n",
    "            rotIndex += self.pseudo_angulo_2(ppi, ppi1)\n",
    "            j = i\n",
    "        rotIndex *= 1/(2*math.pi)\n",
    "        if rotIndex == 0:\n",
    "            return False\n",
    "        if abs(rotIndex) == 1:\n",
    "            return True\n",
    "        return rotIndex\n"
   ]
  },
  {
   "cell_type": "code",
   "execution_count": 2,
   "metadata": {
    "ExecuteTime": {
     "end_time": "2021-07-26T01:04:55.660352Z",
     "start_time": "2021-07-26T01:04:55.645968Z"
    }
   },
   "outputs": [],
   "source": [
    "import os\n",
    "import math\n",
    "# from tarefa02.gcrf import Gcrf, Point, Edge, Face"
   ]
  },
  {
   "cell_type": "code",
   "execution_count": 3,
   "metadata": {
    "ExecuteTime": {
     "end_time": "2021-07-26T01:04:55.675818Z",
     "start_time": "2021-07-26T01:04:55.661840Z"
    },
    "executionInfo": {
     "elapsed": 254,
     "status": "ok",
     "timestamp": 1626744372944,
     "user": {
      "displayName": "Paulo Bruno Serafim",
      "photoUrl": "https://lh3.googleusercontent.com/a-/AOh14GgKyTLTgz0mz9XoFCRFsxnJAzgsSy10N71vvQmUpQ=s64",
      "userId": "14036489635138228772"
     },
     "user_tz": 180
    },
    "id": "E6nNyEqcgUIh"
   },
   "outputs": [],
   "source": [
    "gc = Gcrf()"
   ]
  },
  {
   "cell_type": "code",
   "execution_count": 4,
   "metadata": {
    "ExecuteTime": {
     "end_time": "2021-07-26T01:04:55.691189Z",
     "start_time": "2021-07-26T01:04:55.676806Z"
    },
    "colab": {
     "base_uri": "https://localhost:8080/"
    },
    "executionInfo": {
     "elapsed": 397,
     "status": "ok",
     "timestamp": 1626744375141,
     "user": {
      "displayName": "Paulo Bruno Serafim",
      "photoUrl": "https://lh3.googleusercontent.com/a-/AOh14GgKyTLTgz0mz9XoFCRFsxnJAzgsSy10N71vvQmUpQ=s64",
      "userId": "14036489635138228772"
     },
     "user_tz": 180
    },
    "id": "4UCAv0aGgjHo",
    "outputId": "5d51e3df-a8f1-4f19-d7d4-d2d50b0f1287"
   },
   "outputs": [
    {
     "name": "stdout",
     "output_type": "stream",
     "text": [
      "(1, 2, 3)\n"
     ]
    }
   ],
   "source": [
    "p = Point(1, 2, 3)\n",
    "print(p)"
   ]
  },
  {
   "cell_type": "code",
   "execution_count": 5,
   "metadata": {
    "ExecuteTime": {
     "end_time": "2021-07-26T01:04:55.706566Z",
     "start_time": "2021-07-26T01:04:55.692182Z"
    },
    "colab": {
     "base_uri": "https://localhost:8080/"
    },
    "executionInfo": {
     "elapsed": 255,
     "status": "ok",
     "timestamp": 1626744507482,
     "user": {
      "displayName": "Paulo Bruno Serafim",
      "photoUrl": "https://lh3.googleusercontent.com/a-/AOh14GgKyTLTgz0mz9XoFCRFsxnJAzgsSy10N71vvQmUpQ=s64",
      "userId": "14036489635138228772"
     },
     "user_tz": 180
    },
    "id": "T1-CbwOhhuLB",
    "outputId": "bdaa0c50-71be-4ab9-b1c1-f9c021dd6eea"
   },
   "outputs": [
    {
     "name": "stdout",
     "output_type": "stream",
     "text": [
      "[(1, 2, 3) -> (4, 5, 6)]\n"
     ]
    }
   ],
   "source": [
    "p1 = Point(1, 2, 3)\n",
    "p2 = Point(4, 5, 6)\n",
    "\n",
    "e = Edge(p1, p2)\n",
    "\n",
    "print(e)"
   ]
  },
  {
   "cell_type": "code",
   "execution_count": 6,
   "metadata": {
    "ExecuteTime": {
     "end_time": "2021-07-26T01:04:55.721942Z",
     "start_time": "2021-07-26T01:04:55.708054Z"
    },
    "colab": {
     "base_uri": "https://localhost:8080/"
    },
    "executionInfo": {
     "elapsed": 307,
     "status": "ok",
     "timestamp": 1626745571666,
     "user": {
      "displayName": "Paulo Bruno Serafim",
      "photoUrl": "https://lh3.googleusercontent.com/a-/AOh14GgKyTLTgz0mz9XoFCRFsxnJAzgsSy10N71vvQmUpQ=s64",
      "userId": "14036489635138228772"
     },
     "user_tz": 180
    },
    "id": "yXIuwsz3jPAJ",
    "outputId": "faaa9f58-9b60-4153-c1d8-5c026bdc43c0"
   },
   "outputs": [
    {
     "name": "stdout",
     "output_type": "stream",
     "text": [
      "{[(1, 2, 3) -> (4, 5, 6)], [(4, 5, 6) -> (7, 8, 9)], [(7, 8, 9) -> (1, 2, 3)]}\n"
     ]
    }
   ],
   "source": [
    "p1 = Point(1, 2, 3)\n",
    "p2 = Point(4, 5, 6)\n",
    "p3 = Point(7, 8, 9)\n",
    "\n",
    "e1 = Edge(p1, p2)\n",
    "e2 = Edge(p2, p3)\n",
    "e3 = Edge(p3, p1)\n",
    "\n",
    "f = Face(e1, e2, e3)\n",
    "f_ = Face(e3, e1, e2)\n",
    "print(f)"
   ]
  },
  {
   "cell_type": "code",
   "execution_count": 7,
   "metadata": {
    "ExecuteTime": {
     "end_time": "2021-07-26T01:04:55.737319Z",
     "start_time": "2021-07-26T01:04:55.722934Z"
    }
   },
   "outputs": [],
   "source": [
    "def checa_face(F, f):\n",
    "    for face in F:\n",
    "        if f == face:\n",
    "            return True\n",
    "    return False"
   ]
  },
  {
   "cell_type": "code",
   "execution_count": 8,
   "metadata": {
    "ExecuteTime": {
     "end_time": "2021-07-26T01:04:55.752695Z",
     "start_time": "2021-07-26T01:04:55.739302Z"
    }
   },
   "outputs": [
    {
     "name": "stdout",
     "output_type": "stream",
     "text": [
      "0.16666666666666666\n",
      "-0.16666666666666666\n"
     ]
    }
   ],
   "source": [
    "p1 = Point(0,-1,0)\n",
    "p2 = Point(0, 0, 0)\n",
    "p3 = Point(0,0,1)\n",
    "a = Point(1, 0,0)\n",
    "b = Point(-1,0,0)\n",
    "print(gc.signed_volume(p1,p2,p3,a))\n",
    "print(gc.signed_volume(p1,p2,p3,b))"
   ]
  },
  {
   "cell_type": "code",
   "execution_count": 37,
   "metadata": {
    "ExecuteTime": {
     "end_time": "2021-07-26T01:55:26.715484Z",
     "start_time": "2021-07-26T01:55:26.697628Z"
    }
   },
   "outputs": [],
   "source": [
    "def PivotAroundEdge(f, e, P):\n",
    "    minAngle = 2*math.pi\n",
    "    candidate = None\n",
    "#     print(\"E\",e, \"F\",f)\n",
    "    n1 = normal(f.e1.p1, f.e1.p2, f.e2.p2)\n",
    "    \n",
    "    for i in range(len(P)):\n",
    "        if P[i] == e.p1 or P[i] == e.p2: continue\n",
    "#         print(\"PONTOS DA FACE\",e.p2, e.p1, P[i])\n",
    "        n2 = normal(e.p2, e.p1, P[i])\n",
    "#         print(\"n1\", n1, \"n2\", n2)\n",
    "#         if n2 == Point(0,0,0): continue\n",
    "        angle = -1*gc.angulo(n1,n2)\n",
    "#         angle = gc.angulo(n1,n2)\n",
    "#         print(\"Angulo\",angle)\n",
    "        if angle < minAngle and P[i] != e.p1 and P[i] != e.p2:\n",
    "            minAngle = angle\n",
    "            candidate = i\n",
    "    return P[candidate]"
   ]
  },
  {
   "cell_type": "code",
   "execution_count": 10,
   "metadata": {
    "ExecuteTime": {
     "end_time": "2021-07-26T01:04:55.783446Z",
     "start_time": "2021-07-26T01:04:55.769062Z"
    }
   },
   "outputs": [],
   "source": [
    "def FreeEdge(F, e):\n",
    "    count = 0\n",
    "    for f in F:\n",
    "        if (f.e1 == e or f.e2 == e or f.e3 == e):\n",
    "            count+=1\n",
    "#     print(\"Count:\",count)\n",
    "    if count > 1:\n",
    "        return False\n",
    "    return True"
   ]
  },
  {
   "cell_type": "code",
   "execution_count": 11,
   "metadata": {
    "ExecuteTime": {
     "end_time": "2021-07-26T01:04:55.798822Z",
     "start_time": "2021-07-26T01:04:55.784934Z"
    }
   },
   "outputs": [],
   "source": [
    "def FindFreeEdge(F, face):\n",
    "    free_edges = []\n",
    "    for face in F:\n",
    "#         print(\"FACE no FIND:\", face)\n",
    "        if(FreeEdge(F, face.e1)):\n",
    "#             print(\"TRUE no IF 1\")\n",
    "            free_edges.append(face.e1)\n",
    "        if(FreeEdge(F, face.e2)):\n",
    "#             print(\"TRUE no IF 2\")\n",
    "            free_edges.append(face.e2)\n",
    "        if(FreeEdge(F, face.e3)):\n",
    "#             print(\"TRUE no IF 3\")\n",
    "            free_edges.append(face.e3)\n",
    "#     print(\"FREE_EDGES:\", free_edges)\n",
    "    return free_edges"
   ]
  },
  {
   "cell_type": "code",
   "execution_count": 12,
   "metadata": {
    "ExecuteTime": {
     "end_time": "2021-07-26T01:04:55.814198Z",
     "start_time": "2021-07-26T01:04:55.799814Z"
    },
    "executionInfo": {
     "elapsed": 2,
     "status": "ok",
     "timestamp": 1626745886771,
     "user": {
      "displayName": "Paulo Bruno Serafim",
      "photoUrl": "https://lh3.googleusercontent.com/a-/AOh14GgKyTLTgz0mz9XoFCRFsxnJAzgsSy10N71vvQmUpQ=s64",
      "userId": "14036489635138228772"
     },
     "user_tz": 180
    },
    "id": "3bc8z2bXV1P3"
   },
   "outputs": [],
   "source": [
    "# def PivotAroundEdge(e, P):\n",
    "#     minAngle = 2*math.pi\n",
    "#     candidate = None\n",
    "#     normal = gc.prod_vetorial(e.p1, e.p2)\n",
    "# #     print(\"NORMAL:\", normal)\n",
    "#     for i in range(len(P)):\n",
    "#         print(\"P[i]\",P[i])\n",
    "#         angle = gc.angulo(normal, P[i])\n",
    "#         if angle < minAngle:\n",
    "#             minAngle = angle\n",
    "#             candidate = i\n",
    "#     return P[candidate]"
   ]
  },
  {
   "cell_type": "code",
   "execution_count": 13,
   "metadata": {
    "ExecuteTime": {
     "end_time": "2021-07-26T01:04:55.829574Z",
     "start_time": "2021-07-26T01:04:55.815191Z"
    },
    "id": "t_jWGHRknRmU"
   },
   "outputs": [],
   "source": [
    "def BottomMostLeftMostBackMost(P):\n",
    "    ys = [p.y for p in P]\n",
    "    min_value = min(ys)\n",
    "    min_index = ys.index(min_value)\n",
    "    return P[min_index]"
   ]
  },
  {
   "cell_type": "code",
   "execution_count": 14,
   "metadata": {
    "ExecuteTime": {
     "end_time": "2021-07-26T01:04:55.844950Z",
     "start_time": "2021-07-26T01:04:55.830566Z"
    }
   },
   "outputs": [],
   "source": [
    "def normal(p1, p2, p3):\n",
    "    v1 = gc.subtr_vetorial(p1,p2) \n",
    "#     print(\"v1\",v1)\n",
    "    v2 = gc.subtr_vetorial(p1,p3)\n",
    "#     print(\"v2\",v2)\n",
    "    return gc.prod_vetorial(v1,v2)"
   ]
  },
  {
   "cell_type": "code",
   "execution_count": 15,
   "metadata": {
    "ExecuteTime": {
     "end_time": "2021-07-26T01:04:55.860327Z",
     "start_time": "2021-07-26T01:04:55.845942Z"
    }
   },
   "outputs": [],
   "source": [
    "def find_first_face(P):\n",
    "    minAngle = 2*math.pi\n",
    "    candidate = None\n",
    "    \n",
    "    p1 = BottomMostLeftMostBackMost(P)\n",
    "    p2 = Point(p1.x+1, p1.y, p1.z)\n",
    "    p3 = Point(p1.x, p1.y, p1.z+1) \n",
    "#     print(\"primeiro P1\", p1, \"P2\", p2, \"P3\", p3)\n",
    "    n1 = normal(p1, p2, p3)\n",
    "#     print(\"n1\",n1)\n",
    "    for i in range(len(P)):\n",
    "        if P[i] == p1 or P[i] == p2: continue\n",
    "        n2 = normal(p1, p2, P[i])\n",
    "#         print(\"n2\",n2)\n",
    "        angle = gc.angulo(n1,n2)\n",
    "\n",
    "        if angle <= minAngle:\n",
    "            minAngle = angle\n",
    "            candidate = i\n",
    "        \n",
    "    p3 = P[candidate]\n",
    "\n",
    "    minAngle = 2*math.pi\n",
    "    candidate = None\n",
    "    \n",
    "    n1 = normal(p3, p1, p2)\n",
    "    for j in range(len(P)):\n",
    "        if P[j] == p1 or P[j] == p3: continue\n",
    "        n2 = normal(p1, p3, P[j])\n",
    "        angle = gc.angulo(n1,n2)\n",
    "        if angle < minAngle:\n",
    "            minAngle = angle\n",
    "            candidate = j\n",
    "    \n",
    "    p2 = P[candidate]\n",
    "    \n",
    "    e1 = Edge(p1,p2)\n",
    "    e2 = Edge(p2, p3)\n",
    "    e3 = Edge(p3, p1)\n",
    "    print(\"P {} Q {} R {}\".format(p1,p2,p3))\n",
    "    face = Face(e1, e2, e3)\n",
    "    return face"
   ]
  },
  {
   "cell_type": "code",
   "execution_count": 16,
   "metadata": {
    "ExecuteTime": {
     "end_time": "2021-07-26T01:04:55.875702Z",
     "start_time": "2021-07-26T01:04:55.861814Z"
    }
   },
   "outputs": [],
   "source": [
    "# {[(0.0, -1.0, -1.0) -> (-0.866025, 1.0, -0.5)], [(-0.866025, 1.0, -0.5) -> (0.0, 1.0, -1.0)], [(0.0, 1.0, -1.0) -> (0.0, -1.0, -1.0)]}\n",
    "# {[(0.0, -1.0, -1.0) -> (-0.866025, -1.0, -0.5)], [(-0.866025, -1.0, -0.5) -> (0.0, 1.0, -1.0)], [(0.0, 1.0, -1.0) -> (0.0, -1.0, -1.0)]}\n",
    "p1 = Point(0.000000 ,-1.000000 ,-1.000000) #--- 0 \n",
    "p2 = Point(0.000000 ,1.000000 ,-1.000000)  #--- 2\n",
    "p3 = Point(0.866025 ,-1.000000 ,-0.500000) #--- 1\n",
    "p4 = Point(0.866025 ,1.000000 ,-0.500000)\n",
    "p5 = Point(0.866025 ,-1.000000 ,0.500000)\n",
    "p6 = Point(0.866025 ,1.000000 ,0.500000)\n",
    "p7 = Point(-0.000000, -1.000000, 1.000000)\n",
    "p8 = Point(-0.000000, 1.000000 ,1.000000)\n",
    "p9 = Point(-0.866025, -1.000000, 0.500000)\n",
    "p10 = Point(-0.866025, 1.000000 ,0.500000)\n",
    "p11 = Point(-0.866025, -1.000000, -0.500000)\n",
    "p12 = Point(-0.866025, 1.000000 ,-0.500000)\n",
    "\n",
    "P = [p1,p2,p3,p4,p5,p6,p7,p8,p9,p10,p11,p12]"
   ]
  },
  {
   "cell_type": "code",
   "execution_count": 17,
   "metadata": {
    "ExecuteTime": {
     "end_time": "2021-07-26T01:04:55.891078Z",
     "start_time": "2021-07-26T01:04:55.877190Z"
    },
    "scrolled": true
   },
   "outputs": [
    {
     "name": "stdout",
     "output_type": "stream",
     "text": [
      "P (0.0, -1.0, -1.0) Q (0.866025, -1.0, -0.5) R (0.0, 1.0, -1.0)\n",
      "{[(0.0, -1.0, -1.0) -> (0.866025, -1.0, -0.5)], [(0.866025, -1.0, -0.5) -> (0.0, 1.0, -1.0)], [(0.0, 1.0, -1.0) -> (0.0, -1.0, -1.0)]}\n"
     ]
    }
   ],
   "source": [
    "f = find_first_face(P)\n",
    "print(f)"
   ]
  },
  {
   "cell_type": "code",
   "execution_count": 18,
   "metadata": {
    "ExecuteTime": {
     "end_time": "2021-07-26T01:04:55.906454Z",
     "start_time": "2021-07-26T01:04:55.892567Z"
    }
   },
   "outputs": [],
   "source": [
    "def NotProcessed(E, e):\n",
    "#     print(\"Aresta no Not Processed\",e)\n",
    "    for i in E:\n",
    "        if e == i:\n",
    "            return False\n",
    "    return True"
   ]
  },
  {
   "cell_type": "code",
   "execution_count": 41,
   "metadata": {
    "ExecuteTime": {
     "end_time": "2021-07-26T02:28:33.449741Z",
     "start_time": "2021-07-26T02:28:33.431885Z"
    }
   },
   "outputs": [],
   "source": [
    "def GiftWrap(P):\n",
    "#     t = FindTriangleOnHull(P)\n",
    "    t = find_first_face(P)\n",
    "    print(\"Triangulo encontrado:\", t)\n",
    "#     Q = [t.e1, t.e2, t.e3]\n",
    "    H = [t]\n",
    "#     Processed = []\n",
    "    faces = [t]\n",
    "#     print(\"Q possui as arestas:\")\n",
    "#     for q in Q: print(q)\n",
    "#     while not len(Q) == 0:\n",
    "    while not len(faces) == 0:\n",
    "        t = faces.pop(0)\n",
    "        edges = FindFreeEdge(H, t)\n",
    "#         print(\"EDGES:\")\n",
    "#         for e___ in edges: print(e___)\n",
    "#         e = Q.pop(0)\n",
    "#         e = Edge(e.p2, e.p1)\n",
    "        for e in edges:\n",
    "#             print(\"Aresta a ser processada:\", e)\n",
    "#             if NotProcessed(Processed, e):\n",
    "#             print(\"Aresta {} não foi processada, entrando no IF\".format(e))\n",
    "            q = PivotAroundEdge(t, e, P)\n",
    "#             print(\"Resultado do PivotAroundEdge:\", q)\n",
    "            e = Edge(e.p2, e.p1)\n",
    "\n",
    "            t = Face(e, Edge(e.p2, q), Edge(q, e.p1))\n",
    "#             print(\"Nova face:\", t)\n",
    "#             H.append(t)\n",
    "\n",
    "            face_no_hull = checa_face(H, t)\n",
    "            if not face_no_hull:\n",
    "                H.append(t)\n",
    "#                 print(\"{} entrou no Hull\".format(t))\n",
    "            else: print(\"Face já está no Hull\")\n",
    "#             e_ = Edge(e.p2, e.p1)\n",
    "#             Q.extend([t.e1, t.e2, t.e3])\n",
    "#             print(\"Q agora possui as arestas:\")\n",
    "#             for q in Q: print(q)\n",
    "#             Processed.append(e)\n",
    "#             print(\"Processed agora inclui a aresta {} e contém as seguintes arestas:\".format(e))\n",
    "#             for aresta in Processed: print(aresta)\n",
    "            faces.append(t)\n",
    "#         else: print(\"Aresta JÁ PROCESSADA\")\n",
    "        \n",
    "    return H"
   ]
  },
  {
   "cell_type": "code",
   "execution_count": 44,
   "metadata": {
    "ExecuteTime": {
     "end_time": "2021-07-26T02:29:38.258086Z",
     "start_time": "2021-07-26T02:29:38.240231Z"
    },
    "colab": {
     "base_uri": "https://localhost:8080/",
     "height": 341
    },
    "executionInfo": {
     "elapsed": 265,
     "status": "error",
     "timestamp": 1626745928875,
     "user": {
      "displayName": "Paulo Bruno Serafim",
      "photoUrl": "https://lh3.googleusercontent.com/a-/AOh14GgKyTLTgz0mz9XoFCRFsxnJAzgsSy10N71vvQmUpQ=s64",
      "userId": "14036489635138228772"
     },
     "user_tz": 180
    },
    "id": "b9yqBbH_WlCb",
    "outputId": "8514a9d8-2e5a-4811-f376-e560c3bc5dd6",
    "scrolled": true
   },
   "outputs": [
    {
     "name": "stdout",
     "output_type": "stream",
     "text": [
      "P (0, -1, 0) Q (1, 0, 0) R (0, 0, -1)\n",
      "Triangulo encontrado: {[(0, -1, 0) -> (1, 0, 0)], [(1, 0, 0) -> (0, 0, -1)], [(0, 0, -1) -> (0, -1, 0)]}\n",
      "Face já está no Hull\n",
      "Face já está no Hull\n",
      "{[(0, -1, 0) -> (1, 0, 0)], [(1, 0, 0) -> (0, 0, -1)], [(0, 0, -1) -> (0, -1, 0)]}\n",
      "{[(1, 0, 0) -> (0, -1, 0)], [(0, -1, 0) -> (0, 0, 1)], [(0, 0, 1) -> (1, 0, 0)]}\n",
      "{[(0, -1, 0) -> (0, 0, -1)], [(0, 0, -1) -> (1, 0, 0)], [(1, 0, 0) -> (0, -1, 0)]}\n",
      "{[(0, 0, 1) -> (0, -1, 0)], [(0, -1, 0) -> (-1, 0, 0)], [(-1, 0, 0) -> (0, 0, 1)]}\n",
      "{[(1, 0, 0) -> (0, 0, 1)], [(0, 0, 1) -> (0, -1, 0)], [(0, -1, 0) -> (1, 0, 0)]}\n",
      "{[(0, 0, 1) -> (-1, 0, 0)], [(-1, 0, 0) -> (0, -1, 0)], [(0, -1, 0) -> (0, 0, 1)]}\n",
      "6\n"
     ]
    }
   ],
   "source": [
    "# p1 = Point(-3, 0, 0)\n",
    "# p2 = Point(0, -3, 0)  # --- 0\n",
    "# p3 = Point(0, 2, 0)\n",
    "# p4 = Point(0, 0, 3)\n",
    "# p5 = Point(0, 0, -4)  # ---2\n",
    "# p6 = Point(4, 0, 0)  # --- 1\n",
    "\n",
    "p1 = Point(-1, 0, 0)\n",
    "p2 = Point(0, -1, 0)\n",
    "p3 = Point(0, 1, 0)\n",
    "p4 = Point(0, 0, 1)\n",
    "p5 = Point(0, 0, -1)\n",
    "p6 = Point(1, 0, 0)\n",
    "# p7 = Point(0,0,0)\n",
    "\n",
    "# P = [p1, p2, p3, p4, p5, p6, p7]\n",
    "P = [p1, p2, p3, p4, p5, p6]\n",
    "\n",
    "H = GiftWrap(P)\n",
    "for h in H:\n",
    "    print(h)\n",
    "print(len(H))"
   ]
  },
  {
   "cell_type": "code",
   "execution_count": 22,
   "metadata": {
    "ExecuteTime": {
     "end_time": "2021-07-26T01:04:55.967959Z",
     "start_time": "2021-07-26T01:04:55.953574Z"
    }
   },
   "outputs": [],
   "source": [
    "def write_faces(F, P, filename=False):\n",
    "    i1 = 0\n",
    "    i2 = 0\n",
    "    i3 = 0\n",
    "    if not filename:\n",
    "        filename = os.path.join(os.getcwd(), 'faces.obj')\n",
    "    with open(filename, 'w') as f:\n",
    "        for point in P:\n",
    "            f.write(\"v {} {} {}\".format(point.x, point.y, point.z))\n",
    "            f.write('\\n')\n",
    "        f.write('\\n')\n",
    "        for i in range(len(F)):\n",
    "            for j in range(len(P)):\n",
    "                if F[i]()[0][0] == P[j].x and F[i]()[0][1] == P[j].y and F[i]()[0][2] == P[j].z:\n",
    "                    i1 = j\n",
    "                if F[i]()[1][0] == P[j].x and F[i]()[1][1] == P[j].y and F[i]()[1][2] == P[j].z:\n",
    "                    i2 = j\n",
    "                if F[i]()[2][0] == P[j].x and F[i]()[2][1] == P[j].y and F[i]()[2][2] == P[j].z:\n",
    "                    i3 = j\n",
    "            f.writelines(\"f {} {} {}\".format(i1+1, i2+1, i3+1))\n",
    "            f.write('\\n')\n"
   ]
  },
  {
   "cell_type": "code",
   "execution_count": 23,
   "metadata": {
    "ExecuteTime": {
     "end_time": "2021-07-26T01:04:55.983334Z",
     "start_time": "2021-07-26T01:04:55.968951Z"
    }
   },
   "outputs": [],
   "source": [
    "def print_faces(F, P):\n",
    "    i1 = 0\n",
    "    i2 = 0\n",
    "    i3 = 0\n",
    "    for i in range(len(F)):\n",
    "        for j in range(len(P)):\n",
    "            if F[i]()[0][0] == P[j].x and F[i]()[0][1] == P[j].y and F[i]()[0][2] == P[j].z:\n",
    "                i1 = j\n",
    "            if F[i]()[1][0] == P[j].x and F[i]()[1][1] == P[j].y and F[i]()[1][2] == P[j].z:\n",
    "                i2 = j\n",
    "            if F[i]()[2][0] == P[j].x and F[i]()[2][1] == P[j].y and F[i]()[2][2] == P[j].z:\n",
    "                i3 = j\n",
    "                \n",
    "        print(\"f {} {} {}\".format(i1+1, i2+1, i3+1))"
   ]
  },
  {
   "cell_type": "code",
   "execution_count": 24,
   "metadata": {
    "ExecuteTime": {
     "end_time": "2021-07-26T01:04:55.998710Z",
     "start_time": "2021-07-26T01:04:55.984327Z"
    }
   },
   "outputs": [],
   "source": [
    "def read_vertices_from_obj(objPath):\n",
    "    points = []\n",
    "    with open(objPath, 'r') as f:\n",
    "        for line in f:\n",
    "            line = line.replace('v', '')\n",
    "            line_ = line.split()\n",
    "            points.append(Point(float(line_[0]), float(line_[1]), float(line_[2])))\n",
    "    return points"
   ]
  },
  {
   "cell_type": "code",
   "execution_count": 25,
   "metadata": {
    "ExecuteTime": {
     "end_time": "2021-07-26T01:04:56.014086Z",
     "start_time": "2021-07-26T01:04:55.999702Z"
    }
   },
   "outputs": [
    {
     "name": "stdout",
     "output_type": "stream",
     "text": [
      "348\n"
     ]
    }
   ],
   "source": [
    "points = read_vertices_from_obj(r\"C:\\Users\\romul\\Documents\\UFC\\MESTRADO\\Disciplinas\\Geometria Computacional\\super-nintendo-blend\\p1.obj\")\n",
    "print(len(points))"
   ]
  },
  {
   "cell_type": "code",
   "execution_count": 26,
   "metadata": {
    "ExecuteTime": {
     "end_time": "2021-07-26T01:04:56.029462Z",
     "start_time": "2021-07-26T01:04:56.016567Z"
    }
   },
   "outputs": [
    {
     "name": "stdout",
     "output_type": "stream",
     "text": [
      "OBJ folder exists\n"
     ]
    }
   ],
   "source": [
    "path = os.path.join(os.getcwd(), 'obj')\n",
    "if os.path.isdir(path):\n",
    "    print(\"OBJ folder exists\")\n",
    "else:\n",
    "    print(\"Creating OBJ folder.\")\n",
    "    os.mkdir(path)"
   ]
  },
  {
   "cell_type": "code",
   "execution_count": 27,
   "metadata": {
    "ExecuteTime": {
     "end_time": "2021-07-26T01:04:56.044838Z",
     "start_time": "2021-07-26T01:04:56.030950Z"
    }
   },
   "outputs": [],
   "source": [
    "# print_faces([find_first_face(points)], points)"
   ]
  },
  {
   "cell_type": "code",
   "execution_count": 28,
   "metadata": {
    "ExecuteTime": {
     "end_time": "2021-07-26T01:04:56.060214Z",
     "start_time": "2021-07-26T01:04:56.045830Z"
    }
   },
   "outputs": [],
   "source": [
    "from time import time"
   ]
  },
  {
   "cell_type": "code",
   "execution_count": 29,
   "metadata": {
    "ExecuteTime": {
     "end_time": "2021-07-26T01:39:32.331101Z",
     "start_time": "2021-07-26T01:04:56.061206Z"
    },
    "scrolled": true
   },
   "outputs": [
    {
     "name": "stdout",
     "output_type": "stream",
     "text": [
      "Initial Time: 1627261496.0621986\n",
      "P (-0.258873, 0.032391, 0.264508) Q (-0.340916, 0.033424, 0.136366) R (-0.346055, 0.032391, 0.129129)\n",
      "Triangulo encontrado: {[(-0.258873, 0.032391, 0.264508) -> (-0.340916, 0.033424, 0.136366)], [(-0.340916, 0.033424, 0.136366) -> (-0.346055, 0.032391, 0.129129)], [(-0.346055, 0.032391, 0.129129) -> (-0.258873, 0.032391, 0.264508)]}\n"
     ]
    },
    {
     "ename": "KeyboardInterrupt",
     "evalue": "",
     "output_type": "error",
     "traceback": [
      "\u001b[1;31m---------------------------------------------------------------------------\u001b[0m",
      "\u001b[1;31mKeyboardInterrupt\u001b[0m                         Traceback (most recent call last)",
      "\u001b[1;32m<ipython-input-29-285939bced83>\u001b[0m in \u001b[0;36m<module>\u001b[1;34m\u001b[0m\n\u001b[0;32m      1\u001b[0m \u001b[0minitial_time\u001b[0m \u001b[1;33m=\u001b[0m \u001b[0mtime\u001b[0m\u001b[1;33m(\u001b[0m\u001b[1;33m)\u001b[0m\u001b[1;33m\u001b[0m\u001b[1;33m\u001b[0m\u001b[0m\n\u001b[0;32m      2\u001b[0m \u001b[0mprint\u001b[0m\u001b[1;33m(\u001b[0m\u001b[1;34m\"Initial Time:\"\u001b[0m\u001b[1;33m,\u001b[0m \u001b[0minitial_time\u001b[0m\u001b[1;33m)\u001b[0m\u001b[1;33m\u001b[0m\u001b[1;33m\u001b[0m\u001b[0m\n\u001b[1;32m----> 3\u001b[1;33m \u001b[0mnH\u001b[0m \u001b[1;33m=\u001b[0m \u001b[0mGiftWrap\u001b[0m\u001b[1;33m(\u001b[0m\u001b[0mpoints\u001b[0m\u001b[1;33m)\u001b[0m\u001b[1;33m\u001b[0m\u001b[1;33m\u001b[0m\u001b[0m\n\u001b[0m\u001b[0;32m      4\u001b[0m \u001b[0mprint\u001b[0m\u001b[1;33m(\u001b[0m\u001b[1;34m\"Demorou: {}\"\u001b[0m\u001b[1;33m.\u001b[0m\u001b[0mformat\u001b[0m\u001b[1;33m(\u001b[0m\u001b[0mtime\u001b[0m\u001b[1;33m(\u001b[0m\u001b[1;33m)\u001b[0m\u001b[1;33m-\u001b[0m\u001b[0minitial_time\u001b[0m\u001b[1;33m(\u001b[0m\u001b[1;33m)\u001b[0m\u001b[1;33m)\u001b[0m\u001b[1;33m)\u001b[0m\u001b[1;33m\u001b[0m\u001b[1;33m\u001b[0m\u001b[0m\n\u001b[0;32m      5\u001b[0m \u001b[1;31m# for h in nH:\u001b[0m\u001b[1;33m\u001b[0m\u001b[1;33m\u001b[0m\u001b[1;33m\u001b[0m\u001b[0m\n",
      "\u001b[1;32m<ipython-input-19-5c4cdbbc76c5>\u001b[0m in \u001b[0;36mGiftWrap\u001b[1;34m(P)\u001b[0m\n\u001b[0;32m     12\u001b[0m     \u001b[1;32mwhile\u001b[0m \u001b[1;32mnot\u001b[0m \u001b[0mlen\u001b[0m\u001b[1;33m(\u001b[0m\u001b[0mfaces\u001b[0m\u001b[1;33m)\u001b[0m \u001b[1;33m==\u001b[0m \u001b[1;36m0\u001b[0m\u001b[1;33m:\u001b[0m\u001b[1;33m\u001b[0m\u001b[1;33m\u001b[0m\u001b[0m\n\u001b[0;32m     13\u001b[0m         \u001b[0mt\u001b[0m \u001b[1;33m=\u001b[0m \u001b[0mfaces\u001b[0m\u001b[1;33m.\u001b[0m\u001b[0mpop\u001b[0m\u001b[1;33m(\u001b[0m\u001b[1;36m0\u001b[0m\u001b[1;33m)\u001b[0m\u001b[1;33m\u001b[0m\u001b[1;33m\u001b[0m\u001b[0m\n\u001b[1;32m---> 14\u001b[1;33m         \u001b[0medges\u001b[0m \u001b[1;33m=\u001b[0m \u001b[0mFindFreeEdge\u001b[0m\u001b[1;33m(\u001b[0m\u001b[0mH\u001b[0m\u001b[1;33m,\u001b[0m \u001b[0mt\u001b[0m\u001b[1;33m)\u001b[0m\u001b[1;33m\u001b[0m\u001b[1;33m\u001b[0m\u001b[0m\n\u001b[0m\u001b[0;32m     15\u001b[0m \u001b[1;31m#         print(\"EDGES:\")\u001b[0m\u001b[1;33m\u001b[0m\u001b[1;33m\u001b[0m\u001b[1;33m\u001b[0m\u001b[0m\n\u001b[0;32m     16\u001b[0m \u001b[1;31m#         for e___ in edges: print(e___)\u001b[0m\u001b[1;33m\u001b[0m\u001b[1;33m\u001b[0m\u001b[1;33m\u001b[0m\u001b[0m\n",
      "\u001b[1;32m<ipython-input-11-94b923f13aa0>\u001b[0m in \u001b[0;36mFindFreeEdge\u001b[1;34m(F, face)\u001b[0m\n\u001b[0;32m      3\u001b[0m     \u001b[1;32mfor\u001b[0m \u001b[0mface\u001b[0m \u001b[1;32min\u001b[0m \u001b[0mF\u001b[0m\u001b[1;33m:\u001b[0m\u001b[1;33m\u001b[0m\u001b[1;33m\u001b[0m\u001b[0m\n\u001b[0;32m      4\u001b[0m \u001b[1;31m#         print(\"FACE no FIND:\", face)\u001b[0m\u001b[1;33m\u001b[0m\u001b[1;33m\u001b[0m\u001b[1;33m\u001b[0m\u001b[0m\n\u001b[1;32m----> 5\u001b[1;33m         \u001b[1;32mif\u001b[0m\u001b[1;33m(\u001b[0m\u001b[0mFreeEdge\u001b[0m\u001b[1;33m(\u001b[0m\u001b[0mF\u001b[0m\u001b[1;33m,\u001b[0m \u001b[0mface\u001b[0m\u001b[1;33m.\u001b[0m\u001b[0me1\u001b[0m\u001b[1;33m)\u001b[0m\u001b[1;33m)\u001b[0m\u001b[1;33m:\u001b[0m\u001b[1;33m\u001b[0m\u001b[1;33m\u001b[0m\u001b[0m\n\u001b[0m\u001b[0;32m      6\u001b[0m \u001b[1;31m#             print(\"TRUE no IF 1\")\u001b[0m\u001b[1;33m\u001b[0m\u001b[1;33m\u001b[0m\u001b[1;33m\u001b[0m\u001b[0m\n\u001b[0;32m      7\u001b[0m             \u001b[0mfree_edges\u001b[0m\u001b[1;33m.\u001b[0m\u001b[0mappend\u001b[0m\u001b[1;33m(\u001b[0m\u001b[0mface\u001b[0m\u001b[1;33m.\u001b[0m\u001b[0me1\u001b[0m\u001b[1;33m)\u001b[0m\u001b[1;33m\u001b[0m\u001b[1;33m\u001b[0m\u001b[0m\n",
      "\u001b[1;32m<ipython-input-10-0d04a9b5cbe6>\u001b[0m in \u001b[0;36mFreeEdge\u001b[1;34m(F, e)\u001b[0m\n\u001b[0;32m      2\u001b[0m     \u001b[0mcount\u001b[0m \u001b[1;33m=\u001b[0m \u001b[1;36m0\u001b[0m\u001b[1;33m\u001b[0m\u001b[1;33m\u001b[0m\u001b[0m\n\u001b[0;32m      3\u001b[0m     \u001b[1;32mfor\u001b[0m \u001b[0mf\u001b[0m \u001b[1;32min\u001b[0m \u001b[0mF\u001b[0m\u001b[1;33m:\u001b[0m\u001b[1;33m\u001b[0m\u001b[1;33m\u001b[0m\u001b[0m\n\u001b[1;32m----> 4\u001b[1;33m         \u001b[1;32mif\u001b[0m \u001b[1;33m(\u001b[0m\u001b[0mf\u001b[0m\u001b[1;33m.\u001b[0m\u001b[0me1\u001b[0m \u001b[1;33m==\u001b[0m \u001b[0me\u001b[0m \u001b[1;32mor\u001b[0m \u001b[0mf\u001b[0m\u001b[1;33m.\u001b[0m\u001b[0me2\u001b[0m \u001b[1;33m==\u001b[0m \u001b[0me\u001b[0m \u001b[1;32mor\u001b[0m \u001b[0mf\u001b[0m\u001b[1;33m.\u001b[0m\u001b[0me3\u001b[0m \u001b[1;33m==\u001b[0m \u001b[0me\u001b[0m\u001b[1;33m)\u001b[0m\u001b[1;33m:\u001b[0m\u001b[1;33m\u001b[0m\u001b[1;33m\u001b[0m\u001b[0m\n\u001b[0m\u001b[0;32m      5\u001b[0m             \u001b[0mcount\u001b[0m\u001b[1;33m+=\u001b[0m\u001b[1;36m1\u001b[0m\u001b[1;33m\u001b[0m\u001b[1;33m\u001b[0m\u001b[0m\n\u001b[0;32m      6\u001b[0m \u001b[1;31m#     print(\"Count:\",count)\u001b[0m\u001b[1;33m\u001b[0m\u001b[1;33m\u001b[0m\u001b[1;33m\u001b[0m\u001b[0m\n",
      "\u001b[1;32m<ipython-input-1-58643f0f9125>\u001b[0m in \u001b[0;36m__eq__\u001b[1;34m(self, other)\u001b[0m\n\u001b[0;32m     46\u001b[0m         \u001b[0mself\u001b[0m\u001b[1;33m.\u001b[0m\u001b[0mp2\u001b[0m \u001b[1;33m=\u001b[0m \u001b[0mp2\u001b[0m\u001b[1;33m\u001b[0m\u001b[1;33m\u001b[0m\u001b[0m\n\u001b[0;32m     47\u001b[0m \u001b[1;33m\u001b[0m\u001b[0m\n\u001b[1;32m---> 48\u001b[1;33m     \u001b[1;32mdef\u001b[0m \u001b[0m__eq__\u001b[0m\u001b[1;33m(\u001b[0m\u001b[0mself\u001b[0m\u001b[1;33m,\u001b[0m \u001b[0mother\u001b[0m\u001b[1;33m)\u001b[0m\u001b[1;33m:\u001b[0m\u001b[1;33m\u001b[0m\u001b[1;33m\u001b[0m\u001b[0m\n\u001b[0m\u001b[0;32m     49\u001b[0m         \u001b[1;31m# return self.__dict__ == other.__dict__\u001b[0m\u001b[1;33m\u001b[0m\u001b[1;33m\u001b[0m\u001b[1;33m\u001b[0m\u001b[0m\n\u001b[0;32m     50\u001b[0m         \u001b[1;32mif\u001b[0m \u001b[0mself\u001b[0m\u001b[1;33m.\u001b[0m\u001b[0mp1\u001b[0m \u001b[1;33m==\u001b[0m \u001b[0mother\u001b[0m\u001b[1;33m.\u001b[0m\u001b[0mp1\u001b[0m \u001b[1;32mor\u001b[0m \u001b[0mself\u001b[0m\u001b[1;33m.\u001b[0m\u001b[0mp1\u001b[0m \u001b[1;33m==\u001b[0m \u001b[0mother\u001b[0m\u001b[1;33m.\u001b[0m\u001b[0mp2\u001b[0m\u001b[1;33m:\u001b[0m\u001b[1;33m\u001b[0m\u001b[1;33m\u001b[0m\u001b[0m\n",
      "\u001b[1;31mKeyboardInterrupt\u001b[0m: "
     ]
    }
   ],
   "source": [
    "initial_time = time()\n",
    "print(\"Initial Time:\", initial_time)\n",
    "nH = GiftWrap(points)\n",
    "print(\"Demorou: {}\".format(time()-initial_time()))\n",
    "# for h in nH:\n",
    "#     print(h)\n",
    "print(len(nH))"
   ]
  },
  {
   "cell_type": "code",
   "execution_count": 45,
   "metadata": {
    "ExecuteTime": {
     "end_time": "2021-07-26T02:29:46.051596Z",
     "start_time": "2021-07-26T02:29:46.048124Z"
    },
    "scrolled": true
   },
   "outputs": [],
   "source": [
    "# print_faces(H, P)\n",
    "write_faces(H, P, path+\"/bento2.obj\")"
   ]
  },
  {
   "cell_type": "code",
   "execution_count": null,
   "metadata": {
    "ExecuteTime": {
     "end_time": "2021-07-26T01:39:32.332618Z",
     "start_time": "2021-07-26T01:04:55.393Z"
    }
   },
   "outputs": [],
   "source": [
    "write_faces(nH, points, path+\"/controle.obj\")\n",
    "# print_faces(nH, points)\n"
   ]
  },
  {
   "cell_type": "code",
   "execution_count": null,
   "metadata": {},
   "outputs": [],
   "source": []
  },
  {
   "cell_type": "code",
   "execution_count": null,
   "metadata": {
    "ExecuteTime": {
     "end_time": "2021-07-26T01:39:32.333604Z",
     "start_time": "2021-07-26T01:04:55.396Z"
    }
   },
   "outputs": [],
   "source": [
    "points = read_vertices_from_obj(\"/Users/romul/Documents/UFC/MESTRADO/Disciplinas/Geometria Computacional/obj/esfera.obj\")\n",
    "print(len(points))"
   ]
  },
  {
   "cell_type": "code",
   "execution_count": null,
   "metadata": {
    "ExecuteTime": {
     "end_time": "2021-07-26T01:39:32.334102Z",
     "start_time": "2021-07-26T01:04:55.397Z"
    }
   },
   "outputs": [],
   "source": [
    "find_first_face(points)"
   ]
  }
 ],
 "metadata": {
  "colab": {
   "authorship_tag": "ABX9TyMHbR0jUi2eaz6y7q07g8rw",
   "collapsed_sections": [],
   "name": "GiftWrapping3d.ipynb",
   "provenance": []
  },
  "interpreter": {
   "hash": "268667e8c71b25b3049943bd413d98983c026056eac1b8985b3fb7c108555c46"
  },
  "kernelspec": {
   "display_name": "Python 3",
   "language": "python",
   "name": "python3"
  },
  "language_info": {
   "codemirror_mode": {
    "name": "ipython",
    "version": 3
   },
   "file_extension": ".py",
   "mimetype": "text/x-python",
   "name": "python",
   "nbconvert_exporter": "python",
   "pygments_lexer": "ipython3",
   "version": "3.8.7"
  }
 },
 "nbformat": 4,
 "nbformat_minor": 1
}
