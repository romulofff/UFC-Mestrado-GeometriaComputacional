{
 "cells": [
  {
   "cell_type": "code",
   "execution_count": 1,
   "metadata": {
    "ExecuteTime": {
     "end_time": "2021-07-23T13:53:41.027613Z",
     "start_time": "2021-07-23T13:53:40.751837Z"
    }
   },
   "outputs": [],
   "source": [
    "import os\n",
    "import math\n",
    "from tarefa02.gcrf import Gcrf, Point, Edge, Face"
   ]
  },
  {
   "cell_type": "code",
   "execution_count": 2,
   "metadata": {
    "ExecuteTime": {
     "end_time": "2021-07-23T13:53:41.042989Z",
     "start_time": "2021-07-23T13:53:41.029102Z"
    },
    "executionInfo": {
     "elapsed": 254,
     "status": "ok",
     "timestamp": 1626744372944,
     "user": {
      "displayName": "Paulo Bruno Serafim",
      "photoUrl": "https://lh3.googleusercontent.com/a-/AOh14GgKyTLTgz0mz9XoFCRFsxnJAzgsSy10N71vvQmUpQ=s64",
      "userId": "14036489635138228772"
     },
     "user_tz": 180
    },
    "id": "E6nNyEqcgUIh"
   },
   "outputs": [],
   "source": [
    "gc = Gcrf()"
   ]
  },
  {
   "cell_type": "code",
   "execution_count": 3,
   "metadata": {
    "ExecuteTime": {
     "end_time": "2021-07-23T13:53:41.058366Z",
     "start_time": "2021-07-23T13:53:41.044476Z"
    },
    "colab": {
     "base_uri": "https://localhost:8080/"
    },
    "executionInfo": {
     "elapsed": 397,
     "status": "ok",
     "timestamp": 1626744375141,
     "user": {
      "displayName": "Paulo Bruno Serafim",
      "photoUrl": "https://lh3.googleusercontent.com/a-/AOh14GgKyTLTgz0mz9XoFCRFsxnJAzgsSy10N71vvQmUpQ=s64",
      "userId": "14036489635138228772"
     },
     "user_tz": 180
    },
    "id": "4UCAv0aGgjHo",
    "outputId": "5d51e3df-a8f1-4f19-d7d4-d2d50b0f1287"
   },
   "outputs": [
    {
     "name": "stdout",
     "output_type": "stream",
     "text": [
      "(1, 2, 3)\n"
     ]
    }
   ],
   "source": [
    "p = Point(1, 2, 3)\n",
    "print(p)"
   ]
  },
  {
   "cell_type": "code",
   "execution_count": 4,
   "metadata": {
    "ExecuteTime": {
     "end_time": "2021-07-23T13:53:41.089117Z",
     "start_time": "2021-07-23T13:53:41.059853Z"
    },
    "colab": {
     "base_uri": "https://localhost:8080/"
    },
    "executionInfo": {
     "elapsed": 255,
     "status": "ok",
     "timestamp": 1626744507482,
     "user": {
      "displayName": "Paulo Bruno Serafim",
      "photoUrl": "https://lh3.googleusercontent.com/a-/AOh14GgKyTLTgz0mz9XoFCRFsxnJAzgsSy10N71vvQmUpQ=s64",
      "userId": "14036489635138228772"
     },
     "user_tz": 180
    },
    "id": "T1-CbwOhhuLB",
    "outputId": "bdaa0c50-71be-4ab9-b1c1-f9c021dd6eea"
   },
   "outputs": [
    {
     "name": "stdout",
     "output_type": "stream",
     "text": [
      "[(1, 2, 3) -> (4, 5, 6)]\n"
     ]
    }
   ],
   "source": [
    "p1 = Point(1, 2, 3)\n",
    "p2 = Point(4, 5, 6)\n",
    "\n",
    "e = Edge(p1, p2)\n",
    "\n",
    "print(e)"
   ]
  },
  {
   "cell_type": "code",
   "execution_count": 5,
   "metadata": {
    "ExecuteTime": {
     "end_time": "2021-07-23T13:53:41.104493Z",
     "start_time": "2021-07-23T13:53:41.090110Z"
    },
    "colab": {
     "base_uri": "https://localhost:8080/"
    },
    "executionInfo": {
     "elapsed": 307,
     "status": "ok",
     "timestamp": 1626745571666,
     "user": {
      "displayName": "Paulo Bruno Serafim",
      "photoUrl": "https://lh3.googleusercontent.com/a-/AOh14GgKyTLTgz0mz9XoFCRFsxnJAzgsSy10N71vvQmUpQ=s64",
      "userId": "14036489635138228772"
     },
     "user_tz": 180
    },
    "id": "yXIuwsz3jPAJ",
    "outputId": "faaa9f58-9b60-4153-c1d8-5c026bdc43c0"
   },
   "outputs": [
    {
     "name": "stdout",
     "output_type": "stream",
     "text": [
      "{[(1, 2, 3) -> (4, 5, 6)], [(4, 5, 6) -> (7, 8, 9)], [(7, 8, 9) -> (1, 2, 3)]}\n"
     ]
    }
   ],
   "source": [
    "p1 = Point(1, 2, 3)\n",
    "p2 = Point(4, 5, 6)\n",
    "p3 = Point(7, 8, 9)\n",
    "\n",
    "e1 = Edge(p1, p2)\n",
    "e2 = Edge(p2, p3)\n",
    "e3 = Edge(p3, p1)\n",
    "\n",
    "f = Face(e1, e2, e3)\n",
    "f_ = Face(e3, e1, e2)\n",
    "print(f)"
   ]
  },
  {
   "cell_type": "code",
   "execution_count": 6,
   "metadata": {
    "ExecuteTime": {
     "end_time": "2021-07-23T13:53:41.119870Z",
     "start_time": "2021-07-23T13:53:41.105485Z"
    }
   },
   "outputs": [],
   "source": [
    "def checa_face(F, f):\n",
    "    for face in F:\n",
    "        if f == face:\n",
    "            return True\n",
    "    return False"
   ]
  },
  {
   "cell_type": "code",
   "execution_count": 7,
   "metadata": {
    "ExecuteTime": {
     "end_time": "2021-07-23T13:53:41.135245Z",
     "start_time": "2021-07-23T13:53:41.120862Z"
    }
   },
   "outputs": [
    {
     "name": "stdout",
     "output_type": "stream",
     "text": [
      "0.16666666666666666\n",
      "-0.16666666666666666\n"
     ]
    }
   ],
   "source": [
    "p1 = Point(0,-1,0)\n",
    "p2 = Point(0, 0, 0)\n",
    "p3 = Point(0,0,1)\n",
    "a = Point(1, 0,0)\n",
    "b = Point(-1,0,0)\n",
    "print(gc.signed_volume(p1,p2,p3,a))\n",
    "print(gc.signed_volume(p1,p2,p3,b))"
   ]
  },
  {
   "cell_type": "code",
   "execution_count": 8,
   "metadata": {
    "ExecuteTime": {
     "end_time": "2021-07-23T13:53:41.150621Z",
     "start_time": "2021-07-23T13:53:41.137229Z"
    }
   },
   "outputs": [],
   "source": [
    "def PivotAroundEdge(f, e, P):\n",
    "    minAngle = 2*math.pi\n",
    "    candidate = None\n",
    "    print(\"E\",e, \"F\",f)\n",
    "    n1 = normal(f.e1.p1, f.e1.p2, f.e2.p2)\n",
    "    \n",
    "    for i in range(len(P)):\n",
    "        if P[i] == e.p1 or P[i] == e.p2: continue\n",
    "        print(\"PONTOS DA FACE\",e.p2, e.p1, P[i])\n",
    "        n2 = normal(e.p2, e.p1, P[i])\n",
    "        print(\"n1\", n1, \"n2\", n2)\n",
    "#         if n2 == Point(0,0,0): continue\n",
    "        angle = -1*gc.angulo(n1,n2)\n",
    "        print(\"Angulo\",angle)\n",
    "        if angle < minAngle and P[i] != e.p1 and P[i] != e.p2:\n",
    "            minAngle = angle\n",
    "            candidate = i\n",
    "    return P[candidate]"
   ]
  },
  {
   "cell_type": "code",
   "execution_count": 9,
   "metadata": {
    "ExecuteTime": {
     "end_time": "2021-07-23T13:53:41.165997Z",
     "start_time": "2021-07-23T13:53:41.152109Z"
    },
    "executionInfo": {
     "elapsed": 2,
     "status": "ok",
     "timestamp": 1626745886771,
     "user": {
      "displayName": "Paulo Bruno Serafim",
      "photoUrl": "https://lh3.googleusercontent.com/a-/AOh14GgKyTLTgz0mz9XoFCRFsxnJAzgsSy10N71vvQmUpQ=s64",
      "userId": "14036489635138228772"
     },
     "user_tz": 180
    },
    "id": "3bc8z2bXV1P3"
   },
   "outputs": [],
   "source": [
    "# def PivotAroundEdge(e, P):\n",
    "#     minAngle = 2*math.pi\n",
    "#     candidate = None\n",
    "#     normal = gc.prod_vetorial(e.p1, e.p2)\n",
    "# #     print(\"NORMAL:\", normal)\n",
    "#     for i in range(len(P)):\n",
    "#         print(\"P[i]\",P[i])\n",
    "#         angle = gc.angulo(normal, P[i])\n",
    "#         if angle < minAngle:\n",
    "#             minAngle = angle\n",
    "#             candidate = i\n",
    "#     return P[candidate]"
   ]
  },
  {
   "cell_type": "code",
   "execution_count": 10,
   "metadata": {
    "ExecuteTime": {
     "end_time": "2021-07-23T13:53:41.181373Z",
     "start_time": "2021-07-23T13:53:41.167485Z"
    },
    "id": "t_jWGHRknRmU"
   },
   "outputs": [],
   "source": [
    "def BottomMostLeftMostBackMost(P):\n",
    "    ys = [p.y for p in P]\n",
    "    min_value = min(ys)\n",
    "    min_index = ys.index(min_value)\n",
    "    return P[min_index]"
   ]
  },
  {
   "cell_type": "code",
   "execution_count": 11,
   "metadata": {
    "ExecuteTime": {
     "end_time": "2021-07-23T13:53:41.196749Z",
     "start_time": "2021-07-23T13:53:41.182861Z"
    }
   },
   "outputs": [],
   "source": [
    "def normal(p1, p2, p3):\n",
    "    v1 = gc.subtr_vetorial(p1,p2)    \n",
    "    v2 = gc.subtr_vetorial(p1,p3)\n",
    "    return gc.prod_vetorial(v1,v2)"
   ]
  },
  {
   "cell_type": "code",
   "execution_count": 12,
   "metadata": {
    "ExecuteTime": {
     "end_time": "2021-07-23T13:53:41.212129Z",
     "start_time": "2021-07-23T13:53:41.198237Z"
    }
   },
   "outputs": [],
   "source": [
    "def find_first_face(P):\n",
    "    minAngle = 2*math.pi\n",
    "    candidate = None\n",
    "    \n",
    "    p1 = BottomMostLeftMostBackMost(P)\n",
    "    p2 = Point(p1.x, p1.y, p1.z-1)\n",
    "    p3 = Point(p1.x+1, p1.y, p1.z) \n",
    "    print(\"primeiro P1\", p1, \"P2\", p2, \"P3\", p3)\n",
    "    n1 = normal(p1, p2, p3)\n",
    "    \n",
    "    for i in range(len(P)):\n",
    "        if P[i] == p1: continue\n",
    "        n2 = normal(p1, p2, P[i])\n",
    "        angle = gc.angulo(n1,n2)\n",
    "        if angle < minAngle and P[i] != p:\n",
    "            minAngle = angle\n",
    "            candidate = i\n",
    "        \n",
    "    p3 = P[candidate]\n",
    "\n",
    "    \n",
    "    n1 = normal(p1, p2, p3)\n",
    "    for j in range(len(P)):\n",
    "        if P[j] == p1 or P[j] == p3: continue\n",
    "        n2 = normal(p1, P[j], p3)\n",
    "        angle = gc.angulo(n1,n2)\n",
    "        if angle < minAngle and P[j] != p1 and P[j] != p3:\n",
    "            minAngle = angle\n",
    "            candidate = j\n",
    "    \n",
    "    p2 = P[candidate]\n",
    "    \n",
    "    e1 = Edge(p1,p2)\n",
    "    e2 = Edge(p2, p3)\n",
    "    e3 = Edge(p3, p1)\n",
    "    print(\"P {} Q {} R {}\".format(p1,p2,p3))\n",
    "    face = Face(e1, e2, e3)\n",
    "    return face"
   ]
  },
  {
   "cell_type": "code",
   "execution_count": 13,
   "metadata": {
    "ExecuteTime": {
     "end_time": "2021-07-23T13:53:41.227505Z",
     "start_time": "2021-07-23T13:53:41.213121Z"
    }
   },
   "outputs": [],
   "source": [
    "def NotProcessed(E, e):\n",
    "#     print(\"Aresta no Not Processed\",e)\n",
    "    for i in E:\n",
    "        if e == i:\n",
    "            return False\n",
    "    return True"
   ]
  },
  {
   "cell_type": "code",
   "execution_count": 14,
   "metadata": {
    "ExecuteTime": {
     "end_time": "2021-07-23T13:53:41.242881Z",
     "start_time": "2021-07-23T13:53:41.228496Z"
    }
   },
   "outputs": [],
   "source": [
    "def GiftWrap(P):\n",
    "#     t = FindTriangleOnHull(P)\n",
    "    t = find_first_face(P)\n",
    "    print(\"Triangulo encontrado:\", t)\n",
    "    Q = [t.e1, t.e2, t.e3]\n",
    "    H = [t]\n",
    "    Processed = []\n",
    "    print(\"Q possui as arestas:\")\n",
    "    for q in Q: print(q)\n",
    "    while not len(Q) == 0:\n",
    "        e = Q.pop(0)\n",
    "#         e = Edge(e.p2, e.p1)\n",
    "        print(\"Aresta a ser processada:\", e)\n",
    "        if NotProcessed(Processed, e):\n",
    "            print(\"Aresta {} não foi processada, entrando no IF\".format(e))\n",
    "            q = PivotAroundEdge(t, e, P)\n",
    "            print(\"Resultado do PivotAroundEdge:\", q)\n",
    "            t = Face(e, Edge(e.p2, q), Edge(q, e.p1))\n",
    "            print(\"Nova face:\", t)\n",
    "            face_no_hull = checa_face(H, t)\n",
    "            if not face_no_hull:\n",
    "                H.append(t)\n",
    "                print(\"{} entrou no Hull\".format(t))\n",
    "            else: print(\"Face já está no Hull\")\n",
    "#             e_ = Edge(e.p2, e.p1)\n",
    "            Q.extend([t.e1, t.e2, t.e3])\n",
    "            print(\"Q agora possui as arestas:\")\n",
    "            for q in Q: print(q)\n",
    "            Processed.append(e)\n",
    "            print(\"Processed agora inclui a aresta {} e contém as seguintes arestas:\".format(e))\n",
    "            for aresta in Processed: print(aresta)\n",
    "        else: print(\"Aresta JÁ PROCESSADA\")\n",
    "    return H"
   ]
  },
  {
   "cell_type": "code",
   "execution_count": 15,
   "metadata": {
    "ExecuteTime": {
     "end_time": "2021-07-23T13:53:41.304385Z",
     "start_time": "2021-07-23T13:53:41.243873Z"
    },
    "colab": {
     "base_uri": "https://localhost:8080/",
     "height": 341
    },
    "executionInfo": {
     "elapsed": 265,
     "status": "error",
     "timestamp": 1626745928875,
     "user": {
      "displayName": "Paulo Bruno Serafim",
      "photoUrl": "https://lh3.googleusercontent.com/a-/AOh14GgKyTLTgz0mz9XoFCRFsxnJAzgsSy10N71vvQmUpQ=s64",
      "userId": "14036489635138228772"
     },
     "user_tz": 180
    },
    "id": "b9yqBbH_WlCb",
    "outputId": "8514a9d8-2e5a-4811-f376-e560c3bc5dd6",
    "scrolled": true
   },
   "outputs": [
    {
     "name": "stdout",
     "output_type": "stream",
     "text": [
      "primeiro P1 (0, -1, 0) P2 (0, -1, -1) P3 (1, -1, 0)\n",
      "P (0, -1, 0) Q (0, 0, 1) R (-1, 0, 0)\n",
      "Triangulo encontrado: {[(0, -1, 0) -> (0, 0, 1)], [(0, 0, 1) -> (-1, 0, 0)], [(-1, 0, 0) -> (0, -1, 0)]}\n",
      "Q possui as arestas:\n",
      "[(0, -1, 0) -> (0, 0, 1)]\n",
      "[(0, 0, 1) -> (-1, 0, 0)]\n",
      "[(-1, 0, 0) -> (0, -1, 0)]\n",
      "Aresta a ser processada: [(0, -1, 0) -> (0, 0, 1)]\n",
      "Aresta [(0, -1, 0) -> (0, 0, 1)] não foi processada, entrando no IF\n",
      "E [(0, -1, 0) -> (0, 0, 1)] F {[(0, -1, 0) -> (0, 0, 1)], [(0, 0, 1) -> (-1, 0, 0)], [(-1, 0, 0) -> (0, -1, 0)]}\n",
      "PONTOS DA FACE (0, 0, 1) (0, -1, 0) (-1, 0, 0)\n",
      "n1 (-1, -1, 1) n2 (1, 1, -1)\n",
      "Angulo 1.0000000000000002\n",
      "PONTOS DA FACE (0, 0, 1) (0, -1, 0) (0, 1, 0)\n",
      "n1 (-1, -1, 1) n2 (2, 0, 0)\n",
      "Angulo 0.5773502691896258\n",
      "PONTOS DA FACE (0, 0, 1) (0, -1, 0) (0, 0, -1)\n",
      "n1 (-1, -1, 1) n2 (2, 0, 0)\n",
      "Angulo 0.5773502691896258\n",
      "PONTOS DA FACE (0, 0, 1) (0, -1, 0) (1, 0, 0)\n",
      "n1 (-1, -1, 1) n2 (1, -1, 1)\n",
      "Angulo -0.33333333333333337\n",
      "Resultado do PivotAroundEdge: (1, 0, 0)\n",
      "Nova face: {[(0, -1, 0) -> (0, 0, 1)], [(0, 0, 1) -> (1, 0, 0)], [(1, 0, 0) -> (0, -1, 0)]}\n",
      "{[(0, -1, 0) -> (0, 0, 1)], [(0, 0, 1) -> (1, 0, 0)], [(1, 0, 0) -> (0, -1, 0)]} entrou no Hull\n",
      "Q agora possui as arestas:\n",
      "[(0, 0, 1) -> (-1, 0, 0)]\n",
      "[(-1, 0, 0) -> (0, -1, 0)]\n",
      "[(0, -1, 0) -> (0, 0, 1)]\n",
      "[(0, 0, 1) -> (1, 0, 0)]\n",
      "[(1, 0, 0) -> (0, -1, 0)]\n",
      "Processed agora inclui a aresta [(0, -1, 0) -> (0, 0, 1)] e contém as seguintes arestas:\n",
      "[(0, -1, 0) -> (0, 0, 1)]\n",
      "Aresta a ser processada: [(0, 0, 1) -> (-1, 0, 0)]\n",
      "Aresta [(0, 0, 1) -> (-1, 0, 0)] não foi processada, entrando no IF\n",
      "E [(0, 0, 1) -> (-1, 0, 0)] F {[(0, -1, 0) -> (0, 0, 1)], [(0, 0, 1) -> (1, 0, 0)], [(1, 0, 0) -> (0, -1, 0)]}\n",
      "PONTOS DA FACE (-1, 0, 0) (0, 0, 1) (0, -1, 0)\n",
      "n1 (-1, 1, -1) n2 (1, 1, -1)\n",
      "Angulo -0.33333333333333337\n",
      "PONTOS DA FACE (-1, 0, 0) (0, 0, 1) (0, 1, 0)\n",
      "n1 (-1, 1, -1) n2 (-1, 1, 1)\n",
      "Angulo -0.33333333333333337\n",
      "PONTOS DA FACE (-1, 0, 0) (0, 0, 1) (0, 0, -1)\n",
      "n1 (-1, 1, -1) n2 (0, 2, 0)\n",
      "Angulo -0.5773502691896258\n",
      "PONTOS DA FACE (-1, 0, 0) (0, 0, 1) (1, 0, 0)\n",
      "n1 (-1, 1, -1) n2 (0, 2, 0)\n",
      "Angulo -0.5773502691896258\n",
      "Resultado do PivotAroundEdge: (0, 0, -1)\n",
      "Nova face: {[(0, 0, 1) -> (-1, 0, 0)], [(-1, 0, 0) -> (0, 0, -1)], [(0, 0, -1) -> (0, 0, 1)]}\n",
      "{[(0, 0, 1) -> (-1, 0, 0)], [(-1, 0, 0) -> (0, 0, -1)], [(0, 0, -1) -> (0, 0, 1)]} entrou no Hull\n",
      "Q agora possui as arestas:\n",
      "[(-1, 0, 0) -> (0, -1, 0)]\n",
      "[(0, -1, 0) -> (0, 0, 1)]\n",
      "[(0, 0, 1) -> (1, 0, 0)]\n",
      "[(1, 0, 0) -> (0, -1, 0)]\n",
      "[(0, 0, 1) -> (-1, 0, 0)]\n",
      "[(-1, 0, 0) -> (0, 0, -1)]\n",
      "[(0, 0, -1) -> (0, 0, 1)]\n",
      "Processed agora inclui a aresta [(0, 0, 1) -> (-1, 0, 0)] e contém as seguintes arestas:\n",
      "[(0, -1, 0) -> (0, 0, 1)]\n",
      "[(0, 0, 1) -> (-1, 0, 0)]\n",
      "Aresta a ser processada: [(-1, 0, 0) -> (0, -1, 0)]\n",
      "Aresta [(-1, 0, 0) -> (0, -1, 0)] não foi processada, entrando no IF\n",
      "E [(-1, 0, 0) -> (0, -1, 0)] F {[(0, 0, 1) -> (-1, 0, 0)], [(-1, 0, 0) -> (0, 0, -1)], [(0, 0, -1) -> (0, 0, 1)]}\n",
      "PONTOS DA FACE (0, -1, 0) (-1, 0, 0) (0, 1, 0)\n",
      "n1 (0, -2, 0) n2 (0, 0, -2)\n",
      "Angulo -0.0\n",
      "PONTOS DA FACE (0, -1, 0) (-1, 0, 0) (0, 0, 1)\n",
      "n1 (0, -2, 0) n2 (1, 1, -1)\n",
      "Angulo 0.5773502691896258\n",
      "PONTOS DA FACE (0, -1, 0) (-1, 0, 0) (0, 0, -1)\n",
      "n1 (0, -2, 0) n2 (-1, -1, -1)\n",
      "Angulo -0.5773502691896258\n",
      "PONTOS DA FACE (0, -1, 0) (-1, 0, 0) (1, 0, 0)\n",
      "n1 (0, -2, 0) n2 (0, 0, -2)\n",
      "Angulo -0.0\n",
      "Resultado do PivotAroundEdge: (0, 0, -1)\n",
      "Nova face: {[(-1, 0, 0) -> (0, -1, 0)], [(0, -1, 0) -> (0, 0, -1)], [(0, 0, -1) -> (-1, 0, 0)]}\n",
      "{[(-1, 0, 0) -> (0, -1, 0)], [(0, -1, 0) -> (0, 0, -1)], [(0, 0, -1) -> (-1, 0, 0)]} entrou no Hull\n",
      "Q agora possui as arestas:\n",
      "[(0, -1, 0) -> (0, 0, 1)]\n",
      "[(0, 0, 1) -> (1, 0, 0)]\n",
      "[(1, 0, 0) -> (0, -1, 0)]\n",
      "[(0, 0, 1) -> (-1, 0, 0)]\n",
      "[(-1, 0, 0) -> (0, 0, -1)]\n",
      "[(0, 0, -1) -> (0, 0, 1)]\n",
      "[(-1, 0, 0) -> (0, -1, 0)]\n",
      "[(0, -1, 0) -> (0, 0, -1)]\n",
      "[(0, 0, -1) -> (-1, 0, 0)]\n",
      "Processed agora inclui a aresta [(-1, 0, 0) -> (0, -1, 0)] e contém as seguintes arestas:\n",
      "[(0, -1, 0) -> (0, 0, 1)]\n",
      "[(0, 0, 1) -> (-1, 0, 0)]\n",
      "[(-1, 0, 0) -> (0, -1, 0)]\n",
      "Aresta a ser processada: [(0, -1, 0) -> (0, 0, 1)]\n",
      "Aresta JÁ PROCESSADA\n",
      "Aresta a ser processada: [(0, 0, 1) -> (1, 0, 0)]\n",
      "Aresta [(0, 0, 1) -> (1, 0, 0)] não foi processada, entrando no IF\n",
      "E [(0, 0, 1) -> (1, 0, 0)] F {[(-1, 0, 0) -> (0, -1, 0)], [(0, -1, 0) -> (0, 0, -1)], [(0, 0, -1) -> (-1, 0, 0)]}\n",
      "PONTOS DA FACE (1, 0, 0) (0, 0, 1) (-1, 0, 0)\n",
      "n1 (1, 1, 1) n2 (0, -2, 0)\n",
      "Angulo 0.5773502691896258\n",
      "PONTOS DA FACE (1, 0, 0) (0, 0, 1) (0, -1, 0)\n",
      "n1 (1, 1, 1) n2 (1, -1, 1)\n",
      "Angulo -0.33333333333333337\n",
      "PONTOS DA FACE (1, 0, 0) (0, 0, 1) (0, 1, 0)\n",
      "n1 (1, 1, 1) n2 (-1, -1, -1)\n",
      "Angulo 1.0000000000000002\n",
      "PONTOS DA FACE (1, 0, 0) (0, 0, 1) (0, 0, -1)\n",
      "n1 (1, 1, 1) n2 (0, -2, 0)\n",
      "Angulo 0.5773502691896258\n",
      "Resultado do PivotAroundEdge: (0, -1, 0)\n",
      "Nova face: {[(0, 0, 1) -> (1, 0, 0)], [(1, 0, 0) -> (0, -1, 0)], [(0, -1, 0) -> (0, 0, 1)]}\n",
      "Face já está no Hull\n",
      "Q agora possui as arestas:\n",
      "[(1, 0, 0) -> (0, -1, 0)]\n",
      "[(0, 0, 1) -> (-1, 0, 0)]\n",
      "[(-1, 0, 0) -> (0, 0, -1)]\n",
      "[(0, 0, -1) -> (0, 0, 1)]\n",
      "[(-1, 0, 0) -> (0, -1, 0)]\n",
      "[(0, -1, 0) -> (0, 0, -1)]\n",
      "[(0, 0, -1) -> (-1, 0, 0)]\n",
      "[(0, 0, 1) -> (1, 0, 0)]\n",
      "[(1, 0, 0) -> (0, -1, 0)]\n",
      "[(0, -1, 0) -> (0, 0, 1)]\n",
      "Processed agora inclui a aresta [(0, 0, 1) -> (1, 0, 0)] e contém as seguintes arestas:\n",
      "[(0, -1, 0) -> (0, 0, 1)]\n",
      "[(0, 0, 1) -> (-1, 0, 0)]\n",
      "[(-1, 0, 0) -> (0, -1, 0)]\n",
      "[(0, 0, 1) -> (1, 0, 0)]\n",
      "Aresta a ser processada: [(1, 0, 0) -> (0, -1, 0)]\n",
      "Aresta [(1, 0, 0) -> (0, -1, 0)] não foi processada, entrando no IF\n",
      "E [(1, 0, 0) -> (0, -1, 0)] F {[(0, 0, 1) -> (1, 0, 0)], [(1, 0, 0) -> (0, -1, 0)], [(0, -1, 0) -> (0, 0, 1)]}\n",
      "PONTOS DA FACE (0, -1, 0) (1, 0, 0) (-1, 0, 0)\n",
      "n1 (-1, 1, -1) n2 (0, 0, 2)\n",
      "Angulo 0.5773502691896258\n",
      "PONTOS DA FACE (0, -1, 0) (1, 0, 0) (0, 1, 0)\n",
      "n1 (-1, 1, -1) n2 (0, 0, 2)\n",
      "Angulo 0.5773502691896258\n",
      "PONTOS DA FACE (0, -1, 0) (1, 0, 0) (0, 0, 1)\n",
      "n1 (-1, 1, -1) n2 (1, -1, 1)\n",
      "Angulo 1.0000000000000002\n",
      "PONTOS DA FACE (0, -1, 0) (1, 0, 0) (0, 0, -1)\n",
      "n1 (-1, 1, -1) n2 (-1, 1, 1)\n",
      "Angulo -0.33333333333333337\n",
      "Resultado do PivotAroundEdge: (0, 0, -1)\n",
      "Nova face: {[(1, 0, 0) -> (0, -1, 0)], [(0, -1, 0) -> (0, 0, -1)], [(0, 0, -1) -> (1, 0, 0)]}\n",
      "{[(1, 0, 0) -> (0, -1, 0)], [(0, -1, 0) -> (0, 0, -1)], [(0, 0, -1) -> (1, 0, 0)]} entrou no Hull\n",
      "Q agora possui as arestas:\n",
      "[(0, 0, 1) -> (-1, 0, 0)]\n",
      "[(-1, 0, 0) -> (0, 0, -1)]\n",
      "[(0, 0, -1) -> (0, 0, 1)]\n",
      "[(-1, 0, 0) -> (0, -1, 0)]\n",
      "[(0, -1, 0) -> (0, 0, -1)]\n",
      "[(0, 0, -1) -> (-1, 0, 0)]\n",
      "[(0, 0, 1) -> (1, 0, 0)]\n",
      "[(1, 0, 0) -> (0, -1, 0)]\n",
      "[(0, -1, 0) -> (0, 0, 1)]\n",
      "[(1, 0, 0) -> (0, -1, 0)]\n",
      "[(0, -1, 0) -> (0, 0, -1)]\n",
      "[(0, 0, -1) -> (1, 0, 0)]\n",
      "Processed agora inclui a aresta [(1, 0, 0) -> (0, -1, 0)] e contém as seguintes arestas:\n",
      "[(0, -1, 0) -> (0, 0, 1)]\n",
      "[(0, 0, 1) -> (-1, 0, 0)]\n",
      "[(-1, 0, 0) -> (0, -1, 0)]\n",
      "[(0, 0, 1) -> (1, 0, 0)]\n",
      "[(1, 0, 0) -> (0, -1, 0)]\n",
      "Aresta a ser processada: [(0, 0, 1) -> (-1, 0, 0)]\n",
      "Aresta JÁ PROCESSADA\n",
      "Aresta a ser processada: [(-1, 0, 0) -> (0, 0, -1)]\n",
      "Aresta [(-1, 0, 0) -> (0, 0, -1)] não foi processada, entrando no IF\n",
      "E [(-1, 0, 0) -> (0, 0, -1)] F {[(1, 0, 0) -> (0, -1, 0)], [(0, -1, 0) -> (0, 0, -1)], [(0, 0, -1) -> (1, 0, 0)]}\n",
      "PONTOS DA FACE (0, 0, -1) (-1, 0, 0) (0, -1, 0)\n",
      "n1 (1, -1, -1) n2 (1, 1, 1)\n",
      "Angulo 0.33333333333333337\n",
      "PONTOS DA FACE (0, 0, -1) (-1, 0, 0) (0, 1, 0)\n",
      "n1 (1, -1, -1) n2 (-1, 1, -1)\n",
      "Angulo 0.33333333333333337\n",
      "PONTOS DA FACE (0, 0, -1) (-1, 0, 0) (0, 0, 1)\n",
      "n1 (1, -1, -1) n2 (0, 2, 0)\n",
      "Angulo 0.5773502691896258\n",
      "PONTOS DA FACE (0, 0, -1) (-1, 0, 0) (1, 0, 0)\n",
      "n1 (1, -1, -1) n2 (0, 2, 0)\n",
      "Angulo 0.5773502691896258\n",
      "Resultado do PivotAroundEdge: (0, -1, 0)\n",
      "Nova face: {[(-1, 0, 0) -> (0, 0, -1)], [(0, 0, -1) -> (0, -1, 0)], [(0, -1, 0) -> (-1, 0, 0)]}\n",
      "{[(-1, 0, 0) -> (0, 0, -1)], [(0, 0, -1) -> (0, -1, 0)], [(0, -1, 0) -> (-1, 0, 0)]} entrou no Hull\n",
      "Q agora possui as arestas:\n",
      "[(0, 0, -1) -> (0, 0, 1)]\n",
      "[(-1, 0, 0) -> (0, -1, 0)]\n",
      "[(0, -1, 0) -> (0, 0, -1)]\n",
      "[(0, 0, -1) -> (-1, 0, 0)]\n",
      "[(0, 0, 1) -> (1, 0, 0)]\n",
      "[(1, 0, 0) -> (0, -1, 0)]\n",
      "[(0, -1, 0) -> (0, 0, 1)]\n",
      "[(1, 0, 0) -> (0, -1, 0)]\n",
      "[(0, -1, 0) -> (0, 0, -1)]\n",
      "[(0, 0, -1) -> (1, 0, 0)]\n",
      "[(-1, 0, 0) -> (0, 0, -1)]\n",
      "[(0, 0, -1) -> (0, -1, 0)]\n",
      "[(0, -1, 0) -> (-1, 0, 0)]\n",
      "Processed agora inclui a aresta [(-1, 0, 0) -> (0, 0, -1)] e contém as seguintes arestas:\n",
      "[(0, -1, 0) -> (0, 0, 1)]\n",
      "[(0, 0, 1) -> (-1, 0, 0)]\n",
      "[(-1, 0, 0) -> (0, -1, 0)]\n",
      "[(0, 0, 1) -> (1, 0, 0)]\n",
      "[(1, 0, 0) -> (0, -1, 0)]\n",
      "[(-1, 0, 0) -> (0, 0, -1)]\n",
      "Aresta a ser processada: [(0, 0, -1) -> (0, 0, 1)]\n",
      "Aresta [(0, 0, -1) -> (0, 0, 1)] não foi processada, entrando no IF\n",
      "E [(0, 0, -1) -> (0, 0, 1)] F {[(-1, 0, 0) -> (0, 0, -1)], [(0, 0, -1) -> (0, -1, 0)], [(0, -1, 0) -> (-1, 0, 0)]}\n",
      "PONTOS DA FACE (0, 0, 1) (0, 0, -1) (-1, 0, 0)\n",
      "n1 (-1, -1, -1) n2 (0, 2, 0)\n",
      "Angulo 0.5773502691896258\n",
      "PONTOS DA FACE (0, 0, 1) (0, 0, -1) (0, -1, 0)\n",
      "n1 (-1, -1, -1) n2 (-2, 0, 0)\n",
      "Angulo -0.5773502691896258\n",
      "PONTOS DA FACE (0, 0, 1) (0, 0, -1) (0, 1, 0)\n",
      "n1 (-1, -1, -1) n2 (2, 0, 0)\n",
      "Angulo 0.5773502691896258\n",
      "PONTOS DA FACE (0, 0, 1) (0, 0, -1) (1, 0, 0)\n",
      "n1 (-1, -1, -1) n2 (0, -2, 0)\n",
      "Angulo -0.5773502691896258\n",
      "Resultado do PivotAroundEdge: (0, -1, 0)\n",
      "Nova face: {[(0, 0, -1) -> (0, 0, 1)], [(0, 0, 1) -> (0, -1, 0)], [(0, -1, 0) -> (0, 0, -1)]}\n",
      "{[(0, 0, -1) -> (0, 0, 1)], [(0, 0, 1) -> (0, -1, 0)], [(0, -1, 0) -> (0, 0, -1)]} entrou no Hull\n",
      "Q agora possui as arestas:\n",
      "[(-1, 0, 0) -> (0, -1, 0)]\n",
      "[(0, -1, 0) -> (0, 0, -1)]\n",
      "[(0, 0, -1) -> (-1, 0, 0)]\n",
      "[(0, 0, 1) -> (1, 0, 0)]\n",
      "[(1, 0, 0) -> (0, -1, 0)]\n",
      "[(0, -1, 0) -> (0, 0, 1)]\n",
      "[(1, 0, 0) -> (0, -1, 0)]\n",
      "[(0, -1, 0) -> (0, 0, -1)]\n",
      "[(0, 0, -1) -> (1, 0, 0)]\n",
      "[(-1, 0, 0) -> (0, 0, -1)]\n",
      "[(0, 0, -1) -> (0, -1, 0)]\n",
      "[(0, -1, 0) -> (-1, 0, 0)]\n",
      "[(0, 0, -1) -> (0, 0, 1)]\n",
      "[(0, 0, 1) -> (0, -1, 0)]\n",
      "[(0, -1, 0) -> (0, 0, -1)]\n",
      "Processed agora inclui a aresta [(0, 0, -1) -> (0, 0, 1)] e contém as seguintes arestas:\n",
      "[(0, -1, 0) -> (0, 0, 1)]\n",
      "[(0, 0, 1) -> (-1, 0, 0)]\n",
      "[(-1, 0, 0) -> (0, -1, 0)]\n",
      "[(0, 0, 1) -> (1, 0, 0)]\n",
      "[(1, 0, 0) -> (0, -1, 0)]\n",
      "[(-1, 0, 0) -> (0, 0, -1)]\n",
      "[(0, 0, -1) -> (0, 0, 1)]\n",
      "Aresta a ser processada: [(-1, 0, 0) -> (0, -1, 0)]\n",
      "Aresta JÁ PROCESSADA\n",
      "Aresta a ser processada: [(0, -1, 0) -> (0, 0, -1)]\n",
      "Aresta [(0, -1, 0) -> (0, 0, -1)] não foi processada, entrando no IF\n",
      "E [(0, -1, 0) -> (0, 0, -1)] F {[(0, 0, -1) -> (0, 0, 1)], [(0, 0, 1) -> (0, -1, 0)], [(0, -1, 0) -> (0, 0, -1)]}\n",
      "PONTOS DA FACE (0, 0, -1) (0, -1, 0) (-1, 0, 0)\n",
      "n1 (2, 0, 0) n2 (-1, -1, -1)\n"
     ]
    },
    {
     "name": "stdout",
     "output_type": "stream",
     "text": [
      "Angulo 0.5773502691896258\n",
      "PONTOS DA FACE (0, 0, -1) (0, -1, 0) (0, 1, 0)\n",
      "n1 (2, 0, 0) n2 (-2, 0, 0)\n",
      "Angulo 1.0\n",
      "PONTOS DA FACE (0, 0, -1) (0, -1, 0) (0, 0, 1)\n",
      "n1 (2, 0, 0) n2 (-2, 0, 0)\n",
      "Angulo 1.0\n",
      "PONTOS DA FACE (0, 0, -1) (0, -1, 0) (1, 0, 0)\n",
      "n1 (2, 0, 0) n2 (-1, 1, 1)\n",
      "Angulo 0.5773502691896258\n",
      "Resultado do PivotAroundEdge: (-1, 0, 0)\n",
      "Nova face: {[(0, -1, 0) -> (0, 0, -1)], [(0, 0, -1) -> (-1, 0, 0)], [(-1, 0, 0) -> (0, -1, 0)]}\n",
      "Face já está no Hull\n",
      "Q agora possui as arestas:\n",
      "[(0, 0, -1) -> (-1, 0, 0)]\n",
      "[(0, 0, 1) -> (1, 0, 0)]\n",
      "[(1, 0, 0) -> (0, -1, 0)]\n",
      "[(0, -1, 0) -> (0, 0, 1)]\n",
      "[(1, 0, 0) -> (0, -1, 0)]\n",
      "[(0, -1, 0) -> (0, 0, -1)]\n",
      "[(0, 0, -1) -> (1, 0, 0)]\n",
      "[(-1, 0, 0) -> (0, 0, -1)]\n",
      "[(0, 0, -1) -> (0, -1, 0)]\n",
      "[(0, -1, 0) -> (-1, 0, 0)]\n",
      "[(0, 0, -1) -> (0, 0, 1)]\n",
      "[(0, 0, 1) -> (0, -1, 0)]\n",
      "[(0, -1, 0) -> (0, 0, -1)]\n",
      "[(0, -1, 0) -> (0, 0, -1)]\n",
      "[(0, 0, -1) -> (-1, 0, 0)]\n",
      "[(-1, 0, 0) -> (0, -1, 0)]\n",
      "Processed agora inclui a aresta [(0, -1, 0) -> (0, 0, -1)] e contém as seguintes arestas:\n",
      "[(0, -1, 0) -> (0, 0, 1)]\n",
      "[(0, 0, 1) -> (-1, 0, 0)]\n",
      "[(-1, 0, 0) -> (0, -1, 0)]\n",
      "[(0, 0, 1) -> (1, 0, 0)]\n",
      "[(1, 0, 0) -> (0, -1, 0)]\n",
      "[(-1, 0, 0) -> (0, 0, -1)]\n",
      "[(0, 0, -1) -> (0, 0, 1)]\n",
      "[(0, -1, 0) -> (0, 0, -1)]\n",
      "Aresta a ser processada: [(0, 0, -1) -> (-1, 0, 0)]\n",
      "Aresta JÁ PROCESSADA\n",
      "Aresta a ser processada: [(0, 0, 1) -> (1, 0, 0)]\n",
      "Aresta JÁ PROCESSADA\n",
      "Aresta a ser processada: [(1, 0, 0) -> (0, -1, 0)]\n",
      "Aresta JÁ PROCESSADA\n",
      "Aresta a ser processada: [(0, -1, 0) -> (0, 0, 1)]\n",
      "Aresta JÁ PROCESSADA\n",
      "Aresta a ser processada: [(1, 0, 0) -> (0, -1, 0)]\n",
      "Aresta JÁ PROCESSADA\n",
      "Aresta a ser processada: [(0, -1, 0) -> (0, 0, -1)]\n",
      "Aresta JÁ PROCESSADA\n",
      "Aresta a ser processada: [(0, 0, -1) -> (1, 0, 0)]\n",
      "Aresta [(0, 0, -1) -> (1, 0, 0)] não foi processada, entrando no IF\n",
      "E [(0, 0, -1) -> (1, 0, 0)] F {[(0, -1, 0) -> (0, 0, -1)], [(0, 0, -1) -> (-1, 0, 0)], [(-1, 0, 0) -> (0, -1, 0)]}\n",
      "PONTOS DA FACE (1, 0, 0) (0, 0, -1) (-1, 0, 0)\n",
      "n1 (1, 1, 1) n2 (0, 2, 0)\n",
      "Angulo -0.5773502691896258\n",
      "PONTOS DA FACE (1, 0, 0) (0, 0, -1) (0, -1, 0)\n",
      "n1 (1, 1, 1) n2 (-1, 1, 1)\n",
      "Angulo -0.33333333333333337\n",
      "PONTOS DA FACE (1, 0, 0) (0, 0, -1) (0, 1, 0)\n",
      "n1 (1, 1, 1) n2 (1, 1, -1)\n",
      "Angulo -0.33333333333333337\n",
      "PONTOS DA FACE (1, 0, 0) (0, 0, -1) (0, 0, 1)\n",
      "n1 (1, 1, 1) n2 (0, 2, 0)\n",
      "Angulo -0.5773502691896258\n",
      "Resultado do PivotAroundEdge: (-1, 0, 0)\n",
      "Nova face: {[(0, 0, -1) -> (1, 0, 0)], [(1, 0, 0) -> (-1, 0, 0)], [(-1, 0, 0) -> (0, 0, -1)]}\n",
      "{[(0, 0, -1) -> (1, 0, 0)], [(1, 0, 0) -> (-1, 0, 0)], [(-1, 0, 0) -> (0, 0, -1)]} entrou no Hull\n",
      "Q agora possui as arestas:\n",
      "[(-1, 0, 0) -> (0, 0, -1)]\n",
      "[(0, 0, -1) -> (0, -1, 0)]\n",
      "[(0, -1, 0) -> (-1, 0, 0)]\n",
      "[(0, 0, -1) -> (0, 0, 1)]\n",
      "[(0, 0, 1) -> (0, -1, 0)]\n",
      "[(0, -1, 0) -> (0, 0, -1)]\n",
      "[(0, -1, 0) -> (0, 0, -1)]\n",
      "[(0, 0, -1) -> (-1, 0, 0)]\n",
      "[(-1, 0, 0) -> (0, -1, 0)]\n",
      "[(0, 0, -1) -> (1, 0, 0)]\n",
      "[(1, 0, 0) -> (-1, 0, 0)]\n",
      "[(-1, 0, 0) -> (0, 0, -1)]\n",
      "Processed agora inclui a aresta [(0, 0, -1) -> (1, 0, 0)] e contém as seguintes arestas:\n",
      "[(0, -1, 0) -> (0, 0, 1)]\n",
      "[(0, 0, 1) -> (-1, 0, 0)]\n",
      "[(-1, 0, 0) -> (0, -1, 0)]\n",
      "[(0, 0, 1) -> (1, 0, 0)]\n",
      "[(1, 0, 0) -> (0, -1, 0)]\n",
      "[(-1, 0, 0) -> (0, 0, -1)]\n",
      "[(0, 0, -1) -> (0, 0, 1)]\n",
      "[(0, -1, 0) -> (0, 0, -1)]\n",
      "[(0, 0, -1) -> (1, 0, 0)]\n",
      "Aresta a ser processada: [(-1, 0, 0) -> (0, 0, -1)]\n",
      "Aresta JÁ PROCESSADA\n",
      "Aresta a ser processada: [(0, 0, -1) -> (0, -1, 0)]\n",
      "Aresta JÁ PROCESSADA\n",
      "Aresta a ser processada: [(0, -1, 0) -> (-1, 0, 0)]\n",
      "Aresta JÁ PROCESSADA\n",
      "Aresta a ser processada: [(0, 0, -1) -> (0, 0, 1)]\n",
      "Aresta JÁ PROCESSADA\n",
      "Aresta a ser processada: [(0, 0, 1) -> (0, -1, 0)]\n",
      "Aresta JÁ PROCESSADA\n",
      "Aresta a ser processada: [(0, -1, 0) -> (0, 0, -1)]\n",
      "Aresta JÁ PROCESSADA\n",
      "Aresta a ser processada: [(0, -1, 0) -> (0, 0, -1)]\n",
      "Aresta JÁ PROCESSADA\n",
      "Aresta a ser processada: [(0, 0, -1) -> (-1, 0, 0)]\n",
      "Aresta JÁ PROCESSADA\n",
      "Aresta a ser processada: [(-1, 0, 0) -> (0, -1, 0)]\n",
      "Aresta JÁ PROCESSADA\n",
      "Aresta a ser processada: [(0, 0, -1) -> (1, 0, 0)]\n",
      "Aresta JÁ PROCESSADA\n",
      "Aresta a ser processada: [(1, 0, 0) -> (-1, 0, 0)]\n",
      "Aresta [(1, 0, 0) -> (-1, 0, 0)] não foi processada, entrando no IF\n",
      "E [(1, 0, 0) -> (-1, 0, 0)] F {[(0, 0, -1) -> (1, 0, 0)], [(1, 0, 0) -> (-1, 0, 0)], [(-1, 0, 0) -> (0, 0, -1)]}\n",
      "PONTOS DA FACE (-1, 0, 0) (1, 0, 0) (0, -1, 0)\n",
      "n1 (0, -2, 0) n2 (0, 0, -2)\n",
      "Angulo -0.0\n",
      "PONTOS DA FACE (-1, 0, 0) (1, 0, 0) (0, 1, 0)\n",
      "n1 (0, -2, 0) n2 (0, 0, 2)\n",
      "Angulo -0.0\n",
      "PONTOS DA FACE (-1, 0, 0) (1, 0, 0) (0, 0, 1)\n",
      "n1 (0, -2, 0) n2 (0, -2, 0)\n",
      "Angulo -1.0\n",
      "PONTOS DA FACE (-1, 0, 0) (1, 0, 0) (0, 0, -1)\n",
      "n1 (0, -2, 0) n2 (0, 2, 0)\n",
      "Angulo 1.0\n",
      "Resultado do PivotAroundEdge: (0, 0, 1)\n",
      "Nova face: {[(1, 0, 0) -> (-1, 0, 0)], [(-1, 0, 0) -> (0, 0, 1)], [(0, 0, 1) -> (1, 0, 0)]}\n",
      "{[(1, 0, 0) -> (-1, 0, 0)], [(-1, 0, 0) -> (0, 0, 1)], [(0, 0, 1) -> (1, 0, 0)]} entrou no Hull\n",
      "Q agora possui as arestas:\n",
      "[(-1, 0, 0) -> (0, 0, -1)]\n",
      "[(1, 0, 0) -> (-1, 0, 0)]\n",
      "[(-1, 0, 0) -> (0, 0, 1)]\n",
      "[(0, 0, 1) -> (1, 0, 0)]\n",
      "Processed agora inclui a aresta [(1, 0, 0) -> (-1, 0, 0)] e contém as seguintes arestas:\n",
      "[(0, -1, 0) -> (0, 0, 1)]\n",
      "[(0, 0, 1) -> (-1, 0, 0)]\n",
      "[(-1, 0, 0) -> (0, -1, 0)]\n",
      "[(0, 0, 1) -> (1, 0, 0)]\n",
      "[(1, 0, 0) -> (0, -1, 0)]\n",
      "[(-1, 0, 0) -> (0, 0, -1)]\n",
      "[(0, 0, -1) -> (0, 0, 1)]\n",
      "[(0, -1, 0) -> (0, 0, -1)]\n",
      "[(0, 0, -1) -> (1, 0, 0)]\n",
      "[(1, 0, 0) -> (-1, 0, 0)]\n",
      "Aresta a ser processada: [(-1, 0, 0) -> (0, 0, -1)]\n",
      "Aresta JÁ PROCESSADA\n",
      "Aresta a ser processada: [(1, 0, 0) -> (-1, 0, 0)]\n",
      "Aresta JÁ PROCESSADA\n",
      "Aresta a ser processada: [(-1, 0, 0) -> (0, 0, 1)]\n",
      "Aresta JÁ PROCESSADA\n",
      "Aresta a ser processada: [(0, 0, 1) -> (1, 0, 0)]\n",
      "Aresta JÁ PROCESSADA\n",
      "{[(0, -1, 0) -> (0, 0, 1)], [(0, 0, 1) -> (-1, 0, 0)], [(-1, 0, 0) -> (0, -1, 0)]}\n",
      "{[(0, -1, 0) -> (0, 0, 1)], [(0, 0, 1) -> (1, 0, 0)], [(1, 0, 0) -> (0, -1, 0)]}\n",
      "{[(0, 0, 1) -> (-1, 0, 0)], [(-1, 0, 0) -> (0, 0, -1)], [(0, 0, -1) -> (0, 0, 1)]}\n",
      "{[(-1, 0, 0) -> (0, -1, 0)], [(0, -1, 0) -> (0, 0, -1)], [(0, 0, -1) -> (-1, 0, 0)]}\n",
      "{[(1, 0, 0) -> (0, -1, 0)], [(0, -1, 0) -> (0, 0, -1)], [(0, 0, -1) -> (1, 0, 0)]}\n",
      "{[(-1, 0, 0) -> (0, 0, -1)], [(0, 0, -1) -> (0, -1, 0)], [(0, -1, 0) -> (-1, 0, 0)]}\n",
      "{[(0, 0, -1) -> (0, 0, 1)], [(0, 0, 1) -> (0, -1, 0)], [(0, -1, 0) -> (0, 0, -1)]}\n",
      "{[(0, 0, -1) -> (1, 0, 0)], [(1, 0, 0) -> (-1, 0, 0)], [(-1, 0, 0) -> (0, 0, -1)]}\n",
      "{[(1, 0, 0) -> (-1, 0, 0)], [(-1, 0, 0) -> (0, 0, 1)], [(0, 0, 1) -> (1, 0, 0)]}\n",
      "9\n"
     ]
    }
   ],
   "source": [
    "# p1 = Point(-3, 0, 0)\n",
    "# p2 = Point(0, -3, 0)\n",
    "# p3 = Point(0, 2, 0)\n",
    "# p4 = Point(0, 0, 3)\n",
    "# p5 = Point(0, 0, -4)\n",
    "# p6 = Point(4, 0, 0)\n",
    "\n",
    "p1 = Point(-1, 0, 0)\n",
    "p2 = Point(0, -1, 0)\n",
    "p3 = Point(0, 1, 0)\n",
    "p4 = Point(0, 0, 1)\n",
    "p5 = Point(0, 0, -1)\n",
    "p6 = Point(1, 0, 0)\n",
    "# p7 = Point(0,0,0)\n",
    "\n",
    "# P = [p1, p2, p3, p4, p5, p6, p7]\n",
    "P = [p1, p2, p3, p4, p5, p6]\n",
    "\n",
    "H = GiftWrap(P)\n",
    "for h in H:\n",
    "    print(h)\n",
    "print(len(H))"
   ]
  },
  {
   "cell_type": "code",
   "execution_count": 16,
   "metadata": {
    "ExecuteTime": {
     "end_time": "2021-07-23T13:53:41.319761Z",
     "start_time": "2021-07-23T13:53:41.305873Z"
    }
   },
   "outputs": [],
   "source": [
    "def write_faces(F, P, filename=False):\n",
    "    i1 = 0\n",
    "    i2 = 0\n",
    "    i3 = 0\n",
    "    if not filename:\n",
    "        filename = os.path.join(os.getcwd(), 'faces.obj')\n",
    "    with open(filename, 'w') as f:\n",
    "        for point in P:\n",
    "            f.write(\"v {} {} {}\".format(point.x, point.y, point.z))\n",
    "            f.write('\\n')\n",
    "        f.write('\\n')\n",
    "        for i in range(len(F)):\n",
    "            for j in range(len(P)):\n",
    "                if F[i]()[0][0] == P[j].x and F[i]()[0][1] == P[j].y and F[i]()[0][2] == P[j].z:\n",
    "                    i1 = j\n",
    "                if F[i]()[1][0] == P[j].x and F[i]()[1][1] == P[j].y and F[i]()[1][2] == P[j].z:\n",
    "                    i2 = j\n",
    "                if F[i]()[2][0] == P[j].x and F[i]()[2][1] == P[j].y and F[i]()[2][2] == P[j].z:\n",
    "                    i3 = j\n",
    "            f.writelines(\"f {} {} {}\".format(i1+1, i2+1, i3+1))\n",
    "            f.write('\\n')\n"
   ]
  },
  {
   "cell_type": "code",
   "execution_count": 17,
   "metadata": {
    "ExecuteTime": {
     "end_time": "2021-07-23T13:53:41.335150Z",
     "start_time": "2021-07-23T13:53:41.320753Z"
    }
   },
   "outputs": [],
   "source": [
    "def print_faces(F, P):\n",
    "    i1 = 0\n",
    "    i2 = 0\n",
    "    i3 = 0\n",
    "    for i in range(len(F)):\n",
    "        for j in range(len(P)):\n",
    "            if F[i]()[0][0] == P[j].x and F[i]()[0][1] == P[j].y and F[i]()[0][2] == P[j].z:\n",
    "                i1 = j\n",
    "            if F[i]()[1][0] == P[j].x and F[i]()[1][1] == P[j].y and F[i]()[1][2] == P[j].z:\n",
    "                i2 = j\n",
    "            if F[i]()[2][0] == P[j].x and F[i]()[2][1] == P[j].y and F[i]()[2][2] == P[j].z:\n",
    "                i3 = j\n",
    "                \n",
    "        print(\"f {} {} {}\".format(i1+1, i2+1, i3+1))"
   ]
  },
  {
   "cell_type": "code",
   "execution_count": 18,
   "metadata": {
    "ExecuteTime": {
     "end_time": "2021-07-23T13:53:41.350527Z",
     "start_time": "2021-07-23T13:53:41.336639Z"
    }
   },
   "outputs": [],
   "source": [
    "def read_vertices_from_obj(objPath):\n",
    "    points = []\n",
    "    with open(objPath, 'r') as f:\n",
    "        for line in f:\n",
    "            line = line.replace('v', '')\n",
    "            line_ = line.split()\n",
    "            points.append(Point(float(line_[0]), float(line_[1]), float(line_[2])))\n",
    "    return points"
   ]
  },
  {
   "cell_type": "code",
   "execution_count": 19,
   "metadata": {
    "ExecuteTime": {
     "end_time": "2021-07-23T13:53:41.365903Z",
     "start_time": "2021-07-23T13:53:41.351518Z"
    }
   },
   "outputs": [
    {
     "name": "stdout",
     "output_type": "stream",
     "text": [
      "348\n"
     ]
    }
   ],
   "source": [
    "points = read_vertices_from_obj(r\"C:\\Users\\romul\\Documents\\UFC\\MESTRADO\\Disciplinas\\Geometria Computacional\\super-nintendo-blend\\p1.obj\")\n",
    "print(len(points))"
   ]
  },
  {
   "cell_type": "code",
   "execution_count": 20,
   "metadata": {
    "ExecuteTime": {
     "end_time": "2021-07-23T13:53:41.381296Z",
     "start_time": "2021-07-23T13:53:41.367390Z"
    }
   },
   "outputs": [
    {
     "name": "stdout",
     "output_type": "stream",
     "text": [
      "OBJ folder exists\n"
     ]
    }
   ],
   "source": [
    "path = os.path.join(os.getcwd(), 'obj')\n",
    "if os.path.isdir(path):\n",
    "    print(\"OBJ folder exists\")\n",
    "else:\n",
    "    print(\"Creating OBJ folder.\")\n",
    "    os.mkdir(path)"
   ]
  },
  {
   "cell_type": "code",
   "execution_count": 21,
   "metadata": {
    "ExecuteTime": {
     "end_time": "2021-07-23T13:53:41.535089Z",
     "start_time": "2021-07-23T13:53:41.382784Z"
    },
    "scrolled": true
   },
   "outputs": [
    {
     "name": "stdout",
     "output_type": "stream",
     "text": [
      "primeiro P1 (-0.258873, 0.032391, 0.264508) P2 (-0.258873, 0.032391, -0.735492) P3 (0.741127, 0.032391, 0.264508)\n",
      "P (-0.258873, 0.032391, 0.264508) Q (-0.346055, 0.032391, 0.129129) R (-0.346055, 0.032391, 0.129129)\n",
      "Triangulo encontrado: {[(-0.258873, 0.032391, 0.264508) -> (-0.346055, 0.032391, 0.129129)], [(-0.346055, 0.032391, 0.129129) -> (-0.346055, 0.032391, 0.129129)], [(-0.346055, 0.032391, 0.129129) -> (-0.258873, 0.032391, 0.264508)]}\n",
      "Q possui as arestas:\n",
      "[(-0.258873, 0.032391, 0.264508) -> (-0.346055, 0.032391, 0.129129)]\n",
      "[(-0.346055, 0.032391, 0.129129) -> (-0.346055, 0.032391, 0.129129)]\n",
      "[(-0.346055, 0.032391, 0.129129) -> (-0.258873, 0.032391, 0.264508)]\n",
      "Aresta a ser processada: [(-0.258873, 0.032391, 0.264508) -> (-0.346055, 0.032391, 0.129129)]\n",
      "Aresta [(-0.258873, 0.032391, 0.264508) -> (-0.346055, 0.032391, 0.129129)] não foi processada, entrando no IF\n",
      "E [(-0.258873, 0.032391, 0.264508) -> (-0.346055, 0.032391, 0.129129)] F {[(-0.258873, 0.032391, 0.264508) -> (-0.346055, 0.032391, 0.129129)], [(-0.346055, 0.032391, 0.129129) -> (-0.346055, 0.032391, 0.129129)], [(-0.346055, 0.032391, 0.129129) -> (-0.258873, 0.032391, 0.264508)]}\n",
      "PONTOS DA FACE (-0.346055, 0.032391, 0.129129) (-0.258873, 0.032391, 0.264508) (-0.336541, 0.160475, 0.104546)\n",
      "n1 (0.0, 0.0, 0.0) n2 (-0.017339883836000002, 0.003431190912000002, 0.011166619287999998)\n"
     ]
    },
    {
     "ename": "ZeroDivisionError",
     "evalue": "float division by zero",
     "output_type": "error",
     "traceback": [
      "\u001b[1;31m---------------------------------------------------------------------------\u001b[0m",
      "\u001b[1;31mZeroDivisionError\u001b[0m                         Traceback (most recent call last)",
      "\u001b[1;32m<ipython-input-21-541cb66ef2b6>\u001b[0m in \u001b[0;36m<module>\u001b[1;34m\u001b[0m\n\u001b[1;32m----> 1\u001b[1;33m \u001b[0mnH\u001b[0m \u001b[1;33m=\u001b[0m \u001b[0mGiftWrap\u001b[0m\u001b[1;33m(\u001b[0m\u001b[0mpoints\u001b[0m\u001b[1;33m)\u001b[0m\u001b[1;33m\u001b[0m\u001b[1;33m\u001b[0m\u001b[0m\n\u001b[0m\u001b[0;32m      2\u001b[0m \u001b[1;31m# for h in nH:\u001b[0m\u001b[1;33m\u001b[0m\u001b[1;33m\u001b[0m\u001b[1;33m\u001b[0m\u001b[0m\n\u001b[0;32m      3\u001b[0m \u001b[1;31m#     print(h)\u001b[0m\u001b[1;33m\u001b[0m\u001b[1;33m\u001b[0m\u001b[1;33m\u001b[0m\u001b[0m\n\u001b[0;32m      4\u001b[0m \u001b[0mprint\u001b[0m\u001b[1;33m(\u001b[0m\u001b[0mlen\u001b[0m\u001b[1;33m(\u001b[0m\u001b[0mnH\u001b[0m\u001b[1;33m)\u001b[0m\u001b[1;33m)\u001b[0m\u001b[1;33m\u001b[0m\u001b[1;33m\u001b[0m\u001b[0m\n",
      "\u001b[1;32m<ipython-input-14-d828b0b340df>\u001b[0m in \u001b[0;36mGiftWrap\u001b[1;34m(P)\u001b[0m\n\u001b[0;32m     14\u001b[0m         \u001b[1;32mif\u001b[0m \u001b[0mNotProcessed\u001b[0m\u001b[1;33m(\u001b[0m\u001b[0mProcessed\u001b[0m\u001b[1;33m,\u001b[0m \u001b[0me\u001b[0m\u001b[1;33m)\u001b[0m\u001b[1;33m:\u001b[0m\u001b[1;33m\u001b[0m\u001b[1;33m\u001b[0m\u001b[0m\n\u001b[0;32m     15\u001b[0m             \u001b[0mprint\u001b[0m\u001b[1;33m(\u001b[0m\u001b[1;34m\"Aresta {} não foi processada, entrando no IF\"\u001b[0m\u001b[1;33m.\u001b[0m\u001b[0mformat\u001b[0m\u001b[1;33m(\u001b[0m\u001b[0me\u001b[0m\u001b[1;33m)\u001b[0m\u001b[1;33m)\u001b[0m\u001b[1;33m\u001b[0m\u001b[1;33m\u001b[0m\u001b[0m\n\u001b[1;32m---> 16\u001b[1;33m             \u001b[0mq\u001b[0m \u001b[1;33m=\u001b[0m \u001b[0mPivotAroundEdge\u001b[0m\u001b[1;33m(\u001b[0m\u001b[0mt\u001b[0m\u001b[1;33m,\u001b[0m \u001b[0me\u001b[0m\u001b[1;33m,\u001b[0m \u001b[0mP\u001b[0m\u001b[1;33m)\u001b[0m\u001b[1;33m\u001b[0m\u001b[1;33m\u001b[0m\u001b[0m\n\u001b[0m\u001b[0;32m     17\u001b[0m             \u001b[0mprint\u001b[0m\u001b[1;33m(\u001b[0m\u001b[1;34m\"Resultado do PivotAroundEdge:\"\u001b[0m\u001b[1;33m,\u001b[0m \u001b[0mq\u001b[0m\u001b[1;33m)\u001b[0m\u001b[1;33m\u001b[0m\u001b[1;33m\u001b[0m\u001b[0m\n\u001b[0;32m     18\u001b[0m             \u001b[0mt\u001b[0m \u001b[1;33m=\u001b[0m \u001b[0mFace\u001b[0m\u001b[1;33m(\u001b[0m\u001b[0me\u001b[0m\u001b[1;33m,\u001b[0m \u001b[0mEdge\u001b[0m\u001b[1;33m(\u001b[0m\u001b[0me\u001b[0m\u001b[1;33m.\u001b[0m\u001b[0mp2\u001b[0m\u001b[1;33m,\u001b[0m \u001b[0mq\u001b[0m\u001b[1;33m)\u001b[0m\u001b[1;33m,\u001b[0m \u001b[0mEdge\u001b[0m\u001b[1;33m(\u001b[0m\u001b[0mq\u001b[0m\u001b[1;33m,\u001b[0m \u001b[0me\u001b[0m\u001b[1;33m.\u001b[0m\u001b[0mp1\u001b[0m\u001b[1;33m)\u001b[0m\u001b[1;33m)\u001b[0m\u001b[1;33m\u001b[0m\u001b[1;33m\u001b[0m\u001b[0m\n",
      "\u001b[1;32m<ipython-input-8-ea23dc5860be>\u001b[0m in \u001b[0;36mPivotAroundEdge\u001b[1;34m(f, e, P)\u001b[0m\n\u001b[0;32m     11\u001b[0m         \u001b[0mprint\u001b[0m\u001b[1;33m(\u001b[0m\u001b[1;34m\"n1\"\u001b[0m\u001b[1;33m,\u001b[0m \u001b[0mn1\u001b[0m\u001b[1;33m,\u001b[0m \u001b[1;34m\"n2\"\u001b[0m\u001b[1;33m,\u001b[0m \u001b[0mn2\u001b[0m\u001b[1;33m)\u001b[0m\u001b[1;33m\u001b[0m\u001b[1;33m\u001b[0m\u001b[0m\n\u001b[0;32m     12\u001b[0m \u001b[1;31m#         if n2 == Point(0,0,0): continue\u001b[0m\u001b[1;33m\u001b[0m\u001b[1;33m\u001b[0m\u001b[1;33m\u001b[0m\u001b[0m\n\u001b[1;32m---> 13\u001b[1;33m         \u001b[0mangle\u001b[0m \u001b[1;33m=\u001b[0m \u001b[1;33m-\u001b[0m\u001b[1;36m1\u001b[0m\u001b[1;33m*\u001b[0m\u001b[0mgc\u001b[0m\u001b[1;33m.\u001b[0m\u001b[0mangulo\u001b[0m\u001b[1;33m(\u001b[0m\u001b[0mn1\u001b[0m\u001b[1;33m,\u001b[0m\u001b[0mn2\u001b[0m\u001b[1;33m)\u001b[0m\u001b[1;33m\u001b[0m\u001b[1;33m\u001b[0m\u001b[0m\n\u001b[0m\u001b[0;32m     14\u001b[0m         \u001b[0mprint\u001b[0m\u001b[1;33m(\u001b[0m\u001b[1;34m\"Angulo\"\u001b[0m\u001b[1;33m,\u001b[0m\u001b[0mangle\u001b[0m\u001b[1;33m)\u001b[0m\u001b[1;33m\u001b[0m\u001b[1;33m\u001b[0m\u001b[0m\n\u001b[0;32m     15\u001b[0m         \u001b[1;32mif\u001b[0m \u001b[0mangle\u001b[0m \u001b[1;33m<\u001b[0m \u001b[0mminAngle\u001b[0m \u001b[1;32mand\u001b[0m \u001b[0mP\u001b[0m\u001b[1;33m[\u001b[0m\u001b[0mi\u001b[0m\u001b[1;33m]\u001b[0m \u001b[1;33m!=\u001b[0m \u001b[0me\u001b[0m\u001b[1;33m.\u001b[0m\u001b[0mp1\u001b[0m \u001b[1;32mand\u001b[0m \u001b[0mP\u001b[0m\u001b[1;33m[\u001b[0m\u001b[0mi\u001b[0m\u001b[1;33m]\u001b[0m \u001b[1;33m!=\u001b[0m \u001b[0me\u001b[0m\u001b[1;33m.\u001b[0m\u001b[0mp2\u001b[0m\u001b[1;33m:\u001b[0m\u001b[1;33m\u001b[0m\u001b[1;33m\u001b[0m\u001b[0m\n",
      "\u001b[1;32m~\\Documents\\UFC\\MESTRADO\\Disciplinas\\Geometria Computacional\\tarefa02\\gcrf.py\u001b[0m in \u001b[0;36mangulo\u001b[1;34m(self, x, y, degrees)\u001b[0m\n\u001b[0;32m    177\u001b[0m         \u001b[1;31m# return math.acos(self.prod_escalar(x, y)/(self.norma(x)*self.norma(y)))*(180/math.pi)\u001b[0m\u001b[1;33m\u001b[0m\u001b[1;33m\u001b[0m\u001b[1;33m\u001b[0m\u001b[0m\n\u001b[0;32m    178\u001b[0m         \u001b[1;32mif\u001b[0m \u001b[1;32mnot\u001b[0m \u001b[0mdegrees\u001b[0m\u001b[1;33m:\u001b[0m\u001b[1;33m\u001b[0m\u001b[1;33m\u001b[0m\u001b[0m\n\u001b[1;32m--> 179\u001b[1;33m             \u001b[1;32mreturn\u001b[0m \u001b[0mself\u001b[0m\u001b[1;33m.\u001b[0m\u001b[0mprod_escalar\u001b[0m\u001b[1;33m(\u001b[0m\u001b[0mx\u001b[0m\u001b[1;33m,\u001b[0m \u001b[0my\u001b[0m\u001b[1;33m)\u001b[0m\u001b[1;33m/\u001b[0m\u001b[1;33m(\u001b[0m\u001b[0mself\u001b[0m\u001b[1;33m.\u001b[0m\u001b[0mnorma\u001b[0m\u001b[1;33m(\u001b[0m\u001b[0mx\u001b[0m\u001b[1;33m)\u001b[0m\u001b[1;33m*\u001b[0m\u001b[0mself\u001b[0m\u001b[1;33m.\u001b[0m\u001b[0mnorma\u001b[0m\u001b[1;33m(\u001b[0m\u001b[0my\u001b[0m\u001b[1;33m)\u001b[0m\u001b[1;33m)\u001b[0m\u001b[1;33m\u001b[0m\u001b[1;33m\u001b[0m\u001b[0m\n\u001b[0m\u001b[0;32m    180\u001b[0m         \u001b[1;32mreturn\u001b[0m \u001b[0mself\u001b[0m\u001b[1;33m.\u001b[0m\u001b[0mprod_escalar\u001b[0m\u001b[1;33m(\u001b[0m\u001b[0mx\u001b[0m\u001b[1;33m,\u001b[0m \u001b[0my\u001b[0m\u001b[1;33m)\u001b[0m\u001b[1;33m/\u001b[0m\u001b[1;33m(\u001b[0m\u001b[0mself\u001b[0m\u001b[1;33m.\u001b[0m\u001b[0mnorma\u001b[0m\u001b[1;33m(\u001b[0m\u001b[0mx\u001b[0m\u001b[1;33m)\u001b[0m\u001b[1;33m*\u001b[0m\u001b[0mself\u001b[0m\u001b[1;33m.\u001b[0m\u001b[0mnorma\u001b[0m\u001b[1;33m(\u001b[0m\u001b[0my\u001b[0m\u001b[1;33m)\u001b[0m\u001b[1;33m)\u001b[0m\u001b[1;33m*\u001b[0m\u001b[1;33m(\u001b[0m\u001b[1;36m180\u001b[0m\u001b[1;33m/\u001b[0m\u001b[0mmath\u001b[0m\u001b[1;33m.\u001b[0m\u001b[0mpi\u001b[0m\u001b[1;33m)\u001b[0m\u001b[1;33m\u001b[0m\u001b[1;33m\u001b[0m\u001b[0m\n\u001b[0;32m    181\u001b[0m \u001b[1;33m\u001b[0m\u001b[0m\n",
      "\u001b[1;31mZeroDivisionError\u001b[0m: float division by zero"
     ]
    }
   ],
   "source": [
    "nH = GiftWrap(points)\n",
    "# for h in nH:\n",
    "#     print(h)\n",
    "print(len(nH))"
   ]
  },
  {
   "cell_type": "code",
   "execution_count": null,
   "metadata": {
    "ExecuteTime": {
     "end_time": "2021-07-23T13:53:41.536544Z",
     "start_time": "2021-07-23T13:53:40.747Z"
    },
    "scrolled": true
   },
   "outputs": [],
   "source": [
    "print_faces(H, P)\n",
    "write_faces(H, P, path+\"/bento.obj\")"
   ]
  },
  {
   "cell_type": "code",
   "execution_count": null,
   "metadata": {
    "ExecuteTime": {
     "end_time": "2021-07-23T13:53:41.537039Z",
     "start_time": "2021-07-23T13:53:40.748Z"
    }
   },
   "outputs": [],
   "source": [
    "write_faces(nH, points, path+\"/controle.obj\")\n",
    "print_faces(nH, points)\n"
   ]
  }
 ],
 "metadata": {
  "colab": {
   "authorship_tag": "ABX9TyMHbR0jUi2eaz6y7q07g8rw",
   "collapsed_sections": [],
   "name": "GiftWrapping3d.ipynb",
   "provenance": []
  },
  "kernelspec": {
   "display_name": "Python 3",
   "language": "python",
   "name": "python3"
  },
  "language_info": {
   "codemirror_mode": {
    "name": "ipython",
    "version": 3
   },
   "file_extension": ".py",
   "mimetype": "text/x-python",
   "name": "python",
   "nbconvert_exporter": "python",
   "pygments_lexer": "ipython3",
   "version": "3.8.7"
  }
 },
 "nbformat": 4,
 "nbformat_minor": 1
}
