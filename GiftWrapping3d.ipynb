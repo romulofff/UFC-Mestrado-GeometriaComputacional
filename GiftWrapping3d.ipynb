{
 "cells": [
  {
   "cell_type": "code",
   "execution_count": 23,
   "metadata": {
    "ExecuteTime": {
     "end_time": "2021-07-23T05:37:42.826658Z",
     "start_time": "2021-07-23T05:37:42.816242Z"
    }
   },
   "outputs": [],
   "source": [
    "import os\n",
    "import math\n",
    "from tarefa02.gcrf import Gcrf, Point, Edge, Face"
   ]
  },
  {
   "cell_type": "code",
   "execution_count": 24,
   "metadata": {
    "ExecuteTime": {
     "end_time": "2021-07-23T05:37:42.842034Z",
     "start_time": "2021-07-23T05:37:42.827650Z"
    },
    "executionInfo": {
     "elapsed": 254,
     "status": "ok",
     "timestamp": 1626744372944,
     "user": {
      "displayName": "Paulo Bruno Serafim",
      "photoUrl": "https://lh3.googleusercontent.com/a-/AOh14GgKyTLTgz0mz9XoFCRFsxnJAzgsSy10N71vvQmUpQ=s64",
      "userId": "14036489635138228772"
     },
     "user_tz": 180
    },
    "id": "E6nNyEqcgUIh"
   },
   "outputs": [],
   "source": [
    "gc = Gcrf()"
   ]
  },
  {
   "cell_type": "code",
   "execution_count": 25,
   "metadata": {
    "ExecuteTime": {
     "end_time": "2021-07-23T05:37:42.857411Z",
     "start_time": "2021-07-23T05:37:42.843522Z"
    },
    "colab": {
     "base_uri": "https://localhost:8080/"
    },
    "executionInfo": {
     "elapsed": 397,
     "status": "ok",
     "timestamp": 1626744375141,
     "user": {
      "displayName": "Paulo Bruno Serafim",
      "photoUrl": "https://lh3.googleusercontent.com/a-/AOh14GgKyTLTgz0mz9XoFCRFsxnJAzgsSy10N71vvQmUpQ=s64",
      "userId": "14036489635138228772"
     },
     "user_tz": 180
    },
    "id": "4UCAv0aGgjHo",
    "outputId": "5d51e3df-a8f1-4f19-d7d4-d2d50b0f1287"
   },
   "outputs": [
    {
     "name": "stdout",
     "output_type": "stream",
     "text": [
      "(1, 2, 3)\n"
     ]
    }
   ],
   "source": [
    "p = Point(1, 2, 3)\n",
    "print(p)"
   ]
  },
  {
   "cell_type": "code",
   "execution_count": 26,
   "metadata": {
    "ExecuteTime": {
     "end_time": "2021-07-23T05:37:42.872786Z",
     "start_time": "2021-07-23T05:37:42.858898Z"
    },
    "colab": {
     "base_uri": "https://localhost:8080/"
    },
    "executionInfo": {
     "elapsed": 255,
     "status": "ok",
     "timestamp": 1626744507482,
     "user": {
      "displayName": "Paulo Bruno Serafim",
      "photoUrl": "https://lh3.googleusercontent.com/a-/AOh14GgKyTLTgz0mz9XoFCRFsxnJAzgsSy10N71vvQmUpQ=s64",
      "userId": "14036489635138228772"
     },
     "user_tz": 180
    },
    "id": "T1-CbwOhhuLB",
    "outputId": "bdaa0c50-71be-4ab9-b1c1-f9c021dd6eea"
   },
   "outputs": [
    {
     "name": "stdout",
     "output_type": "stream",
     "text": [
      "[(1, 2, 3) -> (4, 5, 6)]\n"
     ]
    }
   ],
   "source": [
    "p1 = Point(1, 2, 3)\n",
    "p2 = Point(4, 5, 6)\n",
    "\n",
    "e = Edge(p1, p2)\n",
    "\n",
    "print(e)"
   ]
  },
  {
   "cell_type": "code",
   "execution_count": 27,
   "metadata": {
    "ExecuteTime": {
     "end_time": "2021-07-23T05:37:42.888162Z",
     "start_time": "2021-07-23T05:37:42.873779Z"
    },
    "colab": {
     "base_uri": "https://localhost:8080/"
    },
    "executionInfo": {
     "elapsed": 307,
     "status": "ok",
     "timestamp": 1626745571666,
     "user": {
      "displayName": "Paulo Bruno Serafim",
      "photoUrl": "https://lh3.googleusercontent.com/a-/AOh14GgKyTLTgz0mz9XoFCRFsxnJAzgsSy10N71vvQmUpQ=s64",
      "userId": "14036489635138228772"
     },
     "user_tz": 180
    },
    "id": "yXIuwsz3jPAJ",
    "outputId": "faaa9f58-9b60-4153-c1d8-5c026bdc43c0"
   },
   "outputs": [
    {
     "name": "stdout",
     "output_type": "stream",
     "text": [
      "{[(1, 2, 3) -> (4, 5, 6)], [(4, 5, 6) -> (7, 8, 9)], [(7, 8, 9) -> (1, 2, 3)]}\n"
     ]
    }
   ],
   "source": [
    "p1 = Point(1, 2, 3)\n",
    "p2 = Point(4, 5, 6)\n",
    "p3 = Point(7, 8, 9)\n",
    "\n",
    "e1 = Edge(p1, p2)\n",
    "e2 = Edge(p2, p3)\n",
    "e3 = Edge(p3, p1)\n",
    "\n",
    "f = Face(e1, e2, e3)\n",
    "f_ = Face(e3, e1, e2)\n",
    "print(f)"
   ]
  },
  {
   "cell_type": "code",
   "execution_count": 28,
   "metadata": {
    "ExecuteTime": {
     "end_time": "2021-07-23T05:37:42.903632Z",
     "start_time": "2021-07-23T05:37:42.889154Z"
    }
   },
   "outputs": [],
   "source": [
    "def checa_face(F, f):\n",
    "    for face in F:\n",
    "        if f == face:\n",
    "            return True\n",
    "    return False"
   ]
  },
  {
   "cell_type": "code",
   "execution_count": 29,
   "metadata": {
    "ExecuteTime": {
     "end_time": "2021-07-23T05:37:42.919008Z",
     "start_time": "2021-07-23T05:37:42.904624Z"
    }
   },
   "outputs": [
    {
     "name": "stdout",
     "output_type": "stream",
     "text": [
      "0.16666666666666666\n",
      "-0.16666666666666666\n"
     ]
    }
   ],
   "source": [
    "p1 = Point(0,-1,0)\n",
    "p2 = Point(0, 0, 0)\n",
    "p3 = Point(0,0,1)\n",
    "a = Point(1, 0,0)\n",
    "b = Point(-1,0,0)\n",
    "print(gc.signed_volume(p1,p2,p3,a))\n",
    "print(gc.signed_volume(p1,p2,p3,b))"
   ]
  },
  {
   "cell_type": "code",
   "execution_count": 30,
   "metadata": {
    "ExecuteTime": {
     "end_time": "2021-07-23T05:37:42.934433Z",
     "start_time": "2021-07-23T05:37:42.920000Z"
    },
    "executionInfo": {
     "elapsed": 2,
     "status": "ok",
     "timestamp": 1626745886771,
     "user": {
      "displayName": "Paulo Bruno Serafim",
      "photoUrl": "https://lh3.googleusercontent.com/a-/AOh14GgKyTLTgz0mz9XoFCRFsxnJAzgsSy10N71vvQmUpQ=s64",
      "userId": "14036489635138228772"
     },
     "user_tz": 180
    },
    "id": "3bc8z2bXV1P3"
   },
   "outputs": [],
   "source": [
    "def PivotAroundEdge(e, P):\n",
    "    minAngle = 2*math.pi\n",
    "    candidate = None\n",
    "    normal = gc.prod_vetorial(e.p1, e.p2)\n",
    "#     print(\"NORMAL:\", normal)\n",
    "    for i in range(len(P)):\n",
    "#         print(\"P[i]\",P[i])\n",
    "        angle = gc.angulo(normal, P[i])\n",
    "        if angle < minAngle:\n",
    "            minAngle = angle\n",
    "            candidate = i\n",
    "    return P[candidate]"
   ]
  },
  {
   "cell_type": "code",
   "execution_count": 31,
   "metadata": {
    "ExecuteTime": {
     "end_time": "2021-07-23T05:37:42.949812Z",
     "start_time": "2021-07-23T05:37:42.936416Z"
    },
    "id": "t_jWGHRknRmU"
   },
   "outputs": [],
   "source": [
    "def BottomMostLeftMostBackMost(P):\n",
    "    ys = [p.y for p in P]\n",
    "    min_value = min(ys)\n",
    "    min_index = ys.index(min_value)\n",
    "    return P[min_index]"
   ]
  },
  {
   "cell_type": "code",
   "execution_count": 32,
   "metadata": {
    "ExecuteTime": {
     "end_time": "2021-07-23T05:37:42.965219Z",
     "start_time": "2021-07-23T05:37:42.950804Z"
    },
    "executionInfo": {
     "elapsed": 275,
     "status": "ok",
     "timestamp": 1626745885013,
     "user": {
      "displayName": "Paulo Bruno Serafim",
      "photoUrl": "https://lh3.googleusercontent.com/a-/AOh14GgKyTLTgz0mz9XoFCRFsxnJAzgsSy10N71vvQmUpQ=s64",
      "userId": "14036489635138228772"
     },
     "user_tz": 180
    },
    "id": "K-wu5sfRio7B"
   },
   "outputs": [],
   "source": [
    "def FindEdgeOnHull(P):\n",
    "    p = BottomMostLeftMostBackMost(P)\n",
    "    q = Point(p.x + 1, p.y, p.z)\n",
    "    q = PivotAroundEdge(Edge(p, q), P)\n",
    "    \n",
    "    return Edge(p, q)"
   ]
  },
  {
   "cell_type": "code",
   "execution_count": 33,
   "metadata": {
    "ExecuteTime": {
     "end_time": "2021-07-23T05:37:42.980668Z",
     "start_time": "2021-07-23T05:37:42.966206Z"
    },
    "executionInfo": {
     "elapsed": 252,
     "status": "ok",
     "timestamp": 1626745654326,
     "user": {
      "displayName": "Paulo Bruno Serafim",
      "photoUrl": "https://lh3.googleusercontent.com/a-/AOh14GgKyTLTgz0mz9XoFCRFsxnJAzgsSy10N71vvQmUpQ=s64",
      "userId": "14036489635138228772"
     },
     "user_tz": 180
    },
    "id": "4pBvg8KqWaxr"
   },
   "outputs": [],
   "source": [
    "def FindTriangleOnHull(P):\n",
    "    e = FindEdgeOnHull(P)\n",
    "    r = PivotAroundEdge(e, P)\n",
    "    e2 = Edge(e.p2, r)\n",
    "    e3 = Edge(r, e.p1)\n",
    "    f = Face(e, e2, e3)\n",
    "    return f"
   ]
  },
  {
   "cell_type": "code",
   "execution_count": 34,
   "metadata": {
    "ExecuteTime": {
     "end_time": "2021-07-23T05:37:42.996033Z",
     "start_time": "2021-07-23T05:37:42.981643Z"
    }
   },
   "outputs": [],
   "source": [
    "def NotProcessed(E, e):\n",
    "#     print(\"Aresta no Not Processed\",e)\n",
    "    for i in E:\n",
    "        if e == i:\n",
    "            return False\n",
    "    return True"
   ]
  },
  {
   "cell_type": "code",
   "execution_count": 45,
   "metadata": {
    "ExecuteTime": {
     "end_time": "2021-07-23T05:38:45.490081Z",
     "start_time": "2021-07-23T05:38:45.481650Z"
    }
   },
   "outputs": [],
   "source": [
    "def GiftWrap(P):\n",
    "    t = FindTriangleOnHull(P)\n",
    "#     print(\"Triangulo encontrado:\", t)\n",
    "    Q = [t.e1, t.e2, t.e3]\n",
    "    H = [t]\n",
    "    Processed = []\n",
    "\n",
    "    while not len(Q) == 0:\n",
    "        e = Q.pop()\n",
    "        e = Edge(e.p2, e.p1)\n",
    "        #print(\"Aresta a ser processada:\", e)\n",
    "        if NotProcessed(Processed, e):\n",
    "            #print(\"Aresta {} não foi processada, entrando no IF\".format(e))\n",
    "            q = PivotAroundEdge(e, P)\n",
    "            #print(\"Resultado do PivotAroundEdge:\", q)\n",
    "            t = Face(e, Edge(e.p2, q), Edge(q, e.p1))\n",
    "            #print(\"Nova face:\", t)\n",
    "            face_no_hull = checa_face(H, t)\n",
    "            if not face_no_hull:\n",
    "                H.append(t)\n",
    "                #print(\"{} entrou no Hull\".format(t))\n",
    "#             e_ = Edge(e.p2, e.p1)\n",
    "            Q.extend([t.e1, t.e2, t.e3])\n",
    "            #print(\"Q agora possui as arestas:\")\n",
    "            #for q in Q: print(q)\n",
    "            Processed.append(e)\n",
    "            #print(\"Processed agora inclui a aresta {} e contém as seguintes arestas:\".format(e))\n",
    "            #for aresta in Processed: print(aresta)\n",
    "        #else: print(\"Aresta JÁ PROCESSADA\")\n",
    "    return H"
   ]
  },
  {
   "cell_type": "code",
   "execution_count": 36,
   "metadata": {
    "ExecuteTime": {
     "end_time": "2021-07-23T05:37:43.026785Z",
     "start_time": "2021-07-23T05:37:43.012400Z"
    },
    "colab": {
     "base_uri": "https://localhost:8080/",
     "height": 341
    },
    "executionInfo": {
     "elapsed": 265,
     "status": "error",
     "timestamp": 1626745928875,
     "user": {
      "displayName": "Paulo Bruno Serafim",
      "photoUrl": "https://lh3.googleusercontent.com/a-/AOh14GgKyTLTgz0mz9XoFCRFsxnJAzgsSy10N71vvQmUpQ=s64",
      "userId": "14036489635138228772"
     },
     "user_tz": 180
    },
    "id": "b9yqBbH_WlCb",
    "outputId": "8514a9d8-2e5a-4811-f376-e560c3bc5dd6",
    "scrolled": true
   },
   "outputs": [
    {
     "name": "stdout",
     "output_type": "stream",
     "text": [
      "Triangulo encontrado: {[(0, -1, 0) -> (0, 0, -1)], [(0, 0, -1) -> (-1, 0, 0)], [(-1, 0, 0) -> (0, -1, 0)]}\n",
      "{[(0, -1, 0) -> (0, 0, -1)], [(0, 0, -1) -> (-1, 0, 0)], [(-1, 0, 0) -> (0, -1, 0)]}\n",
      "{[(-1, 0, 0) -> (0, -1, 0)], [(0, -1, 0) -> (0, 0, -1)], [(0, 0, -1) -> (-1, 0, 0)]}\n",
      "2\n"
     ]
    }
   ],
   "source": [
    "# p1 = Point(-3, 0, 0)\n",
    "# p2 = Point(0, -3, 0)\n",
    "# p3 = Point(0, 2, 0)\n",
    "# p4 = Point(0, 0, 3)\n",
    "# p5 = Point(0, 0, -4)\n",
    "# p6 = Point(4, 0, 0)\n",
    "# p7 = Point(0, 0, 0)\n",
    "\n",
    "p1 = Point(-1, 0, 0)\n",
    "p2 = Point(0, -1, 0)\n",
    "p3 = Point(0, 1, 0)\n",
    "p4 = Point(0, 0, 1)\n",
    "p5 = Point(0, 0, -1)\n",
    "p6 = Point(1, 0, 0)\n",
    "\n",
    "P = [p1, p2, p3, p4, p5, p6]\n",
    "\n",
    "H = GiftWrap(P)\n",
    "for h in H:\n",
    "    print(h)\n",
    "print(len(H))"
   ]
  },
  {
   "cell_type": "code",
   "execution_count": 37,
   "metadata": {
    "ExecuteTime": {
     "end_time": "2021-07-23T05:37:43.042161Z",
     "start_time": "2021-07-23T05:37:43.028272Z"
    }
   },
   "outputs": [],
   "source": [
    "def write_faces(F, P, filename=False):\n",
    "    i1 = 0\n",
    "    i2 = 0\n",
    "    i3 = 0\n",
    "    if not filename:\n",
    "        filename = os.path.join(os.getcwd(), 'faces.obj')\n",
    "    with open(filename, 'w') as f:\n",
    "        for point in P:\n",
    "            f.write(\"v {} {} {}\".format(point.x, point.y, point.z))\n",
    "            f.write('\\n')\n",
    "        f.write('\\n')\n",
    "        for i in range(len(F)):\n",
    "            for j in range(len(P)):\n",
    "                if F[i]()[0][0] == P[j].x and F[i]()[0][1] == P[j].y and F[i]()[0][2] == P[j].z:\n",
    "                    i1 = j\n",
    "                if F[i]()[1][0] == P[j].x and F[i]()[1][1] == P[j].y and F[i]()[1][2] == P[j].z:\n",
    "                    i2 = j\n",
    "                if F[i]()[2][0] == P[j].x and F[i]()[2][1] == P[j].y and F[i]()[2][2] == P[j].z:\n",
    "                    i3 = j\n",
    "            f.writelines(\"f {} {} {}\".format(i1+1, i2+1, i3+1))\n",
    "            f.write('\\n')\n"
   ]
  },
  {
   "cell_type": "code",
   "execution_count": 38,
   "metadata": {
    "ExecuteTime": {
     "end_time": "2021-07-23T05:37:43.057558Z",
     "start_time": "2021-07-23T05:37:43.043648Z"
    }
   },
   "outputs": [],
   "source": [
    "def print_faces(F, P):\n",
    "    i1 = 0\n",
    "    i2 = 0\n",
    "    i3 = 0\n",
    "    for i in range(len(F)):\n",
    "        for j in range(len(P)):\n",
    "            if F[i]()[0][0] == P[j].x and F[i]()[0][1] == P[j].y and F[i]()[0][2] == P[j].z:\n",
    "                i1 = j\n",
    "            if F[i]()[1][0] == P[j].x and F[i]()[1][1] == P[j].y and F[i]()[1][2] == P[j].z:\n",
    "                i2 = j\n",
    "            if F[i]()[2][0] == P[j].x and F[i]()[2][1] == P[j].y and F[i]()[2][2] == P[j].z:\n",
    "                i3 = j\n",
    "                \n",
    "        print(\"f {} {} {}\".format(i1+1, i2+1, i3+1))"
   ]
  },
  {
   "cell_type": "code",
   "execution_count": 39,
   "metadata": {
    "ExecuteTime": {
     "end_time": "2021-07-23T05:37:43.072930Z",
     "start_time": "2021-07-23T05:37:43.058547Z"
    }
   },
   "outputs": [],
   "source": [
    "def read_vertices_from_obj(objPath):\n",
    "    points = []\n",
    "    with open(objPath, 'r') as f:\n",
    "        for line in f:\n",
    "            line = line.replace('v', '')\n",
    "            line_ = line.split()\n",
    "            points.append(Point(float(line_[0]), float(line_[1]), float(line_[2])))\n",
    "    return points"
   ]
  },
  {
   "cell_type": "code",
   "execution_count": 40,
   "metadata": {
    "ExecuteTime": {
     "end_time": "2021-07-23T05:37:43.088312Z",
     "start_time": "2021-07-23T05:37:43.074418Z"
    }
   },
   "outputs": [
    {
     "name": "stdout",
     "output_type": "stream",
     "text": [
      "348\n"
     ]
    }
   ],
   "source": [
    "points = read_vertices_from_obj(r\"C:\\Users\\romul\\Documents\\UFC\\MESTRADO\\Disciplinas\\Geometria Computacional\\super-nintendo-blend\\p1.obj\")\n",
    "print(len(points))"
   ]
  },
  {
   "cell_type": "code",
   "execution_count": 46,
   "metadata": {
    "ExecuteTime": {
     "end_time": "2021-07-23T05:38:48.587672Z",
     "start_time": "2021-07-23T05:38:48.472571Z"
    },
    "scrolled": true
   },
   "outputs": [
    {
     "name": "stdout",
     "output_type": "stream",
     "text": [
      "78\n"
     ]
    }
   ],
   "source": [
    "nH = GiftWrap(points)\n",
    "# for h in nH:\n",
    "#     print(h)\n",
    "print(len(nH))"
   ]
  },
  {
   "cell_type": "code",
   "execution_count": 42,
   "metadata": {
    "ExecuteTime": {
     "end_time": "2021-07-23T05:37:43.195943Z",
     "start_time": "2021-07-23T05:37:43.181559Z"
    },
    "scrolled": true
   },
   "outputs": [
    {
     "name": "stdout",
     "output_type": "stream",
     "text": [
      "f 2 5 1\n",
      "f 1 2 5\n"
     ]
    }
   ],
   "source": [
    "print_faces(H, P)\n",
    "write_faces(H, P)"
   ]
  },
  {
   "cell_type": "code",
   "execution_count": 47,
   "metadata": {
    "ExecuteTime": {
     "end_time": "2021-07-23T05:38:55.225367Z",
     "start_time": "2021-07-23T05:38:55.170565Z"
    }
   },
   "outputs": [],
   "source": [
    "write_faces(nH, points)\n",
    "# print_faces(nH, points)\n"
   ]
  }
 ],
 "metadata": {
  "colab": {
   "authorship_tag": "ABX9TyMHbR0jUi2eaz6y7q07g8rw",
   "collapsed_sections": [],
   "name": "GiftWrapping3d.ipynb",
   "provenance": []
  },
  "kernelspec": {
   "display_name": "Python 3",
   "language": "python",
   "name": "python3"
  },
  "language_info": {
   "codemirror_mode": {
    "name": "ipython",
    "version": 3
   },
   "file_extension": ".py",
   "mimetype": "text/x-python",
   "name": "python",
   "nbconvert_exporter": "python",
   "pygments_lexer": "ipython3",
   "version": "3.8.7"
  }
 },
 "nbformat": 4,
 "nbformat_minor": 1
}
