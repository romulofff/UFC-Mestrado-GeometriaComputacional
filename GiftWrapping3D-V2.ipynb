{
 "cells": [
  {
   "cell_type": "code",
   "execution_count": 2,
   "id": "miniature-occasion",
   "metadata": {
    "ExecuteTime": {
     "end_time": "2021-07-28T20:59:23.225519Z",
     "start_time": "2021-07-28T20:59:22.905403Z"
    }
   },
   "outputs": [],
   "source": [
    "import os\n",
    "import math\n",
    "import time\n",
    "\n",
    "import numpy as np"
   ]
  },
  {
   "cell_type": "code",
   "execution_count": 3,
   "id": "instructional-grocery",
   "metadata": {
    "ExecuteTime": {
     "end_time": "2021-07-28T20:59:23.240895Z",
     "start_time": "2021-07-28T20:59:23.227006Z"
    }
   },
   "outputs": [],
   "source": [
    "class Point:\n",
    "    def __init__(self, x, y, z):\n",
    "        self.x = x\n",
    "        self.y = y\n",
    "        self.z = z\n",
    "\n",
    "    def __call__(self) -> tuple:\n",
    "        return (self.x, self.y, self.z)\n",
    "\n",
    "    def __str__(self) -> str:\n",
    "        return str((self.x, self.y, self.z))\n",
    "\n",
    "    def __eq__(self, other):\n",
    "        return self.__dict__ == other.__dict__\n",
    "\n",
    "\n",
    "class Edge:\n",
    "    def __init__(self, p1, p2):\n",
    "        self.p1 = p1\n",
    "        self.p2 = p2\n",
    "\n",
    "    def __str__(self):\n",
    "        return \"{} {}\".format(str(self.p1), str(self.p2))\n",
    "\n",
    "    def __eq__(self, other):\n",
    "        if self.p1 == other.p1 or self.p1 == other.p2:\n",
    "            if self.p2 == other.p1 or self.p2 == other.p2:\n",
    "                return True\n",
    "        return False\n",
    "\n",
    "\n",
    "class Face:\n",
    "    def __init__(self, p1, p2, p3):\n",
    "        self.p1 = p1\n",
    "        self.p2 = p2\n",
    "        self.p3 = p3\n",
    "\n",
    "        self.e1 = Edge(p1, p2)\n",
    "        self.e2 = Edge(p2, p3)\n",
    "        self.e3 = Edge(p3, p1)\n",
    "\n",
    "    def __str__(self):\n",
    "        return \"{} {} {}\".format(str(self.p1), str(self.p2), str(self.p3))\n",
    "\n",
    "    def __eq__(self, other):\n",
    "        pass"
   ]
  },
  {
   "cell_type": "code",
   "execution_count": 19,
   "id": "labeled-circle",
   "metadata": {
    "ExecuteTime": {
     "end_time": "2021-07-28T21:07:49.860738Z",
     "start_time": "2021-07-28T21:07:49.851842Z"
    }
   },
   "outputs": [],
   "source": [
    "def cross(a, b):\n",
    "    return Point(a.y*b.z-a.z*b.y, a.z*b.x-a.x*b.z, a.x*b.y-a.y*b.x)\n",
    "\n",
    "def dot(a, b):\n",
    "    return (a.x*b.x)+(a.y*b.y)+(a.z*b.z)\n",
    "\n",
    "def norma(a):\n",
    "    return math.sqrt(a.x*a.x + a.y*a.y + a.z*a.z)\n",
    "\n",
    "def angle(a, b):\n",
    "    normaa = norma(a)\n",
    "    normab = norma(b)\n",
    "    if norma(a)==0 or norma(b) == 0:\n",
    "        return -999999999\n",
    "    return dot(a, b) / (norma(a)*norma(b))\n",
    "\n",
    "def sub(a, b):\n",
    "    return Point(a.x-b.x, a.y-b.y, a.z-b.z)\n",
    "\n",
    "def normal(face):\n",
    "    v1 = sub(face.p2, face.p1)    \n",
    "    v2 = sub(face.p3, face.p1)\n",
    "    return cross(v1,v2)"
   ]
  },
  {
   "cell_type": "code",
   "execution_count": 5,
   "id": "shared-eleven",
   "metadata": {
    "ExecuteTime": {
     "end_time": "2021-07-28T20:59:23.271483Z",
     "start_time": "2021-07-28T20:59:23.257595Z"
    }
   },
   "outputs": [],
   "source": [
    "def find_min(Points):\n",
    "    ys = [p.y for p in Points]\n",
    "    min_index = ys.index(min(ys))\n",
    "    return Points[min_index]"
   ]
  },
  {
   "cell_type": "code",
   "execution_count": 6,
   "id": "actual-ivory",
   "metadata": {
    "ExecuteTime": {
     "end_time": "2021-07-28T20:59:23.286892Z",
     "start_time": "2021-07-28T20:59:23.272971Z"
    }
   },
   "outputs": [],
   "source": [
    "def check_face(F, f):\n",
    "    for face in F:\n",
    "        if face == f:\n",
    "            return False\n",
    "    return True"
   ]
  },
  {
   "cell_type": "code",
   "execution_count": 7,
   "id": "healthy-celebration",
   "metadata": {
    "ExecuteTime": {
     "end_time": "2021-07-28T20:59:23.302268Z",
     "start_time": "2021-07-28T20:59:23.287885Z"
    }
   },
   "outputs": [],
   "source": [
    "def check_edge_face(F, e):\n",
    "    count = 0\n",
    "\n",
    "    for face in F:\n",
    "        if face.e1 == e or face.e2 == e or face.e3 == e:\n",
    "            count += 1\n",
    "    if count > 1:\n",
    "        return False\n",
    "    return True"
   ]
  },
  {
   "cell_type": "code",
   "execution_count": 8,
   "id": "improving-montreal",
   "metadata": {
    "ExecuteTime": {
     "end_time": "2021-07-28T20:59:23.317582Z",
     "start_time": "2021-07-28T20:59:23.303260Z"
    }
   },
   "outputs": [],
   "source": [
    "def check_edges(E, e):\n",
    "    for edge in E:\n",
    "        if edge == e:\n",
    "            return False\n",
    "    return True"
   ]
  },
  {
   "cell_type": "code",
   "execution_count": 9,
   "id": "central-centre",
   "metadata": {
    "ExecuteTime": {
     "end_time": "2021-07-28T20:59:23.332957Z",
     "start_time": "2021-07-28T20:59:23.318574Z"
    }
   },
   "outputs": [],
   "source": [
    "def free_edge(f):\n",
    "    return [f.e3, f.e1, f.e2]"
   ]
  },
  {
   "cell_type": "code",
   "execution_count": 10,
   "id": "demanding-render",
   "metadata": {
    "ExecuteTime": {
     "end_time": "2021-07-28T20:59:23.348334Z",
     "start_time": "2021-07-28T20:59:23.334446Z"
    }
   },
   "outputs": [],
   "source": [
    "def find_first_face(P):\n",
    "    p1 = find_min(P)\n",
    "    p2 = Point(p1.x+1, p1.y, p1.z)    # p_linha\n",
    "    p3 = Point(p1.x, p1.y, p1.z-1)    # p2_linha\n",
    "\n",
    "    ftemp = Face(p1, p3, p2)\n",
    "    normal1 = normal(ftemp)\n",
    "\n",
    "    max_angle = -999999\n",
    "    for point in P:\n",
    "        if point == ftemp.p1:\n",
    "            continue\n",
    "        f_ = Face(point, ftemp.p3, ftemp.p1)\n",
    "        normal2 = normal(f_)\n",
    "        ang = angle(normal1, normal2)\n",
    "        if ang > max_angle:\n",
    "            p3 = point\n",
    "            max_angle = ang\n",
    "\n",
    "    ftemp = Face(p1, p3, p2)\n",
    "    normal1 = normal(ftemp)\n",
    "    max_angle = -999999\n",
    "    for point in P:\n",
    "        if point == ftemp.p1 or point == ftemp.p2:\n",
    "            continue\n",
    "        f_ = Face(point, ftemp.p2, ftemp.p1)\n",
    "        normal2 = normal(f_)\n",
    "        ang = angle(normal1, normal2)\n",
    "        if ang > max_angle:\n",
    "            p2 = point\n",
    "            max_angle = ang\n",
    "    return Face(p2, p3, p1)"
   ]
  },
  {
   "cell_type": "code",
   "execution_count": 11,
   "id": "reverse-organization",
   "metadata": {
    "ExecuteTime": {
     "end_time": "2021-07-28T20:59:23.363710Z",
     "start_time": "2021-07-28T20:59:23.349327Z"
    }
   },
   "outputs": [],
   "source": [
    "from time import sleep"
   ]
  },
  {
   "cell_type": "code",
   "execution_count": 12,
   "id": "operating-aquatic",
   "metadata": {
    "ExecuteTime": {
     "end_time": "2021-07-28T20:59:23.379101Z",
     "start_time": "2021-07-28T20:59:23.364702Z"
    }
   },
   "outputs": [],
   "source": [
    "def gift_wrapping(P):\n",
    "    f = find_first_face(P)\n",
    "    hull = [f]\n",
    "    faces_iter = [f]\n",
    "    free_edges = []\n",
    "    face_atual = None\n",
    "    candidate = None\n",
    "    while len(faces_iter) > 0:\n",
    "        face_atual = faces_iter.pop(0)\n",
    "        free_edges = free_edge(face_atual)\n",
    "\n",
    "        normal1 = normal(face_atual)\n",
    "        for e in free_edges:\n",
    "            max_angle = -99999\n",
    "            candidate = None\n",
    "            if check_edge_face(hull, e):\n",
    "                for p in P:\n",
    "                    if p == e.p1 or p == e.p2:\n",
    "                        continue\n",
    "                    f_ = Face(e.p1, p, e.p2)\n",
    "                    normal2 = normal(f_)\n",
    "                    ang = angle(normal1, normal2)\n",
    "                    if ang > max_angle:\n",
    "                        if check_face(hull, f_):\n",
    "                            max_angle = ang\n",
    "                            candidate = p\n",
    "                face_no_hull = Face(e.p1, candidate, e.p2)\n",
    "                hull.append(face_no_hull)\n",
    "                faces_iter.append(face_no_hull)\n",
    "    return hull"
   ]
  },
  {
   "cell_type": "code",
   "execution_count": 13,
   "id": "known-linux",
   "metadata": {
    "ExecuteTime": {
     "end_time": "2021-07-28T20:59:23.394579Z",
     "start_time": "2021-07-28T20:59:23.380094Z"
    }
   },
   "outputs": [],
   "source": [
    "def read_vertices_from_obj(objPath):\n",
    "    points = []\n",
    "    with open(objPath, 'r') as f:\n",
    "        for line in f:\n",
    "            try:\n",
    "                line = line.replace('v', '')\n",
    "            except:\n",
    "                #                 print(\"Problema na linha\")\n",
    "                continue\n",
    "            line_ = line.split()\n",
    "            try:\n",
    "                points.append(\n",
    "                    Point(float(line_[0]), float(line_[1]), float(line_[2])))\n",
    "            except:\n",
    "                #                 print(\"Problema no ponto\")\n",
    "                continue\n",
    "    return points"
   ]
  },
  {
   "cell_type": "code",
   "execution_count": 14,
   "id": "declared-universal",
   "metadata": {
    "ExecuteTime": {
     "end_time": "2021-07-28T20:59:23.409959Z",
     "start_time": "2021-07-28T20:59:23.395576Z"
    }
   },
   "outputs": [],
   "source": [
    "def print_faces(F, P):\n",
    "    i1 = 0\n",
    "    i2 = 0\n",
    "    i3 = 0\n",
    "    for i in range(len(F)):\n",
    "        for j in range(len(P)):\n",
    "            if F[i].p1.x == P[j].x and F[i].p1.y == P[j].y and F[i].p1.z == P[j].z:\n",
    "                i1 = j\n",
    "            if F[i].p2.x == P[j].x and F[i].p2.y == P[j].y and F[i].p2.z == P[j].z:\n",
    "                i2 = j\n",
    "            if F[i].p3.x == P[j].x and F[i].p3.y == P[j].y and F[i].p3.z == P[j].z:\n",
    "                i3 = j\n",
    "\n",
    "        print(\"f {} {} {}\".format(i1+1, i2+1, i3+1))"
   ]
  },
  {
   "cell_type": "code",
   "execution_count": 15,
   "id": "different-sally",
   "metadata": {
    "ExecuteTime": {
     "end_time": "2021-07-28T20:59:23.425090Z",
     "start_time": "2021-07-28T20:59:23.410952Z"
    }
   },
   "outputs": [],
   "source": [
    "def write_faces(F, P, filename=False):\n",
    "    i1 = 0\n",
    "    i2 = 0\n",
    "    i3 = 0\n",
    "    if not filename:\n",
    "        filename = os.path.join(os.getcwd(), 'obj', 'faces.obj')\n",
    "    with open(filename, 'w') as f:\n",
    "        for point in P:\n",
    "            f.write(\"v {} {} {}\".format(point.x, point.y, point.z))\n",
    "            f.write('\\n')\n",
    "        f.write('\\n')\n",
    "        for i in range(len(F)):\n",
    "            for j in range(len(P)):\n",
    "                if F[i].p1.x == P[j].x and F[i].p1.y == P[j].y and F[i].p1.z == P[j].z:\n",
    "                    i1 = j\n",
    "                if F[i].p2.x == P[j].x and F[i].p2.y == P[j].y and F[i].p2.z == P[j].z:\n",
    "                    i2 = j\n",
    "                if F[i].p3.x == P[j].x and F[i].p3.y == P[j].y and F[i].p3.z == P[j].z:\n",
    "                    i3 = j\n",
    "            f.writelines(\"f {} {} {}\".format(i1+1, i2+1, i3+1))\n",
    "            f.write('\\n')"
   ]
  },
  {
   "cell_type": "code",
   "execution_count": 16,
   "id": "boxed-process",
   "metadata": {
    "ExecuteTime": {
     "end_time": "2021-07-28T20:59:23.440466Z",
     "start_time": "2021-07-28T20:59:23.426082Z"
    }
   },
   "outputs": [],
   "source": [
    "def write_points_on_hull(H, P, filename=False):\n",
    "    points_to_write = []\n",
    "    for face in H:\n",
    "        if face.p1 not in points_to_write:\n",
    "            points_to_write.append(face.p1)\n",
    "        if face.p2 not in points_to_write:\n",
    "            points_to_write.append(face.p2)\n",
    "        if face.p3 not in points_to_write:\n",
    "            points_to_write.append(face.p3)\n",
    "    if not filename:\n",
    "        filename = os.path.join(os.getcwd(), 'obj', 'hull.obj')\n",
    "    with open(filename, 'w') as f:\n",
    "        for p in points_to_write:\n",
    "            f.write(\"v {} {} {}\".format(p.x, p.y, p.z))\n",
    "            f.write('\\n')"
   ]
  },
  {
   "cell_type": "code",
   "execution_count": 21,
   "id": "proprietary-consultancy",
   "metadata": {
    "ExecuteTime": {
     "end_time": "2021-07-29T01:26:25.530493Z",
     "start_time": "2021-07-29T01:26:25.526496Z"
    }
   },
   "outputs": [],
   "source": [
    "pth = \"/Users/romul/Documents/UFC/MESTRADO/Disciplinas/Geometria Computacional/obj/\""
   ]
  },
  {
   "cell_type": "code",
   "execution_count": 17,
   "id": "exclusive-thong",
   "metadata": {
    "ExecuteTime": {
     "end_time": "2021-07-28T14:55:14.303972Z",
     "start_time": "2021-07-28T14:55:14.289589Z"
    },
    "scrolled": true
   },
   "outputs": [
    {
     "name": "stdout",
     "output_type": "stream",
     "text": [
      "28\n"
     ]
    }
   ],
   "source": [
    "cilindro = read_vertices_from_obj(pth+\"Debug.obj\")\n",
    "# for c in cilindro: print(c)\n",
    "ch = gift_wrapping(cilindro)\n",
    "print(len(ch))\n",
    "write_faces(ch, cilindro, os.getcwd()+\"\\\\obj\\\\hullCilindro.obj\")\n",
    "# print_faces(ch, cilindro)"
   ]
  },
  {
   "cell_type": "code",
   "execution_count": 24,
   "id": "eligible-adams",
   "metadata": {
    "ExecuteTime": {
     "end_time": "2021-07-29T01:46:16.319019Z",
     "start_time": "2021-07-29T01:46:16.300667Z"
    }
   },
   "outputs": [
    {
     "name": "stdout",
     "output_type": "stream",
     "text": [
      "1000\n"
     ]
    }
   ],
   "source": [
    "points = []\n",
    "for i in range(1000):\n",
    "    a = np.random.random(1)\n",
    "    b = np.random.random(1)\n",
    "    c = np.random.random(1)\n",
    "\n",
    "    points.append(Point(a[0], b[0], c[0]))\n",
    "\n",
    "print(len(points))"
   ]
  },
  {
   "cell_type": "code",
   "execution_count": 27,
   "id": "superb-reflection",
   "metadata": {
    "ExecuteTime": {
     "end_time": "2021-07-29T01:46:55.157351Z",
     "start_time": "2021-07-29T01:46:54.175276Z"
    }
   },
   "outputs": [
    {
     "name": "stdout",
     "output_type": "stream",
     "text": [
      "114\n"
     ]
    }
   ],
   "source": [
    "H = gift_wrapping(points)\n",
    "print(len(H))\n",
    "write_faces(H, points, os.getcwd()+\"\\\\obj\\\\hull1000pontos.obj\")\n",
    "write_points_on_hull(H, points, os.getcwd()+\"\\\\obj\\\\pointsHull1000pontos.obj\")"
   ]
  },
  {
   "cell_type": "code",
   "execution_count": 20,
   "id": "anticipated-british",
   "metadata": {
    "ExecuteTime": {
     "end_time": "2021-07-28T14:55:19.593333Z",
     "start_time": "2021-07-28T14:55:15.597072Z"
    }
   },
   "outputs": [
    {
     "name": "stdout",
     "output_type": "stream",
     "text": [
      "960\n"
     ]
    }
   ],
   "source": [
    "esfera = read_vertices_from_obj(pth+\"esfera.obj\")\n",
    "# for c in cilindro: print(c)\n",
    "ch = gift_wrapping(esfera)\n",
    "print(len(ch))\n",
    "write_faces(ch, esfera, os.getcwd()+\"\\\\obj\\\\hullEsfera.obj\")"
   ]
  },
  {
   "cell_type": "code",
   "execution_count": 22,
   "id": "fourth-affair",
   "metadata": {
    "ExecuteTime": {
     "end_time": "2021-07-29T01:26:27.621070Z",
     "start_time": "2021-07-29T01:26:27.605694Z"
    }
   },
   "outputs": [
    {
     "name": "stdout",
     "output_type": "stream",
     "text": [
      "8\n"
     ]
    }
   ],
   "source": [
    "bento = read_vertices_from_obj(pth+\"bento2.obj\")\n",
    "# for c in cilindro: print(c)\n",
    "ch = gift_wrapping(bento)\n",
    "print(len(ch))\n",
    "write_faces(ch, bento, os.getcwd()+\"\\\\obj\\\\hullBento2.obj\")\n",
    "write_points_on_hull(ch, bento, os.getcwd()+\"\\\\obj\\\\pointsHullBento2.obj\")"
   ]
  },
  {
   "cell_type": "code",
   "execution_count": 22,
   "id": "changed-research",
   "metadata": {
    "ExecuteTime": {
     "end_time": "2021-07-28T14:55:20.761906Z",
     "start_time": "2021-07-28T14:55:19.609701Z"
    }
   },
   "outputs": [
    {
     "name": "stdout",
     "output_type": "stream",
     "text": [
      "348\n",
      "433\n"
     ]
    }
   ],
   "source": [
    "controle = read_vertices_from_obj(os.getcwd()+\"\\\\obj\\\\controle.obj\")\n",
    "print(len(controle))\n",
    "hullControle = gift_wrapping(controle)\n",
    "print(len(hullControle))\n",
    "write_faces(hullControle, controle, os.getcwd()+\"\\\\obj\\\\hullControle.obj\")"
   ]
  },
  {
   "cell_type": "code",
   "execution_count": 23,
   "id": "forty-transaction",
   "metadata": {
    "ExecuteTime": {
     "end_time": "2021-07-28T14:55:20.777281Z",
     "start_time": "2021-07-28T14:55:20.763393Z"
    }
   },
   "outputs": [],
   "source": [
    "# nintendo = read_vertices_from_obj(os.getcwd()+\"\\\\obj\\\\super-nintendo.obj\")\n",
    "# print(len(nintendo))"
   ]
  },
  {
   "cell_type": "code",
   "execution_count": 24,
   "id": "latin-conflict",
   "metadata": {
    "ExecuteTime": {
     "end_time": "2021-07-28T14:55:20.792764Z",
     "start_time": "2021-07-28T14:55:20.778273Z"
    },
    "scrolled": true
   },
   "outputs": [],
   "source": [
    "# t1 = time.time()\n",
    "# hullNintendo = gift_wrapping(nintendo)\n",
    "# print(len(hullNintendo))\n",
    "# write_faces(hullNintendo, nintendo, os.getcwd()+\"\\\\obj\\\\hullNintendo.obj\")\n",
    "# write_points_on_hull(hullNintendo, nintendo, os.getcwd()+\"\\\\obj\\\\pointsHullNintendo.obj\")"
   ]
  },
  {
   "cell_type": "code",
   "execution_count": 30,
   "id": "colored-participant",
   "metadata": {
    "ExecuteTime": {
     "end_time": "2021-07-28T15:04:03.407909Z",
     "start_time": "2021-07-28T15:04:03.113579Z"
    }
   },
   "outputs": [
    {
     "name": "stdout",
     "output_type": "stream",
     "text": [
      "Controle 01 possui 14526 pontos.\n",
      "Controle 02 possui 16878 pontos.\n",
      "Cartucho possui 1198 pontos.\n",
      "Console possui 27696 pontos.\n"
     ]
    }
   ],
   "source": [
    "controle01 = read_vertices_from_obj(os.getcwd()+\"\\\\obj\\\\controle01.obj\")\n",
    "print(\"Controle 01 possui {} pontos.\".format(len(controle01)))\n",
    "controle02 = read_vertices_from_obj(os.getcwd()+\"\\\\obj\\\\controle02.obj\")\n",
    "print(\"Controle 02 possui {} pontos.\".format(len(controle02)))\n",
    "cartucho = read_vertices_from_obj(os.getcwd()+\"\\\\obj\\\\cartucho.obj\")\n",
    "print(\"Cartucho possui {} pontos.\".format(len(cartucho)))\n",
    "console = read_vertices_from_obj(os.getcwd()+\"\\\\obj\\\\console.obj\")\n",
    "print(\"Console possui {} pontos.\".format(len(console)))"
   ]
  },
  {
   "cell_type": "code",
   "execution_count": 31,
   "id": "limiting-elevation",
   "metadata": {
    "ExecuteTime": {
     "end_time": "2021-07-28T15:04:59.542208Z",
     "start_time": "2021-07-28T15:04:12.821400Z"
    }
   },
   "outputs": [],
   "source": [
    "hullControle01 = gift_wrapping(controle01)\n",
    "write_faces(hullControle01, controle01,\n",
    "            os.getcwd()+\"\\\\obj\\\\hullControle01.obj\")\n",
    "write_points_on_hull(hullControle01, controle01,\n",
    "                     os.getcwd()+\"\\\\obj\\\\pointsHullControle01.obj\")"
   ]
  },
  {
   "cell_type": "code",
   "execution_count": 32,
   "id": "understanding-courage",
   "metadata": {
    "ExecuteTime": {
     "end_time": "2021-07-28T15:06:20.882580Z",
     "start_time": "2021-07-28T15:04:59.543696Z"
    }
   },
   "outputs": [],
   "source": [
    "hullControle02 = gift_wrapping(controle02)\n",
    "write_faces(hullControle02, controle02,\n",
    "            os.getcwd()+\"\\\\obj\\\\hullControle02.obj\")\n",
    "write_points_on_hull(hullControle02, controle02,\n",
    "                     os.getcwd()+\"\\\\obj\\\\pointsHullControle02.obj\")"
   ]
  },
  {
   "cell_type": "code",
   "execution_count": 33,
   "id": "instrumental-hardware",
   "metadata": {
    "ExecuteTime": {
     "end_time": "2021-07-28T15:06:25.741383Z",
     "start_time": "2021-07-28T15:06:20.884070Z"
    }
   },
   "outputs": [],
   "source": [
    "hullCartucho = gift_wrapping(cartucho)\n",
    "write_faces(hullCartucho, cartucho, os.getcwd()+\"\\\\obj\\\\hullCartucho.obj\")\n",
    "write_points_on_hull(hullCartucho, cartucho, os.getcwd() +\n",
    "                     \"\\\\obj\\\\pointsHullcartucho.obj\")"
   ]
  },
  {
   "cell_type": "code",
   "execution_count": 34,
   "id": "short-sensitivity",
   "metadata": {
    "ExecuteTime": {
     "end_time": "2021-07-28T15:16:01.324656Z",
     "start_time": "2021-07-28T15:06:25.742871Z"
    }
   },
   "outputs": [],
   "source": [
    "hullConsole = gift_wrapping(console)\n",
    "write_faces(hullConsole, console, os.getcwd()+\"\\\\obj\\\\hullConsole.obj\")\n",
    "write_points_on_hull(hullConsole, console, os.getcwd() +\n",
    "                     \"\\\\obj\\\\poinbtsHullConsole.obj\")"
   ]
  }
 ],
 "metadata": {
  "kernelspec": {
   "display_name": "Python 3",
   "language": "python",
   "name": "python3"
  },
  "language_info": {
   "codemirror_mode": {
    "name": "ipython",
    "version": 3
   },
   "file_extension": ".py",
   "mimetype": "text/x-python",
   "name": "python",
   "nbconvert_exporter": "python",
   "pygments_lexer": "ipython3",
   "version": "3.8.7"
  }
 },
 "nbformat": 4,
 "nbformat_minor": 5
}
