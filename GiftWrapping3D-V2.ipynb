{
 "cells": [
  {
   "cell_type": "code",
   "execution_count": 207,
   "id": "excessive-associate",
   "metadata": {
    "ExecuteTime": {
     "end_time": "2021-07-26T22:02:15.852317Z",
     "start_time": "2021-07-26T22:02:15.849838Z"
    }
   },
   "outputs": [],
   "source": [
    "import os\n",
    "import math"
   ]
  },
  {
   "cell_type": "code",
   "execution_count": 208,
   "id": "naughty-lafayette",
   "metadata": {
    "ExecuteTime": {
     "end_time": "2021-07-26T22:02:16.067375Z",
     "start_time": "2021-07-26T22:02:16.056959Z"
    }
   },
   "outputs": [],
   "source": [
    "class Point:\n",
    "    def __init__(self, x, y, z):\n",
    "        self.x = x\n",
    "        self.y = y\n",
    "        self.z = z\n",
    "\n",
    "    def __call__(self) -> tuple:\n",
    "        return (self.x, self.y, self.z)\n",
    "\n",
    "    def __str__(self) -> str:\n",
    "        return str((self.x, self.y, self.z))\n",
    "\n",
    "    def __eq__(self, other):\n",
    "        return self.__dict__ == other.__dict__\n",
    "\n",
    "\n",
    "class Edge:\n",
    "    def __init__(self, p1, p2):\n",
    "        self.p1 = p1\n",
    "        self.p2 = p2\n",
    "\n",
    "\n",
    "class Face:\n",
    "    def __init__(self, p1, p2, p3):\n",
    "        self.p1 = p1\n",
    "        self.p2 = p2\n",
    "        self.p3 = p3\n",
    "\n",
    "        self.e1 = Edge(p1, p2)\n",
    "        self.e2 = Edge(p2, p3)\n",
    "        self.e3 = Edge(p3, p1)\n",
    "        \n",
    "    def __str__(self):\n",
    "        return \"{} {} {}\".format(str(self.p1), str(self.p2), str(self.p3))"
   ]
  },
  {
   "cell_type": "code",
   "execution_count": 209,
   "id": "streaming-classification",
   "metadata": {
    "ExecuteTime": {
     "end_time": "2021-07-26T22:02:16.329640Z",
     "start_time": "2021-07-26T22:02:16.312776Z"
    }
   },
   "outputs": [],
   "source": [
    "def cross(a, b):\n",
    "    return Point(a.y*b.z-a.z*b.y, a.z*b.x-a.x*b.z, a.x*b.y-a.y*b.x)\n",
    "\n",
    "def dot(a, b):\n",
    "    return (a.x*b.x)+(a.y*b.y)+(a.z*b.z)\n",
    "\n",
    "def norma(a):\n",
    "    return math.sqrt(a.x*a.x + a.y*a.y + a.z*a.z)\n",
    "\n",
    "def angle(a, b):\n",
    "    return dot(a, b) / norma(a)*norma(b)\n",
    "\n",
    "def sub(a, b):\n",
    "    return Point(a.x-b.x, a.y-b.y, a.z-b.z)\n",
    "\n",
    "def normal(face):\n",
    "    v1 = sub(face.p2, face.p1)    \n",
    "    v2 = sub(face.p3, face.p1)\n",
    "    return cross(v1,v2)"
   ]
  },
  {
   "cell_type": "code",
   "execution_count": 210,
   "id": "lucky-effect",
   "metadata": {
    "ExecuteTime": {
     "end_time": "2021-07-26T22:02:16.528638Z",
     "start_time": "2021-07-26T22:02:16.518223Z"
    }
   },
   "outputs": [],
   "source": [
    "def find_min(Points):\n",
    "    ys = [p.y for p in Points]\n",
    "    min_index = ys.index(min(ys))\n",
    "    return Points[min_index]"
   ]
  },
  {
   "cell_type": "code",
   "execution_count": 211,
   "id": "devoted-thumbnail",
   "metadata": {
    "ExecuteTime": {
     "end_time": "2021-07-26T22:02:16.743468Z",
     "start_time": "2021-07-26T22:02:16.726109Z"
    }
   },
   "outputs": [],
   "source": [
    "def adjacente(P, F, e):\n",
    "    ang_min = 99999999\n",
    "    candidate = None\n",
    "    normal1 = normal(F)\n",
    "#     print(normal1)\n",
    "    for p in P:\n",
    "#         print(\"p\", p)\n",
    "        if p == F.p1 or p == F.p2 or p == F.p3: continue\n",
    "        normal2 = normal(Face(e.p2, e.p1, p))\n",
    "        ang = -1*angle(normal1, normal2)\n",
    "#         print('n2',normal2)\n",
    "#         print(\"ANGLE\", ang)\n",
    "        if ang < ang_min:\n",
    "            ang_min = ang\n",
    "            candidate = p\n",
    "    return candidate"
   ]
  },
  {
   "cell_type": "code",
   "execution_count": 212,
   "id": "developmental-valve",
   "metadata": {
    "ExecuteTime": {
     "end_time": "2021-07-26T22:02:17.019976Z",
     "start_time": "2021-07-26T22:02:17.006553Z"
    }
   },
   "outputs": [],
   "source": [
    "def find_first_face(P):\n",
    "    p1 = find_min(P)\n",
    "    p2 = Point(p1.x+1, p1.y, p1.z)    \n",
    "    p3 = Point(p1.x, p1.y, p1.z+1)\n",
    "    \n",
    "    ftemp = Face(p1,p2,p3)\n",
    "    \n",
    "    p3 = adjacente(P, ftemp, ftemp.e1)\n",
    "    \n",
    "    ftemp2 = Face(p1,p2,p3)\n",
    "    p2 = adjacente(P, ftemp2, ftemp2.e3)\n",
    "    \n",
    "    return Face(p1,p2,p3)    "
   ]
  },
  {
   "cell_type": "code",
   "execution_count": 213,
   "id": "distinct-evidence",
   "metadata": {
    "ExecuteTime": {
     "end_time": "2021-07-26T22:02:17.219155Z",
     "start_time": "2021-07-26T22:02:17.202151Z"
    }
   },
   "outputs": [],
   "source": [
    "a = adjacente([Point(0,1,0), Point(1,0,0), Point(0,0,1), Point(0,-1,0), Point(0,0,0), Point(0, 0,0.5), Point(0, 0, 4), Point(0, -5,0)], Face(Point(0,1,0), Point(1,0,0), Point(0,0,1)), Edge(Point(0,1,0), Point(1,0,0)))"
   ]
  },
  {
   "cell_type": "code",
   "execution_count": 214,
   "id": "offensive-lawsuit",
   "metadata": {
    "ExecuteTime": {
     "end_time": "2021-07-26T22:02:17.418882Z",
     "start_time": "2021-07-26T22:02:17.405988Z"
    }
   },
   "outputs": [],
   "source": [
    "def gift_wrap(P):\n",
    "    f = find_first_face(P)\n",
    "    Q = [f]\n",
    "    hull = [f]\n",
    "    while len(Q) > 0:\n",
    "        face = Q.pop(0)\n",
    "        arestas = [face.e1, face.e2, face.e3]\n",
    "        for aresta in arestas:\n",
    "            p_ = adjacente(P, face, aresta)\n",
    "            f_ = Face(aresta.p2, aresta.p1, p_)\n",
    "            hull.append(f_)\n",
    "    return hull"
   ]
  },
  {
   "cell_type": "code",
   "execution_count": 215,
   "id": "delayed-shooting",
   "metadata": {
    "ExecuteTime": {
     "end_time": "2021-07-26T22:02:17.634127Z",
     "start_time": "2021-07-26T22:02:17.624672Z"
    }
   },
   "outputs": [],
   "source": [
    "def read_vertices_from_obj(objPath):\n",
    "    points = []\n",
    "    with open(objPath, 'r') as f:\n",
    "        for line in f:\n",
    "            line = line.replace('v', '')\n",
    "            line_ = line.split()\n",
    "            try:\n",
    "                points.append(Point(float(line_[0]), float(line_[1]), float(line_[2])))\n",
    "            except:\n",
    "                return points\n",
    "    return points"
   ]
  },
  {
   "cell_type": "code",
   "execution_count": 228,
   "id": "neutral-character",
   "metadata": {
    "ExecuteTime": {
     "end_time": "2021-07-26T22:03:58.783466Z",
     "start_time": "2021-07-26T22:03:58.771562Z"
    }
   },
   "outputs": [],
   "source": [
    "def write_faces(F, P, filename=False):\n",
    "    i1 = 0\n",
    "    i2 = 0\n",
    "    i3 = 0\n",
    "    if not filename:\n",
    "        filename = os.path.join(os.getcwd(), 'obj', 'faces.obj')\n",
    "    with open(filename, 'w') as f:\n",
    "        for point in P:\n",
    "            f.write(\"v {} {} {}\".format(point.x, point.y, point.z))\n",
    "            f.write('\\n')\n",
    "        f.write('\\n')\n",
    "        for i in range(len(F)):\n",
    "            for j in range(len(P)):\n",
    "                if F[i].p1.x == P[j].x and F[i].p1.y == P[j].y and F[i].p1.z == P[j].z:\n",
    "                    i1 = j\n",
    "                if F[i].p2.x == P[j].x and F[i].p2.y == P[j].y and F[i].p2.z == P[j].z:\n",
    "                    i2 = j\n",
    "                if F[i].p3.x == P[j].x and F[i].p3.y == P[j].y and F[i].p3.z == P[j].z:\n",
    "                    i3 = j\n",
    "            f.writelines(\"f {} {} {}\".format(i1+1, i2+1, i3+1))\n",
    "            f.write('\\n')\n"
   ]
  },
  {
   "cell_type": "code",
   "execution_count": 229,
   "id": "friendly-latino",
   "metadata": {
    "ExecuteTime": {
     "end_time": "2021-07-26T22:03:58.968119Z",
     "start_time": "2021-07-26T22:03:58.960680Z"
    }
   },
   "outputs": [],
   "source": [
    "pth = \"/Users/romul/Documents/UFC/MESTRADO/Disciplinas/Geometria Computacional/obj/\""
   ]
  },
  {
   "cell_type": "code",
   "execution_count": 230,
   "id": "british-gazette",
   "metadata": {
    "ExecuteTime": {
     "end_time": "2021-07-26T22:03:59.167422Z",
     "start_time": "2021-07-26T22:03:59.155022Z"
    }
   },
   "outputs": [],
   "source": [
    "cilindro = read_vertices_from_obj(pth+\"Debug.obj\")\n",
    "# for c in cilindro: print(c)"
   ]
  },
  {
   "cell_type": "code",
   "execution_count": 231,
   "id": "likely-warren",
   "metadata": {
    "ExecuteTime": {
     "end_time": "2021-07-26T22:03:59.597481Z",
     "start_time": "2021-07-26T22:03:59.589545Z"
    }
   },
   "outputs": [],
   "source": [
    "ch = gift_wrap(cilindro)\n",
    "write_faces(ch, cilindro)"
   ]
  }
 ],
 "metadata": {
  "kernelspec": {
   "display_name": "Python 3",
   "language": "python",
   "name": "python3"
  },
  "language_info": {
   "codemirror_mode": {
    "name": "ipython",
    "version": 3
   },
   "file_extension": ".py",
   "mimetype": "text/x-python",
   "name": "python",
   "nbconvert_exporter": "python",
   "pygments_lexer": "ipython3",
   "version": "3.8.7"
  }
 },
 "nbformat": 4,
 "nbformat_minor": 5
}
