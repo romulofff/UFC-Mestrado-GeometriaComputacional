{
 "cells": [
  {
   "cell_type": "code",
   "execution_count": 303,
   "id": "miniature-occasion",
   "metadata": {
    "ExecuteTime": {
     "end_time": "2021-07-28T03:46:27.102119Z",
     "start_time": "2021-07-28T03:46:27.087736Z"
    }
   },
   "outputs": [],
   "source": [
    "import os\n",
    "import math\n",
    "import time\n",
    "\n",
    "import numpy as np"
   ]
  },
  {
   "cell_type": "code",
   "execution_count": 294,
   "id": "instructional-grocery",
   "metadata": {
    "ExecuteTime": {
     "end_time": "2021-07-28T03:44:24.696924Z",
     "start_time": "2021-07-28T03:44:24.681547Z"
    }
   },
   "outputs": [],
   "source": [
    "class Point:\n",
    "    def __init__(self, x, y, z):\n",
    "        self.x = x\n",
    "        self.y = y\n",
    "        self.z = z\n",
    "\n",
    "    def __call__(self) -> tuple:\n",
    "        return (self.x, self.y, self.z)\n",
    "\n",
    "    def __str__(self) -> str:\n",
    "        return str((self.x, self.y, self.z))\n",
    "\n",
    "    def __eq__(self, other):\n",
    "        return self.__dict__ == other.__dict__\n",
    "\n",
    "\n",
    "class Edge:\n",
    "    def __init__(self, p1, p2):\n",
    "        self.p1 = p1\n",
    "        self.p2 = p2\n",
    "\n",
    "    def __str__(self):\n",
    "        return \"{} {}\".format(str(self.p1), str(self.p2)) \n",
    "    \n",
    "    def __eq__(self, other):\n",
    "        if self.p1 == other.p1 or self.p1 == other.p2:\n",
    "            if self.p2 == other.p1 or self.p2 == other.p2:\n",
    "                return True\n",
    "        return False\n",
    "    \n",
    "    \n",
    "class Face:\n",
    "    def __init__(self, p1, p2, p3):\n",
    "        self.p1 = p1\n",
    "        self.p2 = p2\n",
    "        self.p3 = p3\n",
    "\n",
    "        self.e1 = Edge(p1, p2)\n",
    "        self.e2 = Edge(p2, p3)\n",
    "        self.e3 = Edge(p3, p1)\n",
    "        \n",
    "    def __str__(self):\n",
    "        return \"{} {} {}\".format(str(self.p1), str(self.p2), str(self.p3))\n",
    "    \n",
    "    def __eq__(self, other):\n",
    "        pass"
   ]
  },
  {
   "cell_type": "code",
   "execution_count": 279,
   "id": "labeled-circle",
   "metadata": {
    "ExecuteTime": {
     "end_time": "2021-07-28T03:43:32.515178Z",
     "start_time": "2021-07-28T03:43:32.495590Z"
    }
   },
   "outputs": [],
   "source": [
    "def cross(a, b):\n",
    "    return Point(a.y*b.z-a.z*b.y, a.z*b.x-a.x*b.z, a.x*b.y-a.y*b.x)\n",
    "\n",
    "def dot(a, b):\n",
    "    return (a.x*b.x)+(a.y*b.y)+(a.z*b.z)\n",
    "\n",
    "def norma(a):\n",
    "    return math.sqrt(a.x*a.x + a.y*a.y + a.z*a.z)\n",
    "\n",
    "def angle(a, b):\n",
    "    normaa = norma(a)\n",
    "    normab = norma(b)\n",
    "    if norma(a)==0 or norma(b) == 0:\n",
    "        print(\"ANGULO DIV ZERO\")\n",
    "        return -999999999\n",
    "    return dot(a, b) / (norma(a)*norma(b))\n",
    "\n",
    "def sub(a, b):\n",
    "    return Point(a.x-b.x, a.y-b.y, a.z-b.z)\n",
    "\n",
    "def normal(face):\n",
    "    v1 = sub(face.p2, face.p1)    \n",
    "    v2 = sub(face.p3, face.p1)\n",
    "    return cross(v1,v2)"
   ]
  },
  {
   "cell_type": "code",
   "execution_count": 280,
   "id": "shared-eleven",
   "metadata": {
    "ExecuteTime": {
     "end_time": "2021-07-28T03:43:32.699676Z",
     "start_time": "2021-07-28T03:43:32.687277Z"
    }
   },
   "outputs": [],
   "source": [
    "def find_min(Points):\n",
    "    ys = [p.y for p in Points]\n",
    "    min_index = ys.index(min(ys))\n",
    "    return Points[min_index]"
   ]
  },
  {
   "cell_type": "code",
   "execution_count": 281,
   "id": "actual-ivory",
   "metadata": {
    "ExecuteTime": {
     "end_time": "2021-07-28T03:43:32.931064Z",
     "start_time": "2021-07-28T03:43:32.923624Z"
    }
   },
   "outputs": [],
   "source": [
    "def check_face(F, f):\n",
    "    for face in F:\n",
    "        if face == f:\n",
    "            return False\n",
    "    return True"
   ]
  },
  {
   "cell_type": "code",
   "execution_count": 282,
   "id": "healthy-celebration",
   "metadata": {
    "ExecuteTime": {
     "end_time": "2021-07-28T03:43:33.376475Z",
     "start_time": "2021-07-28T03:43:33.359611Z"
    }
   },
   "outputs": [],
   "source": [
    "def check_edge_face(F, e):\n",
    "    count = 0\n",
    "    \n",
    "    for face in F:\n",
    "        if face.e1 == e or face.e2 == e or face.e3 == e:\n",
    "            count+=1\n",
    "    if count > 1:\n",
    "        return False\n",
    "    return True"
   ]
  },
  {
   "cell_type": "code",
   "execution_count": 283,
   "id": "improving-montreal",
   "metadata": {
    "ExecuteTime": {
     "end_time": "2021-07-28T03:43:33.714922Z",
     "start_time": "2021-07-28T03:43:33.708473Z"
    }
   },
   "outputs": [],
   "source": [
    "def check_edges(E, e):\n",
    "    for edge in E:\n",
    "        if edge == e:\n",
    "            return False\n",
    "    return True"
   ]
  },
  {
   "cell_type": "code",
   "execution_count": 284,
   "id": "central-centre",
   "metadata": {
    "ExecuteTime": {
     "end_time": "2021-07-28T03:43:33.976312Z",
     "start_time": "2021-07-28T03:43:33.972806Z"
    }
   },
   "outputs": [],
   "source": [
    "def free_edge(f):\n",
    "    return [f.e3, f.e1, f.e2]"
   ]
  },
  {
   "cell_type": "code",
   "execution_count": 285,
   "id": "demanding-render",
   "metadata": {
    "ExecuteTime": {
     "end_time": "2021-07-28T03:43:34.237371Z",
     "start_time": "2021-07-28T03:43:34.221995Z"
    }
   },
   "outputs": [],
   "source": [
    "def find_first_face(P):\n",
    "    p1 = find_min(P)\n",
    "    p2 = Point(p1.x+1, p1.y, p1.z)    # p_linha\n",
    "    p3 = Point(p1.x, p1.y, p1.z-1)    # p2_linha\n",
    "    \n",
    "    ftemp = Face(p1,p3,p2)\n",
    "    normal1 = normal(ftemp)\n",
    "    \n",
    "    max_angle = -999999\n",
    "    for point in P:\n",
    "        if point == ftemp.p1: continue\n",
    "        f_ = Face(point, ftemp.p3, ftemp.p1)\n",
    "        normal2 = normal(f_)\n",
    "        ang = angle(normal1, normal2)\n",
    "        if ang > max_angle:\n",
    "            p3 = point\n",
    "            max_angle = ang\n",
    "    \n",
    "    ftemp = Face(p1,p3,p2)\n",
    "    normal1 = normal(ftemp)\n",
    "    max_angle = -999999\n",
    "    for point in P:\n",
    "        if point == ftemp.p1 or point == ftemp.p2: continue\n",
    "        f_ = Face(point, ftemp.p2, ftemp.p1)\n",
    "        normal2 = normal(f_)\n",
    "        ang = angle(normal1, normal2)\n",
    "        if ang > max_angle:\n",
    "            p2 = point\n",
    "            max_angle = ang\n",
    "    return Face(p2,p3,p1)    "
   ]
  },
  {
   "cell_type": "code",
   "execution_count": 286,
   "id": "reverse-organization",
   "metadata": {
    "ExecuteTime": {
     "end_time": "2021-07-28T03:43:34.665988Z",
     "start_time": "2021-07-28T03:43:34.656069Z"
    }
   },
   "outputs": [],
   "source": [
    "from time import sleep"
   ]
  },
  {
   "cell_type": "code",
   "execution_count": 288,
   "id": "operating-aquatic",
   "metadata": {
    "ExecuteTime": {
     "end_time": "2021-07-28T03:43:54.770440Z",
     "start_time": "2021-07-28T03:43:54.759528Z"
    }
   },
   "outputs": [],
   "source": [
    "def gift_wrapping(P):\n",
    "    f = find_first_face(P)\n",
    "    hull = [f]\n",
    "    faces_iter = [f]\n",
    "    free_edges = []\n",
    "    face_atual = None\n",
    "    candidate = None\n",
    "    while len(faces_iter) > 0:\n",
    "        face_atual = faces_iter.pop(0)\n",
    "        free_edges = free_edge(face_atual)\n",
    "        \n",
    "        normal1 = normal(face_atual)\n",
    "        for e in free_edges:\n",
    "            max_angle = -99999\n",
    "            candidate = None\n",
    "            if check_edge_face(hull, e):\n",
    "                for p in P:\n",
    "                    if p == e.p1 or p == e.p2:\n",
    "                        continue\n",
    "                    f_ = Face(e.p1, p, e.p2)\n",
    "                    normal2 = normal(f_)\n",
    "                    ang = angle(normal1,normal2)\n",
    "                    if ang > max_angle:\n",
    "                        if check_face(hull, f_):\n",
    "                            max_angle = ang\n",
    "                            candidate = p\n",
    "                face_no_hull = Face(e.p1, candidate, e.p2)\n",
    "                hull.append(face_no_hull)\n",
    "                faces_iter.append(face_no_hull)\n",
    "    return hull"
   ]
  },
  {
   "cell_type": "code",
   "execution_count": 289,
   "id": "known-linux",
   "metadata": {
    "ExecuteTime": {
     "end_time": "2021-07-28T03:44:00.726073Z",
     "start_time": "2021-07-28T03:44:00.718633Z"
    }
   },
   "outputs": [],
   "source": [
    "def read_vertices_from_obj(objPath):\n",
    "    points = []\n",
    "    with open(objPath, 'r') as f:\n",
    "        for line in f:\n",
    "            line = line.replace('v', '')\n",
    "            line_ = line.split()\n",
    "            try:\n",
    "                points.append(Point(float(line_[0]), float(line_[1]), float(line_[2])))\n",
    "            except:\n",
    "                return points\n",
    "    return points"
   ]
  },
  {
   "cell_type": "code",
   "execution_count": 290,
   "id": "declared-universal",
   "metadata": {
    "ExecuteTime": {
     "end_time": "2021-07-28T03:44:02.758563Z",
     "start_time": "2021-07-28T03:44:02.751123Z"
    }
   },
   "outputs": [],
   "source": [
    "def print_faces(F, P):\n",
    "    i1 = 0\n",
    "    i2 = 0\n",
    "    i3 = 0\n",
    "    for i in range(len(F)):\n",
    "        for j in range(len(P)):\n",
    "            if F[i].p1.x == P[j].x and F[i].p1.y == P[j].y and F[i].p1.z == P[j].z:\n",
    "                i1 = j\n",
    "            if F[i].p2.x == P[j].x and F[i].p2.y == P[j].y and F[i].p2.z == P[j].z:\n",
    "                i2 = j\n",
    "            if F[i].p3.x == P[j].x and F[i].p3.y == P[j].y and F[i].p3.z == P[j].z:\n",
    "                i3 = j\n",
    "                    \n",
    "        print(\"f {} {} {}\".format(i1+1, i2+1, i3+1))"
   ]
  },
  {
   "cell_type": "code",
   "execution_count": 312,
   "id": "different-sally",
   "metadata": {
    "ExecuteTime": {
     "end_time": "2021-07-28T03:49:14.567280Z",
     "start_time": "2021-07-28T03:49:14.549424Z"
    }
   },
   "outputs": [],
   "source": [
    "def write_faces(F, P, filename=False):\n",
    "    i1 = 0\n",
    "    i2 = 0\n",
    "    i3 = 0\n",
    "    if not filename:\n",
    "        filename = os.path.join(os.getcwd(), 'obj', 'faces.obj')\n",
    "    with open(filename, 'w') as f:\n",
    "        for point in P:\n",
    "            f.write(\"v {} {} {}\".format(point.x, point.y, point.z))\n",
    "            f.write('\\n')\n",
    "        f.write('\\n')\n",
    "        for i in range(len(F)):\n",
    "            for j in range(len(P)):\n",
    "                if F[i].p1.x == P[j].x and F[i].p1.y == P[j].y and F[i].p1.z == P[j].z:\n",
    "                    i1 = j\n",
    "                if F[i].p2.x == P[j].x and F[i].p2.y == P[j].y and F[i].p2.z == P[j].z:\n",
    "                    i2 = j\n",
    "                if F[i].p3.x == P[j].x and F[i].p3.y == P[j].y and F[i].p3.z == P[j].z:\n",
    "                    i3 = j\n",
    "            f.writelines(\"f {} {} {}\".format(i1+1, i2+1, i3+1))\n",
    "            f.write('\\n')\n"
   ]
  },
  {
   "cell_type": "code",
   "execution_count": 304,
   "id": "proprietary-consultancy",
   "metadata": {
    "ExecuteTime": {
     "end_time": "2021-07-28T03:47:08.743039Z",
     "start_time": "2021-07-28T03:47:08.739071Z"
    }
   },
   "outputs": [],
   "source": [
    "pth = \"/Users/romul/Documents/UFC/MESTRADO/Disciplinas/Geometria Computacional/obj/\""
   ]
  },
  {
   "cell_type": "code",
   "execution_count": 305,
   "id": "exclusive-thong",
   "metadata": {
    "ExecuteTime": {
     "end_time": "2021-07-28T03:47:09.267069Z",
     "start_time": "2021-07-28T03:47:09.257148Z"
    },
    "scrolled": true
   },
   "outputs": [
    {
     "name": "stdout",
     "output_type": "stream",
     "text": [
      "28\n"
     ]
    }
   ],
   "source": [
    "cilindro = read_vertices_from_obj(pth+\"Debug.obj\")\n",
    "# for c in cilindro: print(c)\n",
    "ch = gift_wrapping(cilindro)\n",
    "print(len(ch))\n",
    "write_faces(ch, cilindro, os.getcwd()+\"\\\\obj\\\\hullCilindro.obj\")\n",
    "# print_faces(ch, cilindro)"
   ]
  },
  {
   "cell_type": "code",
   "execution_count": 250,
   "id": "eligible-adams",
   "metadata": {
    "ExecuteTime": {
     "end_time": "2021-07-28T02:57:44.786785Z",
     "start_time": "2021-07-28T02:57:44.770416Z"
    }
   },
   "outputs": [
    {
     "name": "stdout",
     "output_type": "stream",
     "text": [
      "1000\n"
     ]
    }
   ],
   "source": [
    "points = []\n",
    "for i in range(1000):\n",
    "    a = np.random.random(1)\n",
    "    b = np.random.random(1)\n",
    "    c = np.random.random(1)\n",
    "    \n",
    "    points.append(Point(a[0],b[0],c[0]))\n",
    "\n",
    "print(len(points))\n"
   ]
  },
  {
   "cell_type": "code",
   "execution_count": 306,
   "id": "superb-reflection",
   "metadata": {
    "ExecuteTime": {
     "end_time": "2021-07-28T03:47:12.787885Z",
     "start_time": "2021-07-28T03:47:11.760882Z"
    }
   },
   "outputs": [
    {
     "name": "stdout",
     "output_type": "stream",
     "text": [
      "122\n"
     ]
    }
   ],
   "source": [
    "H = gift_wrapping(points)\n",
    "print(len(H))\n",
    "write_faces(H, points, os.getcwd()+\"\\\\obj\\\\hull1000pontos.obj\")\n"
   ]
  },
  {
   "cell_type": "code",
   "execution_count": 307,
   "id": "anticipated-british",
   "metadata": {
    "ExecuteTime": {
     "end_time": "2021-07-28T03:47:16.939425Z",
     "start_time": "2021-07-28T03:47:12.789374Z"
    }
   },
   "outputs": [
    {
     "name": "stdout",
     "output_type": "stream",
     "text": [
      "960\n"
     ]
    }
   ],
   "source": [
    "esfera = read_vertices_from_obj(pth+\"esfera.obj\")\n",
    "# for c in cilindro: print(c)\n",
    "ch = gift_wrapping(esfera)\n",
    "print(len(ch))\n",
    "write_faces(ch, esfera, os.getcwd()+\"\\\\obj\\\\hullEsfera.obj\")"
   ]
  },
  {
   "cell_type": "code",
   "execution_count": 308,
   "id": "fourth-affair",
   "metadata": {
    "ExecuteTime": {
     "end_time": "2021-07-28T03:47:16.954801Z",
     "start_time": "2021-07-28T03:47:16.940914Z"
    }
   },
   "outputs": [
    {
     "name": "stdout",
     "output_type": "stream",
     "text": [
      "8\n"
     ]
    }
   ],
   "source": [
    "bento = read_vertices_from_obj(pth+\"bento.obj\")\n",
    "# for c in cilindro: print(c)\n",
    "ch = gift_wrapping(bento)\n",
    "print(len(ch))\n",
    "write_faces(ch, bento, os.getcwd()+\"\\\\obj\\\\hullBento.obj\")"
   ]
  },
  {
   "cell_type": "code",
   "execution_count": 311,
   "id": "changed-research",
   "metadata": {
    "ExecuteTime": {
     "end_time": "2021-07-28T03:48:55.646389Z",
     "start_time": "2021-07-28T03:48:54.461409Z"
    }
   },
   "outputs": [
    {
     "name": "stdout",
     "output_type": "stream",
     "text": [
      "348\n",
      "433\n"
     ]
    }
   ],
   "source": [
    "controle = read_vertices_from_obj(os.getcwd()+\"\\\\obj\\\\controle.obj\")\n",
    "print(len(controle))\n",
    "hullControle = gift_wrapping(controle)\n",
    "print(len(hullControle))\n",
    "write_faces(hullControle, controle, os.getcwd()+\"\\\\obj\\\\hullControle.obj\")"
   ]
  },
  {
   "cell_type": "code",
   "execution_count": 269,
   "id": "forty-transaction",
   "metadata": {
    "ExecuteTime": {
     "end_time": "2021-07-28T03:26:24.237624Z",
     "start_time": "2021-07-28T03:26:24.102857Z"
    }
   },
   "outputs": [
    {
     "name": "stdout",
     "output_type": "stream",
     "text": [
      "60298\n"
     ]
    }
   ],
   "source": [
    "nintendo = read_vertices_from_obj(os.getcwd()+\"\\\\obj\\\\super-nintendo.obj\")\n",
    "print(len(nintendo))"
   ]
  },
  {
   "cell_type": "code",
   "execution_count": 274,
   "id": "latin-conflict",
   "metadata": {
    "ExecuteTime": {
     "end_time": "2021-07-28T03:35:59.975681Z",
     "start_time": "2021-07-28T03:28:15.804969Z"
    },
    "scrolled": true
   },
   "outputs": [
    {
     "name": "stdout",
     "output_type": "stream",
     "text": [
      "ANGULO DIV ZERO\n",
      "ANGULO DIV ZERO\n",
      "ANGULO DIV ZERO\n",
      "ANGULO DIV ZERO\n",
      "ANGULO DIV ZERO\n",
      "ANGULO DIV ZERO\n",
      "ANGULO DIV ZERO\n",
      "ANGULO DIV ZERO\n",
      "ANGULO DIV ZERO\n",
      "ANGULO DIV ZERO\n",
      "ANGULO DIV ZERO\n",
      "ANGULO DIV ZERO\n",
      "ANGULO DIV ZERO\n",
      "ANGULO DIV ZERO\n",
      "ANGULO DIV ZERO\n",
      "ANGULO DIV ZERO\n",
      "ANGULO DIV ZERO\n",
      "ANGULO DIV ZERO\n",
      "ANGULO DIV ZERO\n",
      "ANGULO DIV ZERO\n",
      "ANGULO DIV ZERO\n",
      "ANGULO DIV ZERO\n",
      "ANGULO DIV ZERO\n",
      "ANGULO DIV ZERO\n",
      "ANGULO DIV ZERO\n",
      "ANGULO DIV ZERO\n",
      "ANGULO DIV ZERO\n",
      "ANGULO DIV ZERO\n",
      "ANGULO DIV ZERO\n",
      "ANGULO DIV ZERO\n",
      "ANGULO DIV ZERO\n",
      "ANGULO DIV ZERO\n",
      "ANGULO DIV ZERO\n",
      "ANGULO DIV ZERO\n",
      "ANGULO DIV ZERO\n",
      "ANGULO DIV ZERO\n",
      "ANGULO DIV ZERO\n",
      "ANGULO DIV ZERO\n",
      "ANGULO DIV ZERO\n",
      "ANGULO DIV ZERO\n",
      "ANGULO DIV ZERO\n",
      "ANGULO DIV ZERO\n",
      "ANGULO DIV ZERO\n",
      "ANGULO DIV ZERO\n",
      "ANGULO DIV ZERO\n",
      "ANGULO DIV ZERO\n",
      "ANGULO DIV ZERO\n",
      "ANGULO DIV ZERO\n",
      "ANGULO DIV ZERO\n",
      "ANGULO DIV ZERO\n",
      "ANGULO DIV ZERO\n",
      "ANGULO DIV ZERO\n",
      "ANGULO DIV ZERO\n",
      "ANGULO DIV ZERO\n",
      "ANGULO DIV ZERO\n",
      "ANGULO DIV ZERO\n",
      "ANGULO DIV ZERO\n",
      "ANGULO DIV ZERO\n",
      "ANGULO DIV ZERO\n",
      "ANGULO DIV ZERO\n",
      "ANGULO DIV ZERO\n",
      "ANGULO DIV ZERO\n",
      "ANGULO DIV ZERO\n",
      "ANGULO DIV ZERO\n",
      "ANGULO DIV ZERO\n",
      "ANGULO DIV ZERO\n",
      "ANGULO DIV ZERO\n",
      "ANGULO DIV ZERO\n",
      "ANGULO DIV ZERO\n",
      "ANGULO DIV ZERO\n",
      "ANGULO DIV ZERO\n",
      "ANGULO DIV ZERO\n",
      "ANGULO DIV ZERO\n",
      "ANGULO DIV ZERO\n",
      "ANGULO DIV ZERO\n",
      "ANGULO DIV ZERO\n",
      "ANGULO DIV ZERO\n",
      "ANGULO DIV ZERO\n",
      "ANGULO DIV ZERO\n",
      "ANGULO DIV ZERO\n",
      "ANGULO DIV ZERO\n",
      "ANGULO DIV ZERO\n",
      "ANGULO DIV ZERO\n",
      "ANGULO DIV ZERO\n",
      "ANGULO DIV ZERO\n",
      "ANGULO DIV ZERO\n",
      "ANGULO DIV ZERO\n",
      "ANGULO DIV ZERO\n",
      "ANGULO DIV ZERO\n",
      "ANGULO DIV ZERO\n",
      "ANGULO DIV ZERO\n",
      "ANGULO DIV ZERO\n",
      "ANGULO DIV ZERO\n",
      "ANGULO DIV ZERO\n",
      "ANGULO DIV ZERO\n",
      "ANGULO DIV ZERO\n",
      "ANGULO DIV ZERO\n",
      "ANGULO DIV ZERO\n",
      "ANGULO DIV ZERO\n",
      "ANGULO DIV ZERO\n",
      "ANGULO DIV ZERO\n",
      "ANGULO DIV ZERO\n",
      "ANGULO DIV ZERO\n",
      "ANGULO DIV ZERO\n",
      "ANGULO DIV ZERO\n",
      "ANGULO DIV ZERO\n",
      "ANGULO DIV ZERO\n",
      "442.9122655391693\n",
      "1617\n"
     ]
    }
   ],
   "source": [
    "t1 = time.time()\n",
    "hullNintendo = gift_wrapping(nintendo)\n",
    "print(time.time()-t1)\n",
    "print(len(hullNintendo))\n",
    "write_faces(hullNintendo, nintendo, os.getcwd()+\"\\\\obj\\\\hullNintendo.obj\")"
   ]
  }
 ],
 "metadata": {
  "kernelspec": {
   "display_name": "Python 3",
   "language": "python",
   "name": "python3"
  },
  "language_info": {
   "codemirror_mode": {
    "name": "ipython",
    "version": 3
   },
   "file_extension": ".py",
   "mimetype": "text/x-python",
   "name": "python",
   "nbconvert_exporter": "python",
   "pygments_lexer": "ipython3",
   "version": "3.8.7"
  }
 },
 "nbformat": 4,
 "nbformat_minor": 5
}
