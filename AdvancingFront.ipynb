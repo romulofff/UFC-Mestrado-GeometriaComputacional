{
 "cells": [
  {
   "cell_type": "code",
   "execution_count": 244,
   "id": "committed-digit",
   "metadata": {
    "ExecuteTime": {
     "end_time": "2021-08-21T19:48:10.687688Z",
     "start_time": "2021-08-21T19:48:10.305115Z"
    }
   },
   "outputs": [],
   "source": [
    "import os\n",
    "import math\n",
    "import time\n",
    "from queue import Queue\n",
    "from collections import deque\n",
    "\n",
    "import numpy as np\n",
    "import matplotlib.pyplot as plt"
   ]
  },
  {
   "cell_type": "code",
   "execution_count": 213,
   "id": "timely-guide",
   "metadata": {
    "ExecuteTime": {
     "end_time": "2021-08-21T19:32:43.715745Z",
     "start_time": "2021-08-21T19:32:43.694389Z"
    }
   },
   "outputs": [],
   "source": [
    "class Point:\n",
    "    def __init__(self, x, y, z):\n",
    "        self.x = x\n",
    "        self.y = y\n",
    "        self.z = z\n",
    "        self.adj_edges = []\n",
    "\n",
    "    def __call__(self) -> tuple:\n",
    "        return (self.x, self.y, self.z)\n",
    "\n",
    "    def __str__(self) -> str:\n",
    "        return str((self.x, self.y, self.z))\n",
    "\n",
    "    def __eq__(self, other):\n",
    "        return self.__dict__ == other.__dict__\n",
    "\n",
    "    def add_adj_edge(self, edge):\n",
    "        self.adj_edges.append(edge)\n",
    "\n",
    "    def point_is_close(self, p: Point):\n",
    "        if math.isclose(self.x,p.x) and math.isclose(self.y,p.y) and math.isclose(self.z, p.z):\n",
    "            return True\n",
    "        return False\n",
    "            \n",
    "        \n",
    "class Edge:\n",
    "    def __init__(self, p1, p2, visits=0):\n",
    "        if p1.point_is_close(p2):\n",
    "            raise Exception(\"Edge must have two different points. Points given: {} and {}.\".format(p1, p2))\n",
    "        self.p1 = p1\n",
    "        self.p2 = p2\n",
    "        self.visits = visits\n",
    "        p1.add_adj_edge(self)\n",
    "        p2.add_adj_edge(self)\n",
    "\n",
    "    def __str__(self):\n",
    "        return \"{} {}\".format(str(self.p1), str(self.p2))\n",
    "\n",
    "    def __eq__(self, other):\n",
    "        if self.p1 == other.p1 or self.p1 == other.p2:\n",
    "            if self.p2 == other.p1 or self.p2 == other.p2:\n",
    "                return True\n",
    "        return False\n",
    "\n",
    "\n",
    "class Face:\n",
    "    def __init__(self, p1, p2, p3):\n",
    "        self.p1 = p1\n",
    "        self.p2 = p2\n",
    "        self.p3 = p3\n",
    "\n",
    "        self.e1 = Edge(p1, p2)\n",
    "        self.e2 = Edge(p2, p3)\n",
    "        self.e3 = Edge(p3, p1)\n",
    "\n",
    "    def __str__(self):\n",
    "        return \"{} {} {}\".format(str(self.p1), str(self.p2), str(self.p3))\n",
    "\n",
    "    def __eq__(self, other):\n",
    "        pass"
   ]
  },
  {
   "cell_type": "code",
   "execution_count": 246,
   "id": "encouraging-potter",
   "metadata": {
    "ExecuteTime": {
     "end_time": "2021-08-21T19:48:44.258318Z",
     "start_time": "2021-08-21T19:48:44.240463Z"
    }
   },
   "outputs": [],
   "source": [
    "def plotPolygon(points, annotate=False):\n",
    "        \"\"\"Plot polygon from list of points\n",
    "\n",
    "        Args:\n",
    "            points (Point): list of Point objects indicating the polygon vertices\n",
    "        \"\"\"\n",
    "\n",
    "        points.append(points[0])\n",
    "        if type(points[0]) == Point:\n",
    "            points = [p() for p in points]\n",
    "        x, y, z = zip(*points)\n",
    "        plt.grid(0.5)\n",
    "        plt.plot(x, y, '-o')\n",
    "        if annotate:\n",
    "            plt.text(x[0], y[0], \"p1\")\n",
    "            plt.text(x[1], y[1], \"p2\")\n",
    "            plt.text(x[2], y[2], \"p3\")\n",
    "        plt.show()"
   ]
  },
  {
   "cell_type": "code",
   "execution_count": 214,
   "id": "minimal-lesson",
   "metadata": {
    "ExecuteTime": {
     "end_time": "2021-08-21T19:32:43.945809Z",
     "start_time": "2021-08-21T19:32:43.925970Z"
    }
   },
   "outputs": [],
   "source": [
    "def cross(a, b):\n",
    "    return Point(a.y*b.z-a.z*b.y, a.z*b.x-a.x*b.z, a.x*b.y-a.y*b.x)\n",
    "\n",
    "def dot(a, b):\n",
    "    return (a.x*b.x)+(a.y*b.y)+(a.z*b.z)\n",
    "\n",
    "def norma(a):\n",
    "    return math.sqrt(a.x*a.x + a.y*a.y + a.z*a.z)\n",
    "\n",
    "def angle(a, b):\n",
    "    normaa = norma(a)\n",
    "    normab = norma(b)\n",
    "    if norma(a)==0 or norma(b) == 0:\n",
    "        return -999999999\n",
    "    return dot(a, b) / (norma(a)*norma(b))\n",
    "\n",
    "def sub(a, b):\n",
    "    return Point(a.x-b.x, a.y-b.y, a.z-b.z)\n",
    "\n",
    "def normal(face):\n",
    "    v1 = sub(face.p2, face.p1)    \n",
    "    v2 = sub(face.p3, face.p1)\n",
    "    return cross(v1,v2)\n",
    "\n",
    "def ccw(A,B,C):\n",
    "    return (C.y-A.y) * (B.x-A.x) > (B.y-A.y) * (C.x-A.x)\n",
    "\n",
    "# Return true if line segments AB and CD intersect\n",
    "def intersect(A,B,C,D):\n",
    "    return ccw(A,C,D) != ccw(B,C,D) and ccw(A,B,C) != ccw(A,B,D)\n"
   ]
  },
  {
   "cell_type": "code",
   "execution_count": 215,
   "id": "german-litigation",
   "metadata": {
    "ExecuteTime": {
     "end_time": "2021-08-21T19:32:44.130113Z",
     "start_time": "2021-08-21T19:32:44.105810Z"
    }
   },
   "outputs": [],
   "source": [
    "def read_vertices_from_obj(objPath):\n",
    "    points = []\n",
    "    with open(objPath, 'r') as f:\n",
    "        for line in f:\n",
    "            try:\n",
    "                line = line.replace('v', '')\n",
    "            except:\n",
    "                #                 print(\"Problema na linha\")\n",
    "                continue\n",
    "            line_ = line.split()\n",
    "            try:\n",
    "                points.append(\n",
    "                    Point(float(line_[0]), float(line_[1]), float(line_[2])))\n",
    "            except:\n",
    "                #                 print(\"Problema no ponto\")\n",
    "                continue\n",
    "    return points\n",
    "\n",
    "\n",
    "def write_faces(F, P, filename=False):\n",
    "    i1 = 0\n",
    "    i2 = 0\n",
    "    i3 = 0\n",
    "    if not filename:\n",
    "        filename = os.path.join(os.getcwd(), 'obj', 'faces.obj')\n",
    "    with open(filename, 'w') as f:\n",
    "        for point in P:\n",
    "            f.write(\"v {} {} {}\".format(point.x, point.y, point.z))\n",
    "            f.write('\\n')\n",
    "        f.write('\\n')\n",
    "        for i in range(len(F)):\n",
    "            for j in range(len(P)):\n",
    "                if F[i].p1.x == P[j].x and F[i].p1.y == P[j].y and F[i].p1.z == P[j].z:\n",
    "                    i1 = j\n",
    "                if F[i].p2.x == P[j].x and F[i].p2.y == P[j].y and F[i].p2.z == P[j].z:\n",
    "                    i2 = j\n",
    "                if F[i].p3.x == P[j].x and F[i].p3.y == P[j].y and F[i].p3.z == P[j].z:\n",
    "                    i3 = j\n",
    "            f.writelines(\"f {} {} {}\".format(i1+1, i2+1, i3+1))\n",
    "            f.write('\\n')\n",
    "\n",
    "\n",
    "def print_faces(F, P):\n",
    "    i1 = 0\n",
    "    i2 = 0\n",
    "    i3 = 0\n",
    "    for i in range(len(F)):\n",
    "        for j in range(len(P)):\n",
    "            if F[i].p1.x == P[j].x and F[i].p1.y == P[j].y and F[i].p1.z == P[j].z:\n",
    "                i1 = j\n",
    "            if F[i].p2.x == P[j].x and F[i].p2.y == P[j].y and F[i].p2.z == P[j].z:\n",
    "                i2 = j\n",
    "            if F[i].p3.x == P[j].x and F[i].p3.y == P[j].y and F[i].p3.z == P[j].z:\n",
    "                i3 = j\n",
    "\n",
    "        print(\"f {} {} {}\".format(i1+1, i2+1, i3+1))\n",
    "\n",
    "\n",
    "def write_points_on_hull(H, P, filename=False):\n",
    "    points_to_write = []\n",
    "    for face in H:\n",
    "        if face.p1 not in points_to_write:\n",
    "            points_to_write.append(face.p1)\n",
    "        if face.p2 not in points_to_write:\n",
    "            points_to_write.append(face.p2)\n",
    "        if face.p3 not in points_to_write:\n",
    "            points_to_write.append(face.p3)\n",
    "    if not filename:\n",
    "        filename = os.path.join(os.getcwd(), 'obj', 'hull.obj')\n",
    "    with open(filename, 'w') as f:\n",
    "        for p in points_to_write:\n",
    "            f.write(\"v {} {} {}\".format(p.x, p.y, p.z))\n",
    "            f.write('\\n')"
   ]
  },
  {
   "cell_type": "code",
   "execution_count": 253,
   "id": "hidden-huntington",
   "metadata": {
    "ExecuteTime": {
     "end_time": "2021-08-21T20:23:31.748695Z",
     "start_time": "2021-08-21T20:23:31.738280Z"
    },
    "scrolled": true
   },
   "outputs": [],
   "source": [
    "def advancing_front(front):\n",
    "    if len(front) < 1: print(\"There are no Edges to analyze.\")\n",
    "    processed_points = []\n",
    "    triangles = []\n",
    "    while len(front) > 0:\n",
    "        point = None\n",
    "        max_angle = -float(\"inf\")\n",
    "        e = front.popleft()\n",
    "        processed_points.extend([e.p1, e.p2])\n",
    "        print(\"First edge:\", e)\n",
    "        print(\"P1:\", e.p1)\n",
    "        print(\"P2:\", e.p2)\n",
    "        print()\n",
    "        for v in vertices:\n",
    "            if v in processed_points: \n",
    "                continue\n",
    "            if v.point_is_close(e.p1) or v.point_is_close(e.p2):\n",
    "                print(v,\"is part of edge.\")\n",
    "            else:\n",
    "                print(\"Analyzing vertex:\", v)\n",
    "                ang = angle(sub(e.p1, v), sub(e.p2, v))\n",
    "                print(\"The angle is:\", ang)\n",
    "                if ang > max_angle:\n",
    "                    max_angle = ang\n",
    "                    point = v\n",
    "\n",
    "\n",
    "        if point is None:\n",
    "            print(\"Object can't be triangulated.\")\n",
    "            break\n",
    "        print(\"Choosen point:\", point)\n",
    "        print(point.point_is_close(e.p1))\n",
    "        print(point.point_is_close(e.p2))\n",
    "        \n",
    "        processed_points.append(point)\n",
    "        # Verificar se existe aresta e.p2->v e v->e.p1\n",
    "        # Se existir, é a aresta procurada.\n",
    "        # Se não, verificar se existe no sentido oposto, ou seja\n",
    "        # v->e.p2 e e.p1->v\n",
    "        # Se existir (?) inverter? Não sei ainda.\n",
    "        # REF: https://github.com/carolhmj/advancing-front/blob/master/AdvancingFront/model.cpp\n",
    "        # Se não existir, criar aresta.\n",
    "\n",
    "        new_edge_1 = search_existing_edge(e.p2, point, front)\n",
    "        new_edge_2 = search_existing_edge(point, e.p1, front)\n",
    "\n",
    "#         if check_new_edge(new_edge_1, front) or check_new_edge(new_edge_2, front):\n",
    "#             continue\n",
    "\n",
    "        new_face = Face(e.p1, new_edge_1.p1, new_edge_2.p1)\n",
    "        triangles.append(new_face)\n",
    "\n",
    "    for t in triangles:\n",
    "        print(\"Triangle:\",t)\n",
    "    write_faces(triangles, vertices, 'obj/test_triangles.obj')\n",
    "    return triangles"
   ]
  },
  {
   "cell_type": "code",
   "execution_count": 254,
   "id": "corresponding-suspect",
   "metadata": {
    "ExecuteTime": {
     "end_time": "2021-08-21T20:23:31.964048Z",
     "start_time": "2021-08-21T20:23:31.953632Z"
    }
   },
   "outputs": [],
   "source": [
    "def search_existing_edge(start: Point, end: Point, frontier):\n",
    "    adj = start.adj_edges\n",
    "#     print(\"ADJ EDGES FROM\", start)\n",
    "#     for i in adj:\n",
    "#         print(i)\n",
    "#     print()\n",
    "    found = False\n",
    "    for edge in adj:\n",
    "#         print(\"EDGE:\",edge)\n",
    "        if edge.p1 == start and edge.p2 == end:\n",
    "            print(\"Found edge:\", edge)\n",
    "            found = True\n",
    "            edge.visits += 1\n",
    "            return edge\n",
    "        \n",
    "        elif edge.p2 == start and edge.p1 == end:\n",
    "            print(\"Found edge on oposite direction:\", edge)\n",
    "            found = True\n",
    "            return Edge(edge.p2, edge.p1, 1)\n",
    "        \n",
    "    if not found:\n",
    "        new_edge = Edge(start, end)\n",
    "        new_edge.visits+=1\n",
    "        print(\"Creating new edge:\", new_edge)\n",
    "        return new_edge"
   ]
  },
  {
   "cell_type": "code",
   "execution_count": 255,
   "id": "mobile-asbestos",
   "metadata": {
    "ExecuteTime": {
     "end_time": "2021-08-21T20:23:32.424355Z",
     "start_time": "2021-08-21T20:23:32.415930Z"
    }
   },
   "outputs": [],
   "source": [
    "def check_new_edge(new_edge, edges):\n",
    "    for e in edges:\n",
    "        if intersect(e.p1, e.p2, new_edge.p1, new_edge.p2):\n",
    "            print(e, \"intersected with\", new_edge)\n",
    "            return True"
   ]
  },
  {
   "cell_type": "code",
   "execution_count": 257,
   "id": "oriental-study",
   "metadata": {
    "ExecuteTime": {
     "end_time": "2021-08-21T20:23:41.033618Z",
     "start_time": "2021-08-21T20:23:41.013281Z"
    },
    "scrolled": true
   },
   "outputs": [
    {
     "name": "stdout",
     "output_type": "stream",
     "text": [
      "(0.0, 0.0, 0.0)\n",
      "(0.0, 1.0, 0.0)\n",
      "(1.0, 0.0, 0.0)\n",
      "(1.0, 1.0, 0.0)\n",
      "\n",
      "First edge: (0.0, 0.0, 0.0) (0.0, 1.0, 0.0)\n",
      "P1: (0.0, 0.0, 0.0)\n",
      "P2: (0.0, 1.0, 0.0)\n",
      "\n",
      "Analyzing vertex: (1.0, 0.0, 0.0)\n",
      "The angle is: 0.7071067811865475\n",
      "Analyzing vertex: (1.0, 1.0, 0.0)\n",
      "The angle is: 0.7071067811865475\n",
      "Choosen point: (1.0, 0.0, 0.0)\n",
      "False\n",
      "False\n",
      "Creating new edge: (0.0, 1.0, 0.0) (1.0, 0.0, 0.0)\n",
      "Found edge: (1.0, 0.0, 0.0) (0.0, 0.0, 0.0)\n",
      "First edge: (0.0, 1.0, 0.0) (1.0, 1.0, 0.0)\n",
      "P1: (0.0, 1.0, 0.0)\n",
      "P2: (1.0, 1.0, 0.0)\n",
      "\n",
      "Object can't be triangulated.\n",
      "Triangle: (0.0, 0.0, 0.0) (0.0, 1.0, 0.0) (1.0, 0.0, 0.0)\n",
      "TRI: [<__main__.Face object at 0x000002860BA179A0>]\n"
     ]
    }
   ],
   "source": [
    "vertices = read_vertices_from_obj('obj/test.obj')\n",
    "for v in vertices:\n",
    "    print(v)\n",
    "print()\n",
    "e1 = Edge(vertices[0], vertices[1])\n",
    "e2 = Edge(vertices[1], vertices[3])\n",
    "e3 = Edge(vertices[3], vertices[2])\n",
    "e4 = Edge(vertices[2], vertices[0])\n",
    "edges = [e1, e2, e3, e4]\n",
    "# e1 = Edge(vertices[0], vertices[2])\n",
    "# e2 = Edge(vertices[2], vertices[4])\n",
    "# e3 = Edge(vertices[4], vertices[8])\n",
    "# e4 = Edge(vertices[8], vertices[9])\n",
    "# e5 = Edge(vertices[9], vertices[0])\n",
    "# edges = [e1, e2, e3, e4, e5]\n",
    "front = None\n",
    "front = deque()\n",
    "for e in edges:\n",
    "    front.append(e)\n",
    "tri = advancing_front(front)\n",
    "print(\"TRI:\",tri)"
   ]
  },
  {
   "cell_type": "code",
   "execution_count": 249,
   "id": "awful-tuner",
   "metadata": {
    "ExecuteTime": {
     "end_time": "2021-08-21T19:50:10.915102Z",
     "start_time": "2021-08-21T19:50:10.821737Z"
    }
   },
   "outputs": [
    {
     "data": {
      "image/png": "[encoded data removed]",
      "text/plain": [
       "<Figure size 432x288 with 1 Axes>"
      ]
     },
     "metadata": {
      "needs_background": "light"
     },
     "output_type": "display_data"
    }
   ],
   "source": [
    "plotPolygon(vertices)"
   ]
  }
 ],
 "metadata": {
  "interpreter": {
   "hash": "268667e8c71b25b3049943bd413d98983c026056eac1b8985b3fb7c108555c46"
  },
  "kernelspec": {
   "display_name": "Python 3",
   "language": "python",
   "name": "python3"
  },
  "language_info": {
   "codemirror_mode": {
    "name": "ipython",
    "version": 3
   },
   "file_extension": ".py",
   "mimetype": "text/x-python",
   "name": "python",
   "nbconvert_exporter": "python",
   "pygments_lexer": "ipython3",
   "version": "3.8.7"
  }
 },
 "nbformat": 4,
 "nbformat_minor": 5
}
