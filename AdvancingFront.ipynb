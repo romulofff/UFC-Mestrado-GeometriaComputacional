{
 "cells": [
  {
   "cell_type": "code",
   "execution_count": 4,
   "id": "defensive-bargain",
   "metadata": {
    "ExecuteTime": {
     "end_time": "2021-08-20T02:24:50.579162Z",
     "start_time": "2021-08-20T02:24:50.469202Z"
    }
   },
   "outputs": [],
   "source": [
    "import os\n",
    "import math\n",
    "import time\n",
    "from queue import Queue\n",
    "from collections import deque\n",
    "\n",
    "import numpy as np"
   ]
  },
  {
   "cell_type": "code",
   "execution_count": 5,
   "id": "peaceful-budapest",
   "metadata": {
    "ExecuteTime": {
     "end_time": "2021-08-20T02:24:51.208009Z",
     "start_time": "2021-08-20T02:24:51.198556Z"
    }
   },
   "outputs": [],
   "source": [
    "class Point:\n",
    "    def __init__(self, x, y, z):\n",
    "        self.x = x\n",
    "        self.y = y\n",
    "        self.z = z\n",
    "\n",
    "    def __call__(self) -> tuple:\n",
    "        return (self.x, self.y, self.z)\n",
    "\n",
    "    def __str__(self) -> str:\n",
    "        return str((self.x, self.y, self.z))\n",
    "\n",
    "    def __eq__(self, other):\n",
    "        return self.__dict__ == other.__dict__\n",
    "\n",
    "\n",
    "class Edge:\n",
    "    def __init__(self, p1, p2):\n",
    "        self.p1 = p1\n",
    "        self.p2 = p2\n",
    "\n",
    "    def __str__(self):\n",
    "        return \"{} {}\".format(str(self.p1), str(self.p2))\n",
    "\n",
    "    def __eq__(self, other):\n",
    "        if self.p1 == other.p1 or self.p1 == other.p2:\n",
    "            if self.p2 == other.p1 or self.p2 == other.p2:\n",
    "                return True\n",
    "        return False\n",
    "\n",
    "\n",
    "class Face:\n",
    "    def __init__(self, p1, p2, p3):\n",
    "        self.p1 = p1\n",
    "        self.p2 = p2\n",
    "        self.p3 = p3\n",
    "\n",
    "        self.e1 = Edge(p1, p2)\n",
    "        self.e2 = Edge(p2, p3)\n",
    "        self.e3 = Edge(p3, p1)\n",
    "\n",
    "    def __str__(self):\n",
    "        return \"{} {} {}\".format(str(self.p1), str(self.p2), str(self.p3))\n",
    "\n",
    "    def __eq__(self, other):\n",
    "        pass"
   ]
  },
  {
   "cell_type": "code",
   "execution_count": 20,
   "id": "acoustic-happiness",
   "metadata": {
    "ExecuteTime": {
     "end_time": "2021-08-20T02:41:49.874746Z",
     "start_time": "2021-08-20T02:41:49.867274Z"
    }
   },
   "outputs": [],
   "source": [
    "def cross(a, b):\n",
    "    return Point(a.y*b.z-a.z*b.y, a.z*b.x-a.x*b.z, a.x*b.y-a.y*b.x)\n",
    "\n",
    "def dot(a, b):\n",
    "    return (a.x*b.x)+(a.y*b.y)+(a.z*b.z)\n",
    "\n",
    "def norma(a):\n",
    "    return math.sqrt(a.x*a.x + a.y*a.y + a.z*a.z)\n",
    "\n",
    "def angle(a, b):\n",
    "    normaa = norma(a)\n",
    "    normab = norma(b)\n",
    "    if norma(a)==0 or norma(b) == 0:\n",
    "        return -999999999\n",
    "    return dot(a, b) / (norma(a)*norma(b))\n",
    "\n",
    "def sub(a, b):\n",
    "    return Point(a.x-b.x, a.y-b.y, a.z-b.z)\n",
    "\n",
    "def normal(face):\n",
    "    v1 = sub(face.p2, face.p1)    \n",
    "    v2 = sub(face.p3, face.p1)\n",
    "    return cross(v1,v2)"
   ]
  },
  {
   "cell_type": "code",
   "execution_count": 6,
   "id": "under-reconstruction",
   "metadata": {
    "ExecuteTime": {
     "end_time": "2021-08-20T02:24:51.667485Z",
     "start_time": "2021-08-20T02:24:51.651141Z"
    }
   },
   "outputs": [],
   "source": [
    "def read_vertices_from_obj(objPath):\n",
    "    points = []\n",
    "    with open(objPath, 'r') as f:\n",
    "        for line in f:\n",
    "            try:\n",
    "                line = line.replace('v', '')\n",
    "            except:\n",
    "                #                 print(\"Problema na linha\")\n",
    "                continue\n",
    "            line_ = line.split()\n",
    "            try:\n",
    "                points.append(\n",
    "                    Point(float(line_[0]), float(line_[1]), float(line_[2])))\n",
    "            except:\n",
    "                #                 print(\"Problema no ponto\")\n",
    "                continue\n",
    "    return points\n",
    "\n",
    "\n",
    "def write_faces(F, P, filename=False):\n",
    "    i1 = 0\n",
    "    i2 = 0\n",
    "    i3 = 0\n",
    "    if not filename:\n",
    "        filename = os.path.join(os.getcwd(), 'obj', 'faces.obj')\n",
    "    with open(filename, 'w') as f:\n",
    "        for point in P:\n",
    "            f.write(\"v {} {} {}\".format(point.x, point.y, point.z))\n",
    "            f.write('\\n')\n",
    "        f.write('\\n')\n",
    "        for i in range(len(F)):\n",
    "            for j in range(len(P)):\n",
    "                if F[i].p1.x == P[j].x and F[i].p1.y == P[j].y and F[i].p1.z == P[j].z:\n",
    "                    i1 = j\n",
    "                if F[i].p2.x == P[j].x and F[i].p2.y == P[j].y and F[i].p2.z == P[j].z:\n",
    "                    i2 = j\n",
    "                if F[i].p3.x == P[j].x and F[i].p3.y == P[j].y and F[i].p3.z == P[j].z:\n",
    "                    i3 = j\n",
    "            f.writelines(\"f {} {} {}\".format(i1+1, i2+1, i3+1))\n",
    "            f.write('\\n')\n",
    "\n",
    "\n",
    "def print_faces(F, P):\n",
    "    i1 = 0\n",
    "    i2 = 0\n",
    "    i3 = 0\n",
    "    for i in range(len(F)):\n",
    "        for j in range(len(P)):\n",
    "            if F[i].p1.x == P[j].x and F[i].p1.y == P[j].y and F[i].p1.z == P[j].z:\n",
    "                i1 = j\n",
    "            if F[i].p2.x == P[j].x and F[i].p2.y == P[j].y and F[i].p2.z == P[j].z:\n",
    "                i2 = j\n",
    "            if F[i].p3.x == P[j].x and F[i].p3.y == P[j].y and F[i].p3.z == P[j].z:\n",
    "                i3 = j\n",
    "\n",
    "        print(\"f {} {} {}\".format(i1+1, i2+1, i3+1))\n",
    "\n",
    "\n",
    "def write_points_on_hull(H, P, filename=False):\n",
    "    points_to_write = []\n",
    "    for face in H:\n",
    "        if face.p1 not in points_to_write:\n",
    "            points_to_write.append(face.p1)\n",
    "        if face.p2 not in points_to_write:\n",
    "            points_to_write.append(face.p2)\n",
    "        if face.p3 not in points_to_write:\n",
    "            points_to_write.append(face.p3)\n",
    "    if not filename:\n",
    "        filename = os.path.join(os.getcwd(), 'obj', 'hull.obj')\n",
    "    with open(filename, 'w') as f:\n",
    "        for p in points_to_write:\n",
    "            f.write(\"v {} {} {}\".format(p.x, p.y, p.z))\n",
    "            f.write('\\n')"
   ]
  },
  {
   "cell_type": "code",
   "execution_count": 7,
   "id": "resistant-cologne",
   "metadata": {
    "ExecuteTime": {
     "end_time": "2021-08-20T02:24:52.172770Z",
     "start_time": "2021-08-20T02:24:52.168802Z"
    }
   },
   "outputs": [],
   "source": [
    "vertices = read_vertices_from_obj('obj/hullTest.obj')"
   ]
  },
  {
   "cell_type": "code",
   "execution_count": 8,
   "id": "young-anxiety",
   "metadata": {
    "ExecuteTime": {
     "end_time": "2021-08-20T02:24:52.618702Z",
     "start_time": "2021-08-20T02:24:52.616202Z"
    }
   },
   "outputs": [],
   "source": [
    "e1 = Edge(vertices[0], vertices[1])\n",
    "e2 = Edge(vertices[1], vertices[2])\n",
    "e3 = Edge(vertices[2], vertices[3])\n",
    "e4 = Edge(vertices[3], vertices[0])"
   ]
  },
  {
   "cell_type": "code",
   "execution_count": 38,
   "id": "aerial-surgeon",
   "metadata": {
    "ExecuteTime": {
     "end_time": "2021-08-20T02:59:10.018089Z",
     "start_time": "2021-08-20T02:59:10.007673Z"
    }
   },
   "outputs": [
    {
     "data": {
      "text/plain": [
       "deque([<__main__.Edge at 0x1729609ae20>,\n",
       "       <__main__.Edge at 0x1729609af70>,\n",
       "       <__main__.Edge at 0x1729609ab50>,\n",
       "       <__main__.Edge at 0x1729609ae50>])"
      ]
     },
     "execution_count": 38,
     "metadata": {},
     "output_type": "execute_result"
    }
   ],
   "source": [
    "q = deque()\n",
    "\n",
    "q.append(e1)\n",
    "q.append(e2)\n",
    "q.append(e3)\n",
    "q.append(e4)\n",
    "q"
   ]
  },
  {
   "cell_type": "code",
   "execution_count": 39,
   "id": "compressed-pledge",
   "metadata": {
    "ExecuteTime": {
     "end_time": "2021-08-20T02:59:10.541799Z",
     "start_time": "2021-08-20T02:59:10.525427Z"
    }
   },
   "outputs": [
    {
     "name": "stdout",
     "output_type": "stream",
     "text": [
      "First edge: (0.0, 0.0, 0.0) (0.0, 1.0, 0.0)\n",
      "P1: (0.0, 0.0, 0.0)\n",
      "P2: (0.0, 1.0, 0.0)\n",
      "\n",
      "(0.0, 0.0, 0.0) is part of edge.\n",
      "(0.0, 1.0, 0.0) is part of edge.\n",
      "Analyzing vertex: (1.0, 0.0, 0.0)\n",
      "The angle is: 0.7071067811865475\n",
      "Analyzing vertex: (1.0, 1.0, 0.0)\n",
      "The angle is: 0.7071067811865475\n",
      "Choosen point: (1.0, 0.0, 0.0)\n",
      "First edge: (0.0, 1.0, 0.0) (1.0, 0.0, 0.0)\n",
      "P1: (0.0, 1.0, 0.0)\n",
      "P2: (1.0, 0.0, 0.0)\n",
      "\n",
      "Analyzing vertex: (0.0, 0.0, 0.0)\n",
      "The angle is: 0.0\n",
      "(0.0, 1.0, 0.0) is part of edge.\n",
      "(1.0, 0.0, 0.0) is part of edge.\n",
      "Analyzing vertex: (1.0, 1.0, 0.0)\n",
      "The angle is: 0.0\n",
      "Choosen point: (0.0, 0.0, 0.0)\n",
      "First edge: (1.0, 0.0, 0.0) (1.0, 1.0, 0.0)\n",
      "P1: (1.0, 0.0, 0.0)\n",
      "P2: (1.0, 1.0, 0.0)\n",
      "\n",
      "Analyzing vertex: (0.0, 0.0, 0.0)\n",
      "The angle is: 0.7071067811865475\n",
      "Analyzing vertex: (0.0, 1.0, 0.0)\n",
      "The angle is: 0.7071067811865475\n",
      "(1.0, 0.0, 0.0) is part of edge.\n",
      "(1.0, 1.0, 0.0) is part of edge.\n",
      "Choosen point: (0.0, 0.0, 0.0)\n",
      "First edge: (1.0, 1.0, 0.0) (0.0, 0.0, 0.0)\n",
      "P1: (1.0, 1.0, 0.0)\n",
      "P2: (0.0, 0.0, 0.0)\n",
      "\n",
      "(0.0, 0.0, 0.0) is part of edge.\n",
      "Analyzing vertex: (0.0, 1.0, 0.0)\n",
      "The angle is: 0.0\n",
      "Analyzing vertex: (1.0, 0.0, 0.0)\n",
      "The angle is: 0.0\n",
      "(1.0, 1.0, 0.0) is part of edge.\n",
      "Choosen point: (0.0, 1.0, 0.0)\n"
     ]
    }
   ],
   "source": [
    "while len(q) > 0:\n",
    "    max_angle = -float(\"inf\")\n",
    "    e = q.popleft()\n",
    "    print(\"First edge:\", e)\n",
    "    print(\"P1:\", e.p1)\n",
    "    print(\"P2:\", e.p2)\n",
    "    print()\n",
    "    for v in vertices:\n",
    "        if v != e.p1 and v != e.p2:\n",
    "            print(\"Analyzing vertex:\", v)\n",
    "            ang = angle(sub(e.p1, v), sub(e.p2, v))\n",
    "            print(\"The angle is:\", ang)\n",
    "            if ang > max_angle:\n",
    "                max_angle = ang\n",
    "                point = v\n",
    "        else:\n",
    "            print(v,\"is part of edge.\")\n",
    "    \n",
    "    if point is None:\n",
    "        print(\"Object can't be triangulated.\")\n",
    "        break\n",
    "    print(\"Choosen point:\", point)        \n",
    "    # Verificar se existe aresta e.p2->v e v->e.p1\n",
    "    # Se existir, é a aresta procurada.\n",
    "    # Se não, verificar se existe no sentido oposto, ou seja\n",
    "    # v->e.p2 e e.p1->v\n",
    "    # Se existir (?) inverter? Não sei ainda.\n",
    "    # REF: https://github.com/carolhmj/advancing-front/blob/master/AdvancingFront/model.cpp\n",
    "    # Se não existir, criar aresta."
   ]
  }
 ],
 "metadata": {
  "kernelspec": {
   "display_name": "Python 3",
   "language": "python",
   "name": "python3"
  },
  "language_info": {
   "codemirror_mode": {
    "name": "ipython",
    "version": 3
   },
   "file_extension": ".py",
   "mimetype": "text/x-python",
   "name": "python",
   "nbconvert_exporter": "python",
   "pygments_lexer": "ipython3",
   "version": "3.8.7"
  }
 },
 "nbformat": 4,
 "nbformat_minor": 5
}
